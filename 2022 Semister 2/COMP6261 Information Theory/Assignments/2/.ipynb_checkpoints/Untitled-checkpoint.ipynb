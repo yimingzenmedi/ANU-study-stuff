{
 "cells": [
  {
   "cell_type": "code",
   "execution_count": 275,
   "metadata": {},
   "outputs": [],
   "source": [
    "import numpy as np\n",
    "from scipy import stats\n",
    "from scipy.special import comb\n",
    "import matplotlib.pyplot as plt\n",
    "import math"
   ]
  },
  {
   "cell_type": "code",
   "execution_count": 276,
   "metadata": {},
   "outputs": [],
   "source": [
    "p = 1/7\n",
    "N = [n * 3 for n in range(1, 11)]\n",
    "# N"
   ]
  },
  {
   "cell_type": "code",
   "execution_count": 277,
   "metadata": {},
   "outputs": [],
   "source": [
    "b1 = [3 * p for n in N]\n",
    "# b1"
   ]
  },
  {
   "cell_type": "code",
   "execution_count": 278,
   "metadata": {},
   "outputs": [],
   "source": [
    "b2 = [(n * p * (1-p)) / ((n/3 - n*p) ** 2) for n in N]\n",
    "# b2"
   ]
  },
  {
   "cell_type": "code",
   "execution_count": 279,
   "metadata": {},
   "outputs": [],
   "source": [
    "def getP(p, n):\n",
    "    y = stats.binom.pmf(range(n+1), n ,p)\n",
    "#     print(\"y:\", y)\n",
    "    n_3 = n / 3\n",
    "    if int(n_3) - n_3 != 0:\n",
    "        n_3 = int(n_3) + 1\n",
    "#     print(\"n / 3:\", n_3)\n",
    "    n_3 = int(n_3)\n",
    "    \n",
    "    P = y[n_3:].sum()\n",
    "    print(\"P:\", P)\n",
    "    return P"
   ]
  },
  {
   "cell_type": "code",
   "execution_count": 280,
   "metadata": {},
   "outputs": [
    {
     "name": "stdout",
     "output_type": "stream",
     "text": [
      "P: 0.3702623906705538\n",
      "P: 0.20686108679206788\n",
      "P: 0.12592854462799308\n",
      "P: 0.07969486081614598\n",
      "P: 0.051581690392872935\n",
      "P: 0.033882448285835955\n",
      "P: 0.022491184612753345\n",
      "P: 0.01504756948201711\n",
      "P: 0.010129354164162281\n",
      "P: 0.006852230380517695\n"
     ]
    }
   ],
   "source": [
    "P = [getP(p, n) for n in N]"
   ]
  },
  {
   "cell_type": "code",
   "execution_count": 281,
   "metadata": {},
   "outputs": [
    {
     "name": "stdout",
     "output_type": "stream",
     "text": [
      "P: 0.3702623906705538\n",
      "P: 0.20686108679206788\n",
      "P: 0.12592854462799308\n",
      "P: 0.07969486081614598\n",
      "P: 0.051581690392872935\n",
      "P: 0.033882448285835955\n",
      "P: 0.022491184612753345\n",
      "P: 0.01504756948201711\n",
      "P: 0.010129354164162281\n",
      "P: 0.006852230380517695\n"
     ]
    },
    {
     "data": {
      "image/png": "[encoded data removed]",
      "text/plain": [
       "<Figure size 576x576 with 1 Axes>"
      ]
     },
     "metadata": {
      "needs_background": "light"
     },
     "output_type": "display_data"
    }
   ],
   "source": [
    "plt.figure(figsize=(8, 8))\n",
    "plt.plot(N, b1,  color=\"r\", label=\"bound 1\")\n",
    "plt.plot(N, b2, color=\"g\", label=\"bound 2\")\n",
    "plt.plot(N, [getP(p, n) for n in N], color=\"y\", label=\"exact probability\")\n",
    "\n",
    "plt.legend()\n",
    "\n",
    "plt.plot(N, b1, 'o', color=\"r\")\n",
    "plt.plot(N, b2, 'o', color=\"g\")\n",
    "plt.plot(N, P, 'o', color=\"y\")\n",
    "# for i in range(len(N)):\n",
    "#     n = N[i]\n",
    "#     b1_ = b1[i]\n",
    "#     plt.text(n, b1_, \"%.4f\"%b1_, fontsize=9, color=\"r\")\n",
    "# for i in range(len(N)):\n",
    "#     n = N[i]\n",
    "#     b2_ = b2[i]\n",
    "#     plt.text(n, b2_, \"%.4f\"%b2_, fontsize=9, color=\"g\")\n",
    "for i in range(len(N)):\n",
    "    n = N[i]\n",
    "    P_ = P[i]\n",
    "    plt.text(n, P_, \"%.4f\"%P_, fontsize=9, color=\"y\")"
   ]
  },
  {
   "cell_type": "code",
   "execution_count": null,
   "metadata": {},
   "outputs": [],
   "source": []
  },
  {
   "cell_type": "markdown",
   "metadata": {},
   "source": [
    "# Q3 e"
   ]
  },
  {
   "cell_type": "code",
   "execution_count": 282,
   "metadata": {},
   "outputs": [],
   "source": [
    "ph = 0.8\n",
    "# pt = 0.2"
   ]
  },
  {
   "cell_type": "code",
   "execution_count": 283,
   "metadata": {},
   "outputs": [],
   "source": [
    "# def comb(n, m):\n",
    "#     return math.factorial(n)//(math.factorial(m)*math.factorial(n-m))"
   ]
  },
  {
   "cell_type": "code",
   "execution_count": 284,
   "metadata": {},
   "outputs": [],
   "source": [
    "def getSmallestSubsetP(N, sigma):\n",
    "#     print()\n",
    "    P = []\n",
    "    threshold = 1 - sigma\n",
    "\n",
    "    for time_h in range(N+1):\n",
    "        time_t = N - time_h\n",
    "        p = comb(N, time_h) * (ph ** time_h) * (pt ** time_t) \n",
    "        P.append(p)\n",
    "        sum_p = sum(P)\n",
    "        if sum_p >= threshold or math.isclose(sum_p, threshold, rel_tol=1e-4):\n",
    "#             print(N, sigma, sum(P), time_h)\n",
    "            return time_h\n",
    "    print(N, sigma, sum(P), time_h)\n",
    "    return None, None"
   ]
  },
  {
   "cell_type": "code",
   "execution_count": 285,
   "metadata": {},
   "outputs": [],
   "source": [
    "def getEssentialBitContent(time_h, N):\n",
    "    H = np.log2(time_h)\n",
    "    return H / N"
   ]
  },
  {
   "cell_type": "code",
   "execution_count": 312,
   "metadata": {},
   "outputs": [],
   "source": [
    "sigma = [i * 0.01 for i in range(0, 101)]\n",
    "# sigma"
   ]
  },
  {
   "cell_type": "code",
   "execution_count": 313,
   "metadata": {},
   "outputs": [
    {
     "data": {
      "text/plain": [
       "[10, 50, 100, 250, 500, 1010]"
      ]
     },
     "execution_count": 313,
     "metadata": {},
     "output_type": "execute_result"
    }
   ],
   "source": [
    "N = [10, 50, 100, 250, 500, 1010]\n",
    "N"
   ]
  },
  {
   "cell_type": "code",
   "execution_count": 314,
   "metadata": {},
   "outputs": [],
   "source": [
    "# t = 1001\n",
    "# for n in range(t):\n",
    "#     print(comb(t, n))"
   ]
  },
  {
   "cell_type": "code",
   "execution_count": null,
   "metadata": {},
   "outputs": [
    {
     "name": "stderr",
     "output_type": "stream",
     "text": [
      "D:\\Software\\Anaconda3\\lib\\site-packages\\ipykernel_launcher.py:2: RuntimeWarning: divide by zero encountered in log2\n",
      "  \n"
     ]
    }
   ],
   "source": [
    "plt.figure(figsize=(11, 13))\n",
    "counter = 0\n",
    "for n in N:\n",
    "    counter += 1\n",
    "    H = []\n",
    "    for s in sigma:\n",
    "        time_h = getSmallestSubsetP(n, s)\n",
    "        H.append(getEssentialBitContent(time_h, n))\n",
    "    ax = plt.subplot(4, 2, counter)\n",
    "    ax.set_title(f\"N={n}\")\n",
    "    plt.subplots_adjust(wspace = 0.4, hspace = 0.4)\n",
    "    plt.xlabel('sigma')\n",
    "    plt.ylabel('Normalised Essential Bit Content')\n",
    "    plt.plot(sigma, H)\n",
    "plt.show()\n",
    "        "
   ]
  },
  {
   "cell_type": "code",
   "execution_count": null,
   "metadata": {},
   "outputs": [],
   "source": []
  },
  {
   "cell_type": "code",
   "execution_count": null,
   "metadata": {},
   "outputs": [],
   "source": []
  }
 ],
 "metadata": {
  "kernelspec": {
   "display_name": "Python 3",
   "language": "python",
   "name": "python3"
  },
  "language_info": {
   "codemirror_mode": {
    "name": "ipython",
    "version": 3
   },
   "file_extension": ".py",
   "mimetype": "text/x-python",
   "name": "python",
   "nbconvert_exporter": "python",
   "pygments_lexer": "ipython3",
   "version": "3.7.4"
  }
 },
 "nbformat": 4,
 "nbformat_minor": 4
}
