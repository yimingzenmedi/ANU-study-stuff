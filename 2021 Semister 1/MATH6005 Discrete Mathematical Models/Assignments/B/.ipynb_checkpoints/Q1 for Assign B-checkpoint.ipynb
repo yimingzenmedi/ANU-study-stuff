{
 "cells": [
  {
   "cell_type": "code",
   "execution_count": 39,
   "metadata": {
    "ExecuteTime": {
     "end_time": "2021-04-28T04:43:21.664768Z",
     "start_time": "2021-04-28T04:43:21.650780Z"
    }
   },
   "outputs": [],
   "source": [
    "import numpy as np"
   ]
  },
  {
   "cell_type": "code",
   "execution_count": 40,
   "metadata": {
    "ExecuteTime": {
     "end_time": "2021-04-28T04:43:27.248195Z",
     "start_time": "2021-04-28T04:43:27.242199Z"
    }
   },
   "outputs": [],
   "source": [
    "# Q1 A"
   ]
  },
  {
   "cell_type": "code",
   "execution_count": 56,
   "metadata": {
    "ExecuteTime": {
     "end_time": "2021-04-28T05:40:45.639646Z",
     "start_time": "2021-04-28T05:40:45.619660Z"
    }
   },
   "outputs": [],
   "source": [
    "def getCompanion(p: int, willPrint=True):\n",
    "    g_set = [i for i in range(1, p)]\n",
    "    g_set.sort()\n",
    "    if willPrint:\n",
    "        print(\"g_set:\", g_set)\n",
    "    companions = []\n",
    "    for g in g_set:\n",
    "        if willPrint:\n",
    "            print(\"\\ng:\", g)\n",
    "        tmp = []\n",
    "        for a in range(1, p):\n",
    "            res = (g ** a) % p\n",
    "            if willPrint:\n",
    "                print(\"a:\", a, \", g % p:\", g % p, \", g^a:\", g ** a, \", g^a % p:\", (g ** a) % p )\n",
    "            if res not in tmp:\n",
    "                tmp.append(res)\n",
    "                \n",
    "        tmp.sort()\n",
    "        if willPrint:\n",
    "            print(\"res:\", g, \":\", tmp)\n",
    "\n",
    "        if tmp == g_set:\n",
    "            companions.append(g)\n",
    "    return companions"
   ]
  },
  {
   "cell_type": "code",
   "execution_count": 57,
   "metadata": {
    "ExecuteTime": {
     "end_time": "2021-04-28T05:40:46.257691Z",
     "start_time": "2021-04-28T05:40:46.181219Z"
    }
   },
   "outputs": [
    {
     "name": "stdout",
     "output_type": "stream",
     "text": [
      "g_set: [1, 2, 3, 4, 5, 6, 7, 8, 9, 10]\n",
      "\n",
      "g: 1\n",
      "a: 1 g % p: 1 , g^a: 1 , g^a % p: 1\n",
      "a: 2 g % p: 1 , g^a: 1 , g^a % p: 1\n",
      "a: 3 g % p: 1 , g^a: 1 , g^a % p: 1\n",
      "a: 4 g % p: 1 , g^a: 1 , g^a % p: 1\n",
      "a: 5 g % p: 1 , g^a: 1 , g^a % p: 1\n",
      "a: 6 g % p: 1 , g^a: 1 , g^a % p: 1\n",
      "a: 7 g % p: 1 , g^a: 1 , g^a % p: 1\n",
      "a: 8 g % p: 1 , g^a: 1 , g^a % p: 1\n",
      "a: 9 g % p: 1 , g^a: 1 , g^a % p: 1\n",
      "a: 10 g % p: 1 , g^a: 1 , g^a % p: 1\n",
      "res: 1 : [1]\n",
      "\n",
      "g: 2\n",
      "a: 1 g % p: 2 , g^a: 2 , g^a % p: 2\n",
      "a: 2 g % p: 2 , g^a: 4 , g^a % p: 4\n",
      "a: 3 g % p: 2 , g^a: 8 , g^a % p: 8\n",
      "a: 4 g % p: 2 , g^a: 16 , g^a % p: 5\n",
      "a: 5 g % p: 2 , g^a: 32 , g^a % p: 10\n",
      "a: 6 g % p: 2 , g^a: 64 , g^a % p: 9\n",
      "a: 7 g % p: 2 , g^a: 128 , g^a % p: 7\n",
      "a: 8 g % p: 2 , g^a: 256 , g^a % p: 3\n",
      "a: 9 g % p: 2 , g^a: 512 , g^a % p: 6\n",
      "a: 10 g % p: 2 , g^a: 1024 , g^a % p: 1\n",
      "res: 2 : [1, 2, 3, 4, 5, 6, 7, 8, 9, 10]\n",
      "\n",
      "g: 3\n",
      "a: 1 g % p: 3 , g^a: 3 , g^a % p: 3\n",
      "a: 2 g % p: 3 , g^a: 9 , g^a % p: 9\n",
      "a: 3 g % p: 3 , g^a: 27 , g^a % p: 5\n",
      "a: 4 g % p: 3 , g^a: 81 , g^a % p: 4\n",
      "a: 5 g % p: 3 , g^a: 243 , g^a % p: 1\n",
      "a: 6 g % p: 3 , g^a: 729 , g^a % p: 3\n",
      "a: 7 g % p: 3 , g^a: 2187 , g^a % p: 9\n",
      "a: 8 g % p: 3 , g^a: 6561 , g^a % p: 5\n",
      "a: 9 g % p: 3 , g^a: 19683 , g^a % p: 4\n",
      "a: 10 g % p: 3 , g^a: 59049 , g^a % p: 1\n",
      "res: 3 : [1, 3, 4, 5, 9]\n",
      "\n",
      "g: 4\n",
      "a: 1 g % p: 4 , g^a: 4 , g^a % p: 4\n",
      "a: 2 g % p: 4 , g^a: 16 , g^a % p: 5\n",
      "a: 3 g % p: 4 , g^a: 64 , g^a % p: 9\n",
      "a: 4 g % p: 4 , g^a: 256 , g^a % p: 3\n",
      "a: 5 g % p: 4 , g^a: 1024 , g^a % p: 1\n",
      "a: 6 g % p: 4 , g^a: 4096 , g^a % p: 4\n",
      "a: 7 g % p: 4 , g^a: 16384 , g^a % p: 5\n",
      "a: 8 g % p: 4 , g^a: 65536 , g^a % p: 9\n",
      "a: 9 g % p: 4 , g^a: 262144 , g^a % p: 3\n",
      "a: 10 g % p: 4 , g^a: 1048576 , g^a % p: 1\n",
      "res: 4 : [1, 3, 4, 5, 9]\n",
      "\n",
      "g: 5\n",
      "a: 1 g % p: 5 , g^a: 5 , g^a % p: 5\n",
      "a: 2 g % p: 5 , g^a: 25 , g^a % p: 3\n",
      "a: 3 g % p: 5 , g^a: 125 , g^a % p: 4\n",
      "a: 4 g % p: 5 , g^a: 625 , g^a % p: 9\n",
      "a: 5 g % p: 5 , g^a: 3125 , g^a % p: 1\n",
      "a: 6 g % p: 5 , g^a: 15625 , g^a % p: 5\n",
      "a: 7 g % p: 5 , g^a: 78125 , g^a % p: 3\n",
      "a: 8 g % p: 5 , g^a: 390625 , g^a % p: 4\n",
      "a: 9 g % p: 5 , g^a: 1953125 , g^a % p: 9\n",
      "a: 10 g % p: 5 , g^a: 9765625 , g^a % p: 1\n",
      "res: 5 : [1, 3, 4, 5, 9]\n",
      "\n",
      "g: 6\n",
      "a: 1 g % p: 6 , g^a: 6 , g^a % p: 6\n",
      "a: 2 g % p: 6 , g^a: 36 , g^a % p: 3\n",
      "a: 3 g % p: 6 , g^a: 216 , g^a % p: 7\n",
      "a: 4 g % p: 6 , g^a: 1296 , g^a % p: 9\n",
      "a: 5 g % p: 6 , g^a: 7776 , g^a % p: 10\n",
      "a: 6 g % p: 6 , g^a: 46656 , g^a % p: 5\n",
      "a: 7 g % p: 6 , g^a: 279936 , g^a % p: 8\n",
      "a: 8 g % p: 6 , g^a: 1679616 , g^a % p: 4\n",
      "a: 9 g % p: 6 , g^a: 10077696 , g^a % p: 2\n",
      "a: 10 g % p: 6 , g^a: 60466176 , g^a % p: 1\n",
      "res: 6 : [1, 2, 3, 4, 5, 6, 7, 8, 9, 10]\n",
      "\n",
      "g: 7\n",
      "a: 1 g % p: 7 , g^a: 7 , g^a % p: 7\n",
      "a: 2 g % p: 7 , g^a: 49 , g^a % p: 5\n",
      "a: 3 g % p: 7 , g^a: 343 , g^a % p: 2\n",
      "a: 4 g % p: 7 , g^a: 2401 , g^a % p: 3\n",
      "a: 5 g % p: 7 , g^a: 16807 , g^a % p: 10\n",
      "a: 6 g % p: 7 , g^a: 117649 , g^a % p: 4\n",
      "a: 7 g % p: 7 , g^a: 823543 , g^a % p: 6\n",
      "a: 8 g % p: 7 , g^a: 5764801 , g^a % p: 9\n",
      "a: 9 g % p: 7 , g^a: 40353607 , g^a % p: 8\n",
      "a: 10 g % p: 7 , g^a: 282475249 , g^a % p: 1\n",
      "res: 7 : [1, 2, 3, 4, 5, 6, 7, 8, 9, 10]\n",
      "\n",
      "g: 8\n",
      "a: 1 g % p: 8 , g^a: 8 , g^a % p: 8\n",
      "a: 2 g % p: 8 , g^a: 64 , g^a % p: 9\n",
      "a: 3 g % p: 8 , g^a: 512 , g^a % p: 6\n",
      "a: 4 g % p: 8 , g^a: 4096 , g^a % p: 4\n",
      "a: 5 g % p: 8 , g^a: 32768 , g^a % p: 10\n",
      "a: 6 g % p: 8 , g^a: 262144 , g^a % p: 3\n",
      "a: 7 g % p: 8 , g^a: 2097152 , g^a % p: 2\n",
      "a: 8 g % p: 8 , g^a: 16777216 , g^a % p: 5\n",
      "a: 9 g % p: 8 , g^a: 134217728 , g^a % p: 7\n",
      "a: 10 g % p: 8 , g^a: 1073741824 , g^a % p: 1\n",
      "res: 8 : [1, 2, 3, 4, 5, 6, 7, 8, 9, 10]\n",
      "\n",
      "g: 9\n",
      "a: 1 g % p: 9 , g^a: 9 , g^a % p: 9\n",
      "a: 2 g % p: 9 , g^a: 81 , g^a % p: 4\n",
      "a: 3 g % p: 9 , g^a: 729 , g^a % p: 3\n",
      "a: 4 g % p: 9 , g^a: 6561 , g^a % p: 5\n",
      "a: 5 g % p: 9 , g^a: 59049 , g^a % p: 1\n",
      "a: 6 g % p: 9 , g^a: 531441 , g^a % p: 9\n",
      "a: 7 g % p: 9 , g^a: 4782969 , g^a % p: 4\n",
      "a: 8 g % p: 9 , g^a: 43046721 , g^a % p: 3\n",
      "a: 9 g % p: 9 , g^a: 387420489 , g^a % p: 5\n",
      "a: 10 g % p: 9 , g^a: 3486784401 , g^a % p: 1\n",
      "res: 9 : [1, 3, 4, 5, 9]\n",
      "\n",
      "g: 10\n",
      "a: 1 g % p: 10 , g^a: 10 , g^a % p: 10\n",
      "a: 2 g % p: 10 , g^a: 100 , g^a % p: 1\n",
      "a: 3 g % p: 10 , g^a: 1000 , g^a % p: 10\n",
      "a: 4 g % p: 10 , g^a: 10000 , g^a % p: 1\n",
      "a: 5 g % p: 10 , g^a: 100000 , g^a % p: 10\n",
      "a: 6 g % p: 10 , g^a: 1000000 , g^a % p: 1\n",
      "a: 7 g % p: 10 , g^a: 10000000 , g^a % p: 10\n",
      "a: 8 g % p: 10 , g^a: 100000000 , g^a % p: 1\n",
      "a: 9 g % p: 10 , g^a: 1000000000 , g^a % p: 10\n",
      "a: 10 g % p: 10 , g^a: 10000000000 , g^a % p: 1\n",
      "res: 10 : [1, 10]\n"
     ]
    },
    {
     "data": {
      "text/plain": [
       "[2, 6, 7, 8]"
      ]
     },
     "execution_count": 57,
     "metadata": {},
     "output_type": "execute_result"
    }
   ],
   "source": [
    "getCompanion(11)"
   ]
  },
  {
   "cell_type": "code",
   "execution_count": 58,
   "metadata": {
    "ExecuteTime": {
     "end_time": "2021-04-28T05:40:46.513255Z",
     "start_time": "2021-04-28T05:40:46.504265Z"
    }
   },
   "outputs": [],
   "source": [
    "[1, 2, 3, 4, 5, 6, 7, 8].sort()"
   ]
  },
  {
   "cell_type": "code",
   "execution_count": 59,
   "metadata": {
    "ExecuteTime": {
     "end_time": "2021-04-28T05:40:47.205366Z",
     "start_time": "2021-04-28T05:40:47.191375Z"
    }
   },
   "outputs": [
    {
     "data": {
      "text/plain": [
       "177147"
      ]
     },
     "execution_count": 59,
     "metadata": {},
     "output_type": "execute_result"
    }
   ],
   "source": [
    "3** 11"
   ]
  },
  {
   "cell_type": "code",
   "execution_count": 60,
   "metadata": {
    "ExecuteTime": {
     "end_time": "2021-04-28T05:40:48.063299Z",
     "start_time": "2021-04-28T05:40:48.048309Z"
    }
   },
   "outputs": [
    {
     "data": {
      "text/plain": [
       "3"
      ]
     },
     "execution_count": 60,
     "metadata": {},
     "output_type": "execute_result"
    }
   ],
   "source": [
    "177147 %11"
   ]
  },
  {
   "cell_type": "code",
   "execution_count": 61,
   "metadata": {
    "ExecuteTime": {
     "end_time": "2021-04-28T05:52:38.489503Z",
     "start_time": "2021-04-28T05:40:48.848319Z"
    }
   },
   "outputs": [
    {
     "ename": "KeyboardInterrupt",
     "evalue": "",
     "output_type": "error",
     "traceback": [
      "\u001b[1;31m---------------------------------------------------------------------------\u001b[0m",
      "\u001b[1;31mKeyboardInterrupt\u001b[0m                         Traceback (most recent call last)",
      "\u001b[1;32m<ipython-input-61-2d9b840859e3>\u001b[0m in \u001b[0;36m<module>\u001b[1;34m\u001b[0m\n\u001b[1;32m----> 1\u001b[1;33m \u001b[0mgetCompanion\u001b[0m\u001b[1;33m(\u001b[0m\u001b[1;36m104651\u001b[0m\u001b[1;33m,\u001b[0m \u001b[1;32mFalse\u001b[0m\u001b[1;33m)\u001b[0m\u001b[1;33m\u001b[0m\u001b[1;33m\u001b[0m\u001b[0m\n\u001b[0m",
      "\u001b[1;32m<ipython-input-56-b955833d268c>\u001b[0m in \u001b[0;36mgetCompanion\u001b[1;34m(p, willPrint)\u001b[0m\n\u001b[0;32m     14\u001b[0m                 \u001b[0mprint\u001b[0m\u001b[1;33m(\u001b[0m\u001b[1;34m\"a:\"\u001b[0m\u001b[1;33m,\u001b[0m \u001b[0ma\u001b[0m\u001b[1;33m,\u001b[0m \u001b[1;34m\"g % p:\"\u001b[0m\u001b[1;33m,\u001b[0m \u001b[0mg\u001b[0m \u001b[1;33m%\u001b[0m \u001b[0mp\u001b[0m\u001b[1;33m,\u001b[0m \u001b[1;34m\", g^a:\"\u001b[0m\u001b[1;33m,\u001b[0m \u001b[0mg\u001b[0m \u001b[1;33m**\u001b[0m \u001b[0ma\u001b[0m\u001b[1;33m,\u001b[0m \u001b[1;34m\", g^a % p:\"\u001b[0m\u001b[1;33m,\u001b[0m \u001b[1;33m(\u001b[0m\u001b[0mg\u001b[0m \u001b[1;33m**\u001b[0m \u001b[0ma\u001b[0m\u001b[1;33m)\u001b[0m \u001b[1;33m%\u001b[0m \u001b[0mp\u001b[0m \u001b[1;33m)\u001b[0m\u001b[1;33m\u001b[0m\u001b[1;33m\u001b[0m\u001b[0m\n\u001b[0;32m     15\u001b[0m             \u001b[1;32mif\u001b[0m \u001b[0mres\u001b[0m \u001b[1;32mnot\u001b[0m \u001b[1;32min\u001b[0m \u001b[0mtmp\u001b[0m\u001b[1;33m:\u001b[0m\u001b[1;33m\u001b[0m\u001b[1;33m\u001b[0m\u001b[0m\n\u001b[1;32m---> 16\u001b[1;33m                 \u001b[0mtmp\u001b[0m\u001b[1;33m.\u001b[0m\u001b[0mappend\u001b[0m\u001b[1;33m(\u001b[0m\u001b[0mres\u001b[0m\u001b[1;33m)\u001b[0m\u001b[1;33m\u001b[0m\u001b[1;33m\u001b[0m\u001b[0m\n\u001b[0m\u001b[0;32m     17\u001b[0m \u001b[1;33m\u001b[0m\u001b[0m\n\u001b[0;32m     18\u001b[0m         \u001b[0mtmp\u001b[0m\u001b[1;33m.\u001b[0m\u001b[0msort\u001b[0m\u001b[1;33m(\u001b[0m\u001b[1;33m)\u001b[0m\u001b[1;33m\u001b[0m\u001b[1;33m\u001b[0m\u001b[0m\n",
      "\u001b[1;31mKeyboardInterrupt\u001b[0m: "
     ]
    }
   ],
   "source": [
    "getCompanion(104651, False)"
   ]
  },
  {
   "cell_type": "code",
   "execution_count": 64,
   "metadata": {
    "ExecuteTime": {
     "end_time": "2021-04-28T05:53:25.238847Z",
     "start_time": "2021-04-28T05:53:25.218841Z"
    }
   },
   "outputs": [],
   "source": [
    "def verifyCompanion(p: int, g: int):\n",
    "    G = [i for i in range(1, p)]\n",
    "    G.sort()\n",
    "    res = []\n",
    "    if g not in G:\n",
    "        return False\n",
    "    print(\"pass 1\")\n",
    "    res = []\n",
    "    for a in range(1, p):\n",
    "        r = (g ** a) % p\n",
    "        if r not in res:\n",
    "            res.append(r)\n",
    "    res.sort()\n",
    "    return res == G"
   ]
  },
  {
   "cell_type": "code",
   "execution_count": 65,
   "metadata": {
    "ExecuteTime": {
     "end_time": "2021-04-28T07:14:11.968716Z",
     "start_time": "2021-04-28T05:53:25.927276Z"
    }
   },
   "outputs": [
    {
     "name": "stdout",
     "output_type": "stream",
     "text": [
      "pass 1\n"
     ]
    },
    {
     "data": {
      "text/plain": [
       "True"
      ]
     },
     "execution_count": 65,
     "metadata": {},
     "output_type": "execute_result"
    }
   ],
   "source": [
    "verifyCompanion(104651, 24578)"
   ]
  },
  {
   "cell_type": "code",
   "execution_count": null,
   "metadata": {},
   "outputs": [],
   "source": []
  },
  {
   "cell_type": "code",
   "execution_count": 70,
   "metadata": {
    "ExecuteTime": {
     "end_time": "2021-04-29T04:44:20.014303Z",
     "start_time": "2021-04-29T04:44:19.997316Z"
    }
   },
   "outputs": [],
   "source": [
    "def factorial(n: int):\n",
    "    a = 1\n",
    "    for i in range(n, 0, -1):\n",
    "#         print(i)\n",
    "        a = a * i\n",
    "    return a"
   ]
  },
  {
   "cell_type": "code",
   "execution_count": 71,
   "metadata": {
    "ExecuteTime": {
     "end_time": "2021-04-29T04:44:20.407131Z",
     "start_time": "2021-04-29T04:44:20.398136Z"
    }
   },
   "outputs": [
    {
     "data": {
      "text/plain": [
       "6"
      ]
     },
     "execution_count": 71,
     "metadata": {},
     "output_type": "execute_result"
    }
   ],
   "source": [
    "factorial(3)"
   ]
  },
  {
   "cell_type": "code",
   "execution_count": 72,
   "metadata": {
    "ExecuteTime": {
     "end_time": "2021-04-29T04:46:31.934805Z",
     "start_time": "2021-04-29T04:46:31.916795Z"
    }
   },
   "outputs": [],
   "source": [
    "def findMin(N: int):\n",
    "    S = 365 ** N\n",
    "    Ec = factorial(365) / (S * factorial(365 - N))\n",
    "    return 1 - Ec\n"
   ]
  },
  {
   "cell_type": "code",
   "execution_count": 76,
   "metadata": {
    "ExecuteTime": {
     "end_time": "2021-04-29T04:47:45.536589Z",
     "start_time": "2021-04-29T04:47:45.516603Z"
    }
   },
   "outputs": [
    {
     "data": {
      "text/plain": [
       "0.5686997039694639"
      ]
     },
     "execution_count": 76,
     "metadata": {},
     "output_type": "execute_result"
    }
   ],
   "source": [
    "findMin(25)"
   ]
  },
  {
   "cell_type": "code",
   "execution_count": 77,
   "metadata": {
    "ExecuteTime": {
     "end_time": "2021-04-29T04:48:18.719657Z",
     "start_time": "2021-04-29T04:48:18.706645Z"
    }
   },
   "outputs": [
    {
     "data": {
      "text/plain": [
       "0.7063162427192686"
      ]
     },
     "execution_count": 77,
     "metadata": {},
     "output_type": "execute_result"
    }
   ],
   "source": [
    "findMin(30)"
   ]
  },
  {
   "cell_type": "code",
   "execution_count": 78,
   "metadata": {
    "ExecuteTime": {
     "end_time": "2021-04-29T04:48:36.486314Z",
     "start_time": "2021-04-29T04:48:36.479319Z"
    }
   },
   "outputs": [
    {
     "data": {
      "text/plain": [
       "0.8143832388747152"
      ]
     },
     "execution_count": 78,
     "metadata": {},
     "output_type": "execute_result"
    }
   ],
   "source": [
    "findMin(35)"
   ]
  },
  {
   "cell_type": "code",
   "execution_count": 79,
   "metadata": {
    "ExecuteTime": {
     "end_time": "2021-04-29T04:48:52.185523Z",
     "start_time": "2021-04-29T04:48:52.170539Z"
    }
   },
   "outputs": [
    {
     "data": {
      "text/plain": [
       "0.891231809817949"
      ]
     },
     "execution_count": 79,
     "metadata": {},
     "output_type": "execute_result"
    }
   ],
   "source": [
    "findMin(40)"
   ]
  },
  {
   "cell_type": "code",
   "execution_count": 80,
   "metadata": {
    "ExecuteTime": {
     "end_time": "2021-04-29T04:49:01.483113Z",
     "start_time": "2021-04-29T04:49:01.477114Z"
    }
   },
   "outputs": [
    {
     "data": {
      "text/plain": [
       "0.940975899465775"
      ]
     },
     "execution_count": 80,
     "metadata": {},
     "output_type": "execute_result"
    }
   ],
   "source": [
    "findMin(45)"
   ]
  },
  {
   "cell_type": "code",
   "execution_count": 81,
   "metadata": {
    "ExecuteTime": {
     "end_time": "2021-04-29T04:49:20.221650Z",
     "start_time": "2021-04-29T04:49:20.208654Z"
    }
   },
   "outputs": [
    {
     "data": {
      "text/plain": [
       "0.02713557369979358"
      ]
     },
     "execution_count": 81,
     "metadata": {},
     "output_type": "execute_result"
    }
   ],
   "source": [
    "findMin(5)"
   ]
  },
  {
   "cell_type": "code",
   "execution_count": 82,
   "metadata": {
    "ExecuteTime": {
     "end_time": "2021-04-29T04:49:25.994731Z",
     "start_time": "2021-04-29T04:49:25.987736Z"
    }
   },
   "outputs": [
    {
     "data": {
      "text/plain": [
       "0.9703735795779884"
      ]
     },
     "execution_count": 82,
     "metadata": {},
     "output_type": "execute_result"
    }
   ],
   "source": [
    "findMin(50)"
   ]
  },
  {
   "cell_type": "code",
   "execution_count": 83,
   "metadata": {
    "ExecuteTime": {
     "end_time": "2021-04-29T04:49:38.164180Z",
     "start_time": "2021-04-29T04:49:38.152183Z"
    }
   },
   "outputs": [
    {
     "data": {
      "text/plain": [
       "0.9862622888164461"
      ]
     },
     "execution_count": 83,
     "metadata": {},
     "output_type": "execute_result"
    }
   ],
   "source": [
    "findMin(55)"
   ]
  },
  {
   "cell_type": "code",
   "execution_count": 84,
   "metadata": {
    "ExecuteTime": {
     "end_time": "2021-04-29T04:49:46.378330Z",
     "start_time": "2021-04-29T04:49:46.365338Z"
    }
   },
   "outputs": [
    {
     "data": {
      "text/plain": [
       "0.994122660865348"
      ]
     },
     "execution_count": 84,
     "metadata": {},
     "output_type": "execute_result"
    }
   ],
   "source": [
    "findMin(60)"
   ]
  },
  {
   "cell_type": "code",
   "execution_count": 85,
   "metadata": {
    "ExecuteTime": {
     "end_time": "2021-04-29T04:49:57.510841Z",
     "start_time": "2021-04-29T04:49:57.503849Z"
    }
   },
   "outputs": [
    {
     "data": {
      "text/plain": [
       "0.9976831073124921"
      ]
     },
     "execution_count": 85,
     "metadata": {},
     "output_type": "execute_result"
    }
   ],
   "source": [
    "findMin(65)"
   ]
  },
  {
   "cell_type": "code",
   "execution_count": 86,
   "metadata": {
    "ExecuteTime": {
     "end_time": "2021-04-29T04:50:14.463801Z",
     "start_time": "2021-04-29T04:50:14.457803Z"
    }
   },
   "outputs": [
    {
     "data": {
      "text/plain": [
       "0.9991595759651571"
      ]
     },
     "execution_count": 86,
     "metadata": {},
     "output_type": "execute_result"
    }
   ],
   "source": [
    "findMin(70)"
   ]
  },
  {
   "cell_type": "code",
   "execution_count": 87,
   "metadata": {
    "ExecuteTime": {
     "end_time": "2021-04-29T04:50:29.372431Z",
     "start_time": "2021-04-29T04:50:29.356419Z"
    }
   },
   "outputs": [
    {
     "data": {
      "text/plain": [
       "0.9997198781738114"
      ]
     },
     "execution_count": 87,
     "metadata": {},
     "output_type": "execute_result"
    }
   ],
   "source": [
    "findMin(75)"
   ]
  },
  {
   "cell_type": "code",
   "execution_count": null,
   "metadata": {},
   "outputs": [],
   "source": []
  },
  {
   "cell_type": "code",
   "execution_count": 99,
   "metadata": {
    "ExecuteTime": {
     "end_time": "2021-04-30T05:29:55.089284Z",
     "start_time": "2021-04-30T05:29:55.082288Z"
    }
   },
   "outputs": [
    {
     "data": {
      "text/plain": [
       "0.0009765625"
      ]
     },
     "execution_count": 99,
     "metadata": {},
     "output_type": "execute_result"
    }
   ],
   "source": [
    "a = 2 ** -10\n",
    "a"
   ]
  },
  {
   "cell_type": "code",
   "execution_count": 101,
   "metadata": {
    "ExecuteTime": {
     "end_time": "2021-04-30T05:45:02.851078Z",
     "start_time": "2021-04-30T05:45:02.834070Z"
    }
   },
   "outputs": [
    {
     "data": {
      "text/plain": [
       "0.0016937255859375"
      ]
     },
     "execution_count": 101,
     "metadata": {},
     "output_type": "execute_result"
    }
   ],
   "source": [
    "1.734375 * a"
   ]
  },
  {
   "cell_type": "code",
   "execution_count": 105,
   "metadata": {
    "ExecuteTime": {
     "end_time": "2021-04-30T05:56:11.814938Z",
     "start_time": "2021-04-30T05:56:11.796949Z"
    }
   },
   "outputs": [
    {
     "data": {
      "text/plain": [
       "False"
      ]
     },
     "execution_count": 105,
     "metadata": {},
     "output_type": "execute_result"
    }
   ],
   "source": [
    "\"c\" <= \"b\"\n"
   ]
  },
  {
   "cell_type": "code",
   "execution_count": 98,
   "metadata": {
    "ExecuteTime": {
     "end_time": "2021-05-05T04:28:10.268035Z",
     "start_time": "2021-05-05T04:28:10.258034Z"
    }
   },
   "outputs": [],
   "source": [
    "def insertionSort(a):\n",
    "    n = len(a)\n",
    "    i = 2\n",
    "    counter = 0\n",
    "    while i <= n:\n",
    "#         print(\"=======================\\ni:\", i)\n",
    "        reali = i-1\n",
    "        x = a[reali]\n",
    "        j = i - 1\n",
    "        while j > 0:\n",
    "            counter = counter + 1\n",
    "            realj = j - 1\n",
    "            if x <= a[realj]:\n",
    "                a[realj+1] = a[realj]\n",
    "                j = j-1\n",
    "            else:\n",
    "                a[realj+1] = x\n",
    "                j = -1\n",
    "        if j == 0:\n",
    "            a[0] = x\n",
    "        i = i + 1\n",
    "        print(a)\n",
    "    print(counter)\n",
    "    return a"
   ]
  },
  {
   "cell_type": "code",
   "execution_count": 99,
   "metadata": {
    "ExecuteTime": {
     "end_time": "2021-05-05T04:28:10.765677Z",
     "start_time": "2021-05-05T04:28:10.746690Z"
    }
   },
   "outputs": [
    {
     "name": "stdout",
     "output_type": "stream",
     "text": [
      "['D', 'F', 'C', 'E', 'B', 'C']\n",
      "['C', 'D', 'F', 'E', 'B', 'C']\n",
      "['C', 'D', 'E', 'F', 'B', 'C']\n",
      "['B', 'C', 'D', 'E', 'F', 'C']\n",
      "['B', 'C', 'C', 'D', 'E', 'F']\n",
      "14\n"
     ]
    },
    {
     "data": {
      "text/plain": [
       "['B', 'C', 'C', 'D', 'E', 'F']"
      ]
     },
     "execution_count": 99,
     "metadata": {},
     "output_type": "execute_result"
    }
   ],
   "source": [
    "insertionSort([\"F\", \"D\", \"C\", \"E\", \"B\", \"C\"])"
   ]
  },
  {
   "cell_type": "code",
   "execution_count": 9,
   "metadata": {
    "ExecuteTime": {
     "end_time": "2021-05-05T04:40:21.778299Z",
     "start_time": "2021-05-05T04:40:21.770309Z"
    }
   },
   "outputs": [],
   "source": [
    "def selectionSort(a):\n",
    "    n = len(a)\n",
    "    counter = 0\n",
    "    for i in range(n):\n",
    "        counter += 1\n",
    "#         print(i, \"=========\")\n",
    "        x = a[i]\n",
    "#         print(\"x:\", x, \"at\", i)\n",
    "        rest = a[i:]\n",
    "        mi = i\n",
    "        m = rest[mi - i]\n",
    "        for j in range(len(rest)):\n",
    "            if rest[j] < m:\n",
    "                mi = j + i\n",
    "                m = rest[j]\n",
    "#         print(\"m:\", m, \"at\", mi)\n",
    "        a[i] = m\n",
    "        a[mi] = x\n",
    "#         print(a)\n",
    "\n",
    "        \n",
    "    print(counter)\n",
    "    return a"
   ]
  },
  {
   "cell_type": "code",
   "execution_count": 10,
   "metadata": {
    "ExecuteTime": {
     "end_time": "2021-05-05T04:40:22.124308Z",
     "start_time": "2021-05-05T04:40:22.106317Z"
    }
   },
   "outputs": [
    {
     "name": "stdout",
     "output_type": "stream",
     "text": [
      "6\n"
     ]
    },
    {
     "data": {
      "text/plain": [
       "['B', 'C', 'C', 'D', 'E', 'F']"
      ]
     },
     "execution_count": 10,
     "metadata": {},
     "output_type": "execute_result"
    }
   ],
   "source": [
    "selectionSort([\"F\", \"D\", \"C\", \"E\", \"B\", \"C\"])"
   ]
  },
  {
   "cell_type": "code",
   "execution_count": 11,
   "metadata": {
    "ExecuteTime": {
     "end_time": "2021-05-05T04:40:50.883060Z",
     "start_time": "2021-05-05T04:40:50.872046Z"
    }
   },
   "outputs": [
    {
     "name": "stdout",
     "output_type": "stream",
     "text": [
      "['A', 'D', 'E', 'F', 'I', 'L', 'M', 'Q', 'Z']\n"
     ]
    }
   ],
   "source": [
    "a1 = [\"Z\", \"Q\", \"M\", \"L\", \"I\", \"F\", \"E\", \"D\", \"A\"]\n",
    "a2 = a1.copy()\n",
    "a2.reverse()\n",
    "# a2 = ['D', 'E', 'F', 'I', 'L', 'M', 'Q', 'Z', \"A\"]\n",
    "print(a2)"
   ]
  },
  {
   "cell_type": "code",
   "execution_count": 12,
   "metadata": {
    "ExecuteTime": {
     "end_time": "2021-05-05T04:40:51.426448Z",
     "start_time": "2021-05-05T04:40:51.401449Z"
    }
   },
   "outputs": [
    {
     "name": "stdout",
     "output_type": "stream",
     "text": [
      "9\n",
      "\n",
      "\n",
      "36\n"
     ]
    },
    {
     "data": {
      "text/plain": [
       "['A', 'D', 'E', 'F', 'I', 'L', 'M', 'Q', 'Z']"
      ]
     },
     "execution_count": 12,
     "metadata": {},
     "output_type": "execute_result"
    }
   ],
   "source": [
    "selectionSort(a1.copy())\n",
    "print(\"\\n\")\n",
    "insertionSort(a1.copy())"
   ]
  },
  {
   "cell_type": "code",
   "execution_count": 18,
   "metadata": {
    "ExecuteTime": {
     "end_time": "2021-05-05T04:40:51.803608Z",
     "start_time": "2021-05-05T04:40:51.781620Z"
    }
   },
   "outputs": [
    {
     "name": "stdout",
     "output_type": "stream",
     "text": [
      "\n",
      "8\n"
     ]
    },
    {
     "data": {
      "text/plain": [
       "['A', 'D', 'E', 'F', 'I', 'L', 'M', 'Q', 'Z']"
      ]
     },
     "execution_count": 18,
     "metadata": {},
     "output_type": "execute_result"
    }
   ],
   "source": [
    "# selectionSort(a2.copy())\n",
    "print(\"\")\n",
    "insertionSort(a2.copy())"
   ]
  },
  {
   "cell_type": "code",
   "execution_count": 208,
   "metadata": {},
   "outputs": [],
   "source": [
    "def insertionSort_(a):\n",
    "    n = len(a)\n",
    "    i = 1\n",
    "    counter = 0\n",
    "    while i < n:\n",
    "        x = a[i]\n",
    "        j = i - 1\n",
    "        while j > -1:\n",
    "            counter = counter + 1\n",
    "            realj = j - 1\n",
    "            if x <= a[j]:\n",
    "                a[j+1] = a[j]\n",
    "                j = j-1\n",
    "            else:\n",
    "                a[j+1] = x\n",
    "                j = -2\n",
    "        if j == -1:\n",
    "            a[0] = x\n",
    "        i = i + 1\n",
    "#         print(a)\n",
    "    print(counter)\n",
    "    return a"
   ]
  },
  {
   "cell_type": "code",
   "execution_count": 209,
   "metadata": {},
   "outputs": [
    {
     "name": "stdout",
     "output_type": "stream",
     "text": [
      "14\n"
     ]
    },
    {
     "data": {
      "text/plain": [
       "['B', 'C', 'C', 'D', 'E', 'F']"
      ]
     },
     "execution_count": 209,
     "metadata": {},
     "output_type": "execute_result"
    }
   ],
   "source": [
    "# insertionSort_(a1.copy())\n",
    "insertionSort_([\"F\", \"D\", \"C\", \"E\", \"B\", \"C\"])"
   ]
  },
  {
   "cell_type": "code",
   "execution_count": 16,
   "metadata": {},
   "outputs": [],
   "source": [
    "def insertionSortIndirectAddressing(a):\n",
    "    n = len(a)\n",
    "    res = [_ for _ in range(n)]\n",
    "    i = 1\n",
    "    iIndex = 1\n",
    "    counter = 0\n",
    "    while i <= n:\n",
    "        x = a[i]\n",
    "        xIndex = iIndex\n",
    "        j = i - 1\n",
    "        while j > 0:\n",
    "            counter = counter + 1\n",
    "            if x <= a[j]:\n",
    "                res[iIndex] -= 1; \n",
    "#                 a[j+1] = a[j]\n",
    "                j = j-1\n",
    "            else:\n",
    "                \n",
    "                a[xIndex] = x\n",
    "                j = -1\n",
    "        if j == 0:\n",
    "            a[0] = x\n",
    "        i = i + 1\n",
    "    print(counter)\n",
    "    return a"
   ]
  },
  {
   "cell_type": "code",
   "execution_count": 17,
   "metadata": {},
   "outputs": [
    {
     "name": "stdout",
     "output_type": "stream",
     "text": [
      "8\n"
     ]
    },
    {
     "data": {
      "text/plain": [
       "['A', 'D', 'E', 'F', 'I', 'L', 'M', 'Q', 'Z']"
      ]
     },
     "execution_count": 17,
     "metadata": {},
     "output_type": "execute_result"
    }
   ],
   "source": [
    "insertionSort(a2.copy())"
   ]
  },
  {
   "cell_type": "code",
   "execution_count": 332,
   "metadata": {},
   "outputs": [],
   "source": [
    "def insertionSortIA(a):\n",
    "    n = len(a)\n",
    "    res = [_ for _ in range(n)]\n",
    "    ind = [_ for _ in range(n)]\n",
    "    i = 1    # the ith letter to compare\n",
    "    print(\"Round 0\")\n",
    "    print(\"\\ta:\", a)\n",
    "    print(\"\\tres:\", res)\n",
    "    print(\"\\tind:\", ind)\n",
    "    while i < n:\n",
    "        print(\"\\nRound\", i)\n",
    "        x = a[i]    # the ith letter\n",
    "        j = i - 1   # the previous index\n",
    "        y = j\n",
    "        print(\"i:\", i, \", j:\", j, \", x:\", x, \", y:\", y)\n",
    "\n",
    "        while j >= 0:     \n",
    "            print(\"x:\", x, \", j:\", j, \", a[j]:\", a[res[j]])\n",
    "            if x <= a[res[j]]:   \n",
    "#                 a[j+1] = a[j]   # yes, move a[j] to right\n",
    "                res[j+1] = res[j]\n",
    "                ind[res[j]] += 1\n",
    "\n",
    "                j = j-1\n",
    "        \n",
    "                print(\"yes\")\n",
    "                b = []\n",
    "                for bi in res:\n",
    "                    b.append(a[bi])\n",
    "                print(\"\\ta:\", b)\n",
    "                print(\"\\tres:\", res)\n",
    "                print(\"\\tind:\", ind)\n",
    "                print(\"j:\", j)\n",
    "            else:\n",
    "#                 a[j+1] = x     # no, insert x here\n",
    "                res[j+1] = i\n",
    "                ind[res[j+1]] = y      \n",
    "                j = -2\n",
    "        \n",
    "                print(\"no\")\n",
    "                b = []\n",
    "                for bi in res:\n",
    "                    b.append(a[bi])\n",
    "                print(\"\\ta:\", b)\n",
    "                print(\"\\tres:\", res)\n",
    "                print(\"\\tind:\", ind)\n",
    "                print(\"j:\", j)\n",
    "#             print(\"res:\", res)\n",
    "        if j == -1:\n",
    "#             a[0] = x     # if x has not been inserted, insert now to the first \n",
    "            ind[i] = 0\n",
    "            res[0] = i\n",
    "    \n",
    "            print(\"solve\")\n",
    "            b = []\n",
    "            for bi in ind:\n",
    "                b.append(a[bi])\n",
    "            print(\"\\ta:\", b)\n",
    "            print(\"\\tres:\", res)\n",
    "            print(\"\\tind:\", ind)\n",
    "            print(\"j:\", j)\n",
    "        i = i + 1\n",
    "    return res"
   ]
  },
  {
   "cell_type": "code",
   "execution_count": 333,
   "metadata": {},
   "outputs": [],
   "source": [
    "# insertionSortIA([\"Z\", \"Q\", \"M\", \"B\"])"
   ]
  },
  {
   "cell_type": "code",
   "execution_count": 334,
   "metadata": {},
   "outputs": [
    {
     "name": "stdout",
     "output_type": "stream",
     "text": [
      "Round 0\n",
      "\ta: ['F', 'D', 'C', 'E', 'B', 'C']\n",
      "\tres: [0, 1, 2, 3, 4, 5]\n",
      "\tind: [0, 1, 2, 3, 4, 5]\n",
      "\n",
      "Round 1\n",
      "i: 1 , j: 0 , x: D , y: 0\n",
      "x: D , j: 0 , a[j]: F\n",
      "yes\n",
      "\ta: ['F', 'F', 'C', 'E', 'B', 'C']\n",
      "\tres: [0, 0, 2, 3, 4, 5]\n",
      "\tind: [1, 1, 2, 3, 4, 5]\n",
      "j: -1\n",
      "solve\n",
      "\ta: ['D', 'F', 'C', 'E', 'B', 'C']\n",
      "\tres: [1, 0, 2, 3, 4, 5]\n",
      "\tind: [1, 0, 2, 3, 4, 5]\n",
      "j: -1\n",
      "\n",
      "Round 2\n",
      "i: 2 , j: 1 , x: C , y: 1\n",
      "x: C , j: 1 , a[j]: F\n",
      "yes\n",
      "\ta: ['D', 'F', 'F', 'E', 'B', 'C']\n",
      "\tres: [1, 0, 0, 3, 4, 5]\n",
      "\tind: [2, 0, 2, 3, 4, 5]\n",
      "j: 0\n",
      "x: C , j: 0 , a[j]: D\n",
      "yes\n",
      "\ta: ['D', 'D', 'F', 'E', 'B', 'C']\n",
      "\tres: [1, 1, 0, 3, 4, 5]\n",
      "\tind: [2, 1, 2, 3, 4, 5]\n",
      "j: -1\n",
      "solve\n",
      "\ta: ['C', 'D', 'F', 'E', 'B', 'C']\n",
      "\tres: [2, 1, 0, 3, 4, 5]\n",
      "\tind: [2, 1, 0, 3, 4, 5]\n",
      "j: -1\n",
      "\n",
      "Round 3\n",
      "i: 3 , j: 2 , x: E , y: 2\n",
      "x: E , j: 2 , a[j]: F\n",
      "yes\n",
      "\ta: ['C', 'D', 'F', 'F', 'B', 'C']\n",
      "\tres: [2, 1, 0, 0, 4, 5]\n",
      "\tind: [3, 1, 0, 3, 4, 5]\n",
      "j: 1\n",
      "x: E , j: 1 , a[j]: D\n",
      "no\n",
      "\ta: ['C', 'D', 'E', 'F', 'B', 'C']\n",
      "\tres: [2, 1, 3, 0, 4, 5]\n",
      "\tind: [3, 1, 0, 2, 4, 5]\n",
      "j: -2\n",
      "\n",
      "Round 4\n",
      "i: 4 , j: 3 , x: B , y: 3\n",
      "x: B , j: 3 , a[j]: F\n",
      "yes\n",
      "\ta: ['C', 'D', 'E', 'F', 'F', 'C']\n",
      "\tres: [2, 1, 3, 0, 0, 5]\n",
      "\tind: [4, 1, 0, 2, 4, 5]\n",
      "j: 2\n",
      "x: B , j: 2 , a[j]: E\n",
      "yes\n",
      "\ta: ['C', 'D', 'E', 'E', 'F', 'C']\n",
      "\tres: [2, 1, 3, 3, 0, 5]\n",
      "\tind: [4, 1, 0, 3, 4, 5]\n",
      "j: 1\n",
      "x: B , j: 1 , a[j]: D\n",
      "yes\n",
      "\ta: ['C', 'D', 'D', 'E', 'F', 'C']\n",
      "\tres: [2, 1, 1, 3, 0, 5]\n",
      "\tind: [4, 2, 0, 3, 4, 5]\n",
      "j: 0\n",
      "x: B , j: 0 , a[j]: C\n",
      "yes\n",
      "\ta: ['C', 'C', 'D', 'E', 'F', 'C']\n",
      "\tres: [2, 2, 1, 3, 0, 5]\n",
      "\tind: [4, 2, 1, 3, 4, 5]\n",
      "j: -1\n",
      "solve\n",
      "\ta: ['B', 'C', 'D', 'E', 'F', 'C']\n",
      "\tres: [4, 2, 1, 3, 0, 5]\n",
      "\tind: [4, 2, 1, 3, 0, 5]\n",
      "j: -1\n",
      "\n",
      "Round 5\n",
      "i: 5 , j: 4 , x: C , y: 4\n",
      "x: C , j: 4 , a[j]: F\n",
      "yes\n",
      "\ta: ['B', 'C', 'D', 'E', 'F', 'F']\n",
      "\tres: [4, 2, 1, 3, 0, 0]\n",
      "\tind: [5, 2, 1, 3, 0, 5]\n",
      "j: 3\n",
      "x: C , j: 3 , a[j]: E\n",
      "yes\n",
      "\ta: ['B', 'C', 'D', 'E', 'E', 'F']\n",
      "\tres: [4, 2, 1, 3, 3, 0]\n",
      "\tind: [5, 2, 1, 4, 0, 5]\n",
      "j: 2\n",
      "x: C , j: 2 , a[j]: D\n",
      "yes\n",
      "\ta: ['B', 'C', 'D', 'D', 'E', 'F']\n",
      "\tres: [4, 2, 1, 1, 3, 0]\n",
      "\tind: [5, 3, 1, 4, 0, 5]\n",
      "j: 1\n",
      "x: C , j: 1 , a[j]: C\n",
      "yes\n",
      "\ta: ['B', 'C', 'C', 'D', 'E', 'F']\n",
      "\tres: [4, 2, 2, 1, 3, 0]\n",
      "\tind: [5, 3, 2, 4, 0, 5]\n",
      "j: 0\n",
      "x: C , j: 0 , a[j]: B\n",
      "no\n",
      "\ta: ['B', 'C', 'C', 'D', 'E', 'F']\n",
      "\tres: [4, 5, 2, 1, 3, 0]\n",
      "\tind: [5, 3, 2, 4, 0, 4]\n",
      "j: -2\n"
     ]
    },
    {
     "data": {
      "text/plain": [
       "[4, 5, 2, 1, 3, 0]"
      ]
     },
     "execution_count": 334,
     "metadata": {},
     "output_type": "execute_result"
    }
   ],
   "source": [
    "r = insertionSortIA([\"F\", \"D\", \"C\", \"E\", \"B\", \"C\"])\n",
    "r"
   ]
  },
  {
   "cell_type": "code",
   "execution_count": 335,
   "metadata": {},
   "outputs": [
    {
     "name": "stdout",
     "output_type": "stream",
     "text": [
      "['B', 'C', 'C', 'D', 'E', 'F']\n"
     ]
    }
   ],
   "source": [
    "l = [\"F\", \"D\", \"C\", \"E\", \"B\", \"C\"]\n",
    "l_ = []\n",
    "for i in r:\n",
    "    l_ .append(l[i]) \n",
    "print(l_)"
   ]
  },
  {
   "cell_type": "code",
   "execution_count": null,
   "metadata": {},
   "outputs": [],
   "source": []
  },
  {
   "cell_type": "code",
   "execution_count": null,
   "metadata": {},
   "outputs": [],
   "source": []
  },
  {
   "cell_type": "code",
   "execution_count": null,
   "metadata": {},
   "outputs": [],
   "source": []
  }
 ],
 "metadata": {
  "kernelspec": {
   "display_name": "Python 3",
   "language": "python",
   "name": "python3"
  },
  "language_info": {
   "codemirror_mode": {
    "name": "ipython",
    "version": 3
   },
   "file_extension": ".py",
   "mimetype": "text/x-python",
   "name": "python",
   "nbconvert_exporter": "python",
   "pygments_lexer": "ipython3",
   "version": "3.7.7"
  },
  "varInspector": {
   "cols": {
    "lenName": 16,
    "lenType": 16,
    "lenVar": 40
   },
   "kernels_config": {
    "python": {
     "delete_cmd_postfix": "",
     "delete_cmd_prefix": "del ",
     "library": "var_list.py",
     "varRefreshCmd": "print(var_dic_list())"
    },
    "r": {
     "delete_cmd_postfix": ") ",
     "delete_cmd_prefix": "rm(",
     "library": "var_list.r",
     "varRefreshCmd": "cat(var_dic_list()) "
    }
   },
   "types_to_exclude": [
    "module",
    "function",
    "builtin_function_or_method",
    "instance",
    "_Feature"
   ],
   "window_display": false
  }
 },
 "nbformat": 4,
 "nbformat_minor": 4
}
