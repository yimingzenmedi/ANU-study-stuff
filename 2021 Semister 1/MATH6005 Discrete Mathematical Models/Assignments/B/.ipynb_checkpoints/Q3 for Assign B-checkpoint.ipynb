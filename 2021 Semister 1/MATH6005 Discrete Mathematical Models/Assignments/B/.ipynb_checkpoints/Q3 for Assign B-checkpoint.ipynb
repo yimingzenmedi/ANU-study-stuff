{
 "cells": [
  {
   "cell_type": "code",
   "execution_count": 1,
   "metadata": {},
   "outputs": [],
   "source": [
    "def insertionSort(a):\n",
    "    n = len(a)\n",
    "    i = 2\n",
    "    counter = 0\n",
    "    while i <= n:\n",
    "#         print(\"=======================\\ni:\", i)\n",
    "        reali = i-1\n",
    "        x = a[reali]\n",
    "        j = i - 1\n",
    "        while j > 0:\n",
    "            counter = counter + 1\n",
    "            realj = j - 1\n",
    "            if x <= a[realj]:\n",
    "                a[realj+1] = a[realj]\n",
    "                j = j-1\n",
    "            else:\n",
    "                a[realj+1] = x\n",
    "                j = -1\n",
    "        if j == 0:\n",
    "            a[0] = x\n",
    "        i = i + 1\n",
    "        print(a)\n",
    "    print(counter)\n",
    "    return a"
   ]
  },
  {
   "cell_type": "code",
   "execution_count": 2,
   "metadata": {},
   "outputs": [
    {
     "name": "stdout",
     "output_type": "stream",
     "text": [
      "['D', 'F', 'C', 'E', 'B', 'C']\n",
      "['C', 'D', 'F', 'E', 'B', 'C']\n",
      "['C', 'D', 'E', 'F', 'B', 'C']\n",
      "['B', 'C', 'D', 'E', 'F', 'C']\n",
      "['B', 'C', 'C', 'D', 'E', 'F']\n",
      "14\n"
     ]
    },
    {
     "data": {
      "text/plain": [
       "['B', 'C', 'C', 'D', 'E', 'F']"
      ]
     },
     "execution_count": 2,
     "metadata": {},
     "output_type": "execute_result"
    }
   ],
   "source": [
    "insertionSort([\"F\", \"D\", \"C\", \"E\", \"B\", \"C\"])"
   ]
  },
  {
   "cell_type": "code",
   "execution_count": 3,
   "metadata": {},
   "outputs": [],
   "source": [
    "def selectionSort(a):\n",
    "    n = len(a)\n",
    "    counter = 0\n",
    "    for i in range(n):\n",
    "        counter += 1\n",
    "#         print(i, \"=========\")\n",
    "        x = a[i]\n",
    "#         print(\"x:\", x, \"at\", i)\n",
    "        rest = a[i:]\n",
    "        mi = i\n",
    "        m = rest[mi - i]\n",
    "        for j in range(len(rest)):\n",
    "            if rest[j] < m:\n",
    "                mi = j + i\n",
    "                m = rest[j]\n",
    "#         print(\"m:\", m, \"at\", mi)\n",
    "        a[i] = m\n",
    "        a[mi] = x\n",
    "#         print(a)\n",
    "\n",
    "        \n",
    "    print(counter)\n",
    "    return a"
   ]
  },
  {
   "cell_type": "code",
   "execution_count": 4,
   "metadata": {},
   "outputs": [
    {
     "name": "stdout",
     "output_type": "stream",
     "text": [
      "6\n"
     ]
    },
    {
     "data": {
      "text/plain": [
       "['B', 'C', 'C', 'D', 'E', 'F']"
      ]
     },
     "execution_count": 4,
     "metadata": {},
     "output_type": "execute_result"
    }
   ],
   "source": [
    "selectionSort([\"F\", \"D\", \"C\", \"E\", \"B\", \"C\"])"
   ]
  },
  {
   "cell_type": "code",
   "execution_count": 5,
   "metadata": {},
   "outputs": [
    {
     "name": "stdout",
     "output_type": "stream",
     "text": [
      "['A', 'D', 'E', 'F', 'I', 'L', 'M', 'Q', 'Z']\n"
     ]
    }
   ],
   "source": [
    "a1 = [\"Z\", \"Q\", \"M\", \"L\", \"I\", \"F\", \"E\", \"D\", \"A\"]\n",
    "a2 = a1.copy()\n",
    "a2.reverse()\n",
    "# a2 = ['D', 'E', 'F', 'I', 'L', 'M', 'Q', 'Z', \"A\"]\n",
    "print(a2)"
   ]
  },
  {
   "cell_type": "code",
   "execution_count": 6,
   "metadata": {},
   "outputs": [
    {
     "name": "stdout",
     "output_type": "stream",
     "text": [
      "9\n",
      "\n",
      "\n",
      "['Q', 'Z', 'M', 'L', 'I', 'F', 'E', 'D', 'A']\n",
      "['M', 'Q', 'Z', 'L', 'I', 'F', 'E', 'D', 'A']\n",
      "['L', 'M', 'Q', 'Z', 'I', 'F', 'E', 'D', 'A']\n",
      "['I', 'L', 'M', 'Q', 'Z', 'F', 'E', 'D', 'A']\n",
      "['F', 'I', 'L', 'M', 'Q', 'Z', 'E', 'D', 'A']\n",
      "['E', 'F', 'I', 'L', 'M', 'Q', 'Z', 'D', 'A']\n",
      "['D', 'E', 'F', 'I', 'L', 'M', 'Q', 'Z', 'A']\n",
      "['A', 'D', 'E', 'F', 'I', 'L', 'M', 'Q', 'Z']\n",
      "36\n"
     ]
    },
    {
     "data": {
      "text/plain": [
       "['A', 'D', 'E', 'F', 'I', 'L', 'M', 'Q', 'Z']"
      ]
     },
     "execution_count": 6,
     "metadata": {},
     "output_type": "execute_result"
    }
   ],
   "source": [
    "selectionSort(a1.copy())\n",
    "print(\"\\n\")\n",
    "insertionSort(a1.copy())"
   ]
  },
  {
   "cell_type": "code",
   "execution_count": 7,
   "metadata": {},
   "outputs": [
    {
     "name": "stdout",
     "output_type": "stream",
     "text": [
      "\n",
      "['A', 'D', 'E', 'F', 'I', 'L', 'M', 'Q', 'Z']\n",
      "['A', 'D', 'E', 'F', 'I', 'L', 'M', 'Q', 'Z']\n",
      "['A', 'D', 'E', 'F', 'I', 'L', 'M', 'Q', 'Z']\n",
      "['A', 'D', 'E', 'F', 'I', 'L', 'M', 'Q', 'Z']\n",
      "['A', 'D', 'E', 'F', 'I', 'L', 'M', 'Q', 'Z']\n",
      "['A', 'D', 'E', 'F', 'I', 'L', 'M', 'Q', 'Z']\n",
      "['A', 'D', 'E', 'F', 'I', 'L', 'M', 'Q', 'Z']\n",
      "['A', 'D', 'E', 'F', 'I', 'L', 'M', 'Q', 'Z']\n",
      "8\n"
     ]
    },
    {
     "data": {
      "text/plain": [
       "['A', 'D', 'E', 'F', 'I', 'L', 'M', 'Q', 'Z']"
      ]
     },
     "execution_count": 7,
     "metadata": {},
     "output_type": "execute_result"
    }
   ],
   "source": [
    "# selectionSort(a2.copy())\n",
    "print(\"\")\n",
    "insertionSort(a2.copy())"
   ]
  },
  {
   "cell_type": "code",
   "execution_count": 8,
   "metadata": {},
   "outputs": [],
   "source": [
    "def insertionSort_(a):\n",
    "    n = len(a)\n",
    "    i = 1\n",
    "    counter = 0\n",
    "    while i < n:\n",
    "        x = a[i]\n",
    "        j = i - 1\n",
    "        while j > -1:\n",
    "            counter = counter + 1\n",
    "            realj = j - 1\n",
    "            if x <= a[j]:\n",
    "                a[j+1] = a[j]\n",
    "                j = j-1\n",
    "            else:\n",
    "                a[j+1] = x\n",
    "                j = -2\n",
    "        if j == -1:\n",
    "            a[0] = x\n",
    "        i = i + 1\n",
    "#         print(a)\n",
    "    print(counter)\n",
    "    return a"
   ]
  },
  {
   "cell_type": "code",
   "execution_count": 9,
   "metadata": {},
   "outputs": [
    {
     "name": "stdout",
     "output_type": "stream",
     "text": [
      "14\n"
     ]
    },
    {
     "data": {
      "text/plain": [
       "['B', 'C', 'C', 'D', 'E', 'F']"
      ]
     },
     "execution_count": 9,
     "metadata": {},
     "output_type": "execute_result"
    }
   ],
   "source": [
    "# insertionSort_(a1.copy())\n",
    "insertionSort_([\"F\", \"D\", \"C\", \"E\", \"B\", \"C\"])"
   ]
  },
  {
   "cell_type": "code",
   "execution_count": 10,
   "metadata": {},
   "outputs": [],
   "source": [
    "def insertionSortIndirectAddressing(a):\n",
    "    n = len(a)\n",
    "    res = [_ for _ in range(n)]\n",
    "    i = 1\n",
    "    iIndex = 1\n",
    "    counter = 0\n",
    "    while i <= n:\n",
    "        x = a[i]\n",
    "        xIndex = iIndex\n",
    "        j = i - 1\n",
    "        while j > 0:\n",
    "            counter = counter + 1\n",
    "            if x <= a[j]:\n",
    "                res[iIndex] -= 1; \n",
    "#                 a[j+1] = a[j]\n",
    "                j = j-1\n",
    "            else:\n",
    "                \n",
    "                a[xIndex] = x\n",
    "                j = -1\n",
    "        if j == 0:\n",
    "            a[0] = x\n",
    "        i = i + 1\n",
    "    print(counter)\n",
    "    return a"
   ]
  },
  {
   "cell_type": "code",
   "execution_count": 11,
   "metadata": {},
   "outputs": [
    {
     "name": "stdout",
     "output_type": "stream",
     "text": [
      "['A', 'D', 'E', 'F', 'I', 'L', 'M', 'Q', 'Z']\n",
      "['A', 'D', 'E', 'F', 'I', 'L', 'M', 'Q', 'Z']\n",
      "['A', 'D', 'E', 'F', 'I', 'L', 'M', 'Q', 'Z']\n",
      "['A', 'D', 'E', 'F', 'I', 'L', 'M', 'Q', 'Z']\n",
      "['A', 'D', 'E', 'F', 'I', 'L', 'M', 'Q', 'Z']\n",
      "['A', 'D', 'E', 'F', 'I', 'L', 'M', 'Q', 'Z']\n",
      "['A', 'D', 'E', 'F', 'I', 'L', 'M', 'Q', 'Z']\n",
      "['A', 'D', 'E', 'F', 'I', 'L', 'M', 'Q', 'Z']\n",
      "8\n"
     ]
    },
    {
     "data": {
      "text/plain": [
       "['A', 'D', 'E', 'F', 'I', 'L', 'M', 'Q', 'Z']"
      ]
     },
     "execution_count": 11,
     "metadata": {},
     "output_type": "execute_result"
    }
   ],
   "source": [
    "insertionSort(a2.copy())"
   ]
  },
  {
   "cell_type": "code",
   "execution_count": 12,
   "metadata": {},
   "outputs": [],
   "source": [
    "def insertionSortIA(a):\n",
    "    n = len(a)\n",
    "    res = [_ for _ in range(n)]\n",
    "    ind = [_ for _ in range(n)]      # position of the nth element\n",
    "    i = 1    # the ith letter to compare\n",
    "    print(\"Round 0\")\n",
    "    print(\"\\ta:\", a)\n",
    "    print(\"\\tres:\", res)\n",
    "    print(\"\\tind:\", ind)\n",
    "    while i < n:\n",
    "        print(\"\\nRound\", i)\n",
    "        x = a[i]    # the ith letter\n",
    "        j = i - 1   # the previous index\n",
    "        y = j\n",
    "        print(\"i:\", i, \", j:\", j, \", x:\", x, \", y:\", y)\n",
    "\n",
    "        while j >= 0:     \n",
    "            print(\"x:\", x, \", j:\", j, \", a[j]:\", a[res[j]])\n",
    "            if x <= a[res[j]]:   \n",
    "#                 a[j+1] = a[j]   # yes, move a[j] to right\n",
    "                res[j+1] = res[j]\n",
    "                ind[res[j]] += 1\n",
    "\n",
    "                j = j-1\n",
    "        \n",
    "                print(\"yes\")\n",
    "                b = []\n",
    "                for bi in res:\n",
    "                    b.append(a[bi])\n",
    "                print(\"\\ta:\", b)\n",
    "                print(\"\\tres:\", res)\n",
    "                print(\"\\tind:\", ind)\n",
    "                print(\"j:\", j)\n",
    "            else:\n",
    "#                 a[j+1] = x     # no, insert x here\n",
    "                res[j+1] = i\n",
    "                ind[res[j+1]] = y      \n",
    "                j = -2\n",
    "        \n",
    "                print(\"no\")\n",
    "                b = []\n",
    "                for bi in res:\n",
    "                    b.append(a[bi])\n",
    "                print(\"\\ta:\", b)\n",
    "                print(\"\\tres:\", res)\n",
    "                print(\"\\tind:\", ind)\n",
    "                print(\"j:\", j)\n",
    "#             print(\"res:\", res)\n",
    "        if j == -1:\n",
    "#             a[0] = x     # if x has not been inserted, insert now to the first \n",
    "            ind[i] = 0\n",
    "            res[0] = i\n",
    "    \n",
    "            print(\"solve\")\n",
    "            b = []\n",
    "            for bi in ind:\n",
    "                b.append(a[bi])\n",
    "            print(\"\\ta:\", b)\n",
    "            print(\"\\tres:\", res)\n",
    "            print(\"\\tind:\", ind)\n",
    "            print(\"j:\", j)\n",
    "        i = i + 1\n",
    "    return res"
   ]
  },
  {
   "cell_type": "code",
   "execution_count": 13,
   "metadata": {},
   "outputs": [],
   "source": [
    "# insertionSortIA([\"Z\", \"Q\", \"M\", \"B\"])"
   ]
  },
  {
   "cell_type": "code",
   "execution_count": 14,
   "metadata": {},
   "outputs": [
    {
     "name": "stdout",
     "output_type": "stream",
     "text": [
      "Round 0\n",
      "\ta: ['F', 'D', 'C', 'E', 'B', 'C']\n",
      "\tres: [0, 1, 2, 3, 4, 5]\n",
      "\tind: [0, 1, 2, 3, 4, 5]\n",
      "\n",
      "Round 1\n",
      "i: 1 , j: 0 , x: D , y: 0\n",
      "x: D , j: 0 , a[j]: F\n",
      "yes\n",
      "\ta: ['F', 'F', 'C', 'E', 'B', 'C']\n",
      "\tres: [0, 0, 2, 3, 4, 5]\n",
      "\tind: [1, 1, 2, 3, 4, 5]\n",
      "j: -1\n",
      "solve\n",
      "\ta: ['D', 'F', 'C', 'E', 'B', 'C']\n",
      "\tres: [1, 0, 2, 3, 4, 5]\n",
      "\tind: [1, 0, 2, 3, 4, 5]\n",
      "j: -1\n",
      "\n",
      "Round 2\n",
      "i: 2 , j: 1 , x: C , y: 1\n",
      "x: C , j: 1 , a[j]: F\n",
      "yes\n",
      "\ta: ['D', 'F', 'F', 'E', 'B', 'C']\n",
      "\tres: [1, 0, 0, 3, 4, 5]\n",
      "\tind: [2, 0, 2, 3, 4, 5]\n",
      "j: 0\n",
      "x: C , j: 0 , a[j]: D\n",
      "yes\n",
      "\ta: ['D', 'D', 'F', 'E', 'B', 'C']\n",
      "\tres: [1, 1, 0, 3, 4, 5]\n",
      "\tind: [2, 1, 2, 3, 4, 5]\n",
      "j: -1\n",
      "solve\n",
      "\ta: ['C', 'D', 'F', 'E', 'B', 'C']\n",
      "\tres: [2, 1, 0, 3, 4, 5]\n",
      "\tind: [2, 1, 0, 3, 4, 5]\n",
      "j: -1\n",
      "\n",
      "Round 3\n",
      "i: 3 , j: 2 , x: E , y: 2\n",
      "x: E , j: 2 , a[j]: F\n",
      "yes\n",
      "\ta: ['C', 'D', 'F', 'F', 'B', 'C']\n",
      "\tres: [2, 1, 0, 0, 4, 5]\n",
      "\tind: [3, 1, 0, 3, 4, 5]\n",
      "j: 1\n",
      "x: E , j: 1 , a[j]: D\n",
      "no\n",
      "\ta: ['C', 'D', 'E', 'F', 'B', 'C']\n",
      "\tres: [2, 1, 3, 0, 4, 5]\n",
      "\tind: [3, 1, 0, 2, 4, 5]\n",
      "j: -2\n",
      "\n",
      "Round 4\n",
      "i: 4 , j: 3 , x: B , y: 3\n",
      "x: B , j: 3 , a[j]: F\n",
      "yes\n",
      "\ta: ['C', 'D', 'E', 'F', 'F', 'C']\n",
      "\tres: [2, 1, 3, 0, 0, 5]\n",
      "\tind: [4, 1, 0, 2, 4, 5]\n",
      "j: 2\n",
      "x: B , j: 2 , a[j]: E\n",
      "yes\n",
      "\ta: ['C', 'D', 'E', 'E', 'F', 'C']\n",
      "\tres: [2, 1, 3, 3, 0, 5]\n",
      "\tind: [4, 1, 0, 3, 4, 5]\n",
      "j: 1\n",
      "x: B , j: 1 , a[j]: D\n",
      "yes\n",
      "\ta: ['C', 'D', 'D', 'E', 'F', 'C']\n",
      "\tres: [2, 1, 1, 3, 0, 5]\n",
      "\tind: [4, 2, 0, 3, 4, 5]\n",
      "j: 0\n",
      "x: B , j: 0 , a[j]: C\n",
      "yes\n",
      "\ta: ['C', 'C', 'D', 'E', 'F', 'C']\n",
      "\tres: [2, 2, 1, 3, 0, 5]\n",
      "\tind: [4, 2, 1, 3, 4, 5]\n",
      "j: -1\n",
      "solve\n",
      "\ta: ['B', 'C', 'D', 'E', 'F', 'C']\n",
      "\tres: [4, 2, 1, 3, 0, 5]\n",
      "\tind: [4, 2, 1, 3, 0, 5]\n",
      "j: -1\n",
      "\n",
      "Round 5\n",
      "i: 5 , j: 4 , x: C , y: 4\n",
      "x: C , j: 4 , a[j]: F\n",
      "yes\n",
      "\ta: ['B', 'C', 'D', 'E', 'F', 'F']\n",
      "\tres: [4, 2, 1, 3, 0, 0]\n",
      "\tind: [5, 2, 1, 3, 0, 5]\n",
      "j: 3\n",
      "x: C , j: 3 , a[j]: E\n",
      "yes\n",
      "\ta: ['B', 'C', 'D', 'E', 'E', 'F']\n",
      "\tres: [4, 2, 1, 3, 3, 0]\n",
      "\tind: [5, 2, 1, 4, 0, 5]\n",
      "j: 2\n",
      "x: C , j: 2 , a[j]: D\n",
      "yes\n",
      "\ta: ['B', 'C', 'D', 'D', 'E', 'F']\n",
      "\tres: [4, 2, 1, 1, 3, 0]\n",
      "\tind: [5, 3, 1, 4, 0, 5]\n",
      "j: 1\n",
      "x: C , j: 1 , a[j]: C\n",
      "yes\n",
      "\ta: ['B', 'C', 'C', 'D', 'E', 'F']\n",
      "\tres: [4, 2, 2, 1, 3, 0]\n",
      "\tind: [5, 3, 2, 4, 0, 5]\n",
      "j: 0\n",
      "x: C , j: 0 , a[j]: B\n",
      "no\n",
      "\ta: ['B', 'C', 'C', 'D', 'E', 'F']\n",
      "\tres: [4, 5, 2, 1, 3, 0]\n",
      "\tind: [5, 3, 2, 4, 0, 4]\n",
      "j: -2\n"
     ]
    },
    {
     "data": {
      "text/plain": [
       "[4, 5, 2, 1, 3, 0]"
      ]
     },
     "execution_count": 14,
     "metadata": {},
     "output_type": "execute_result"
    }
   ],
   "source": [
    "r = insertionSortIA([\"F\", \"D\", \"C\", \"E\", \"B\", \"C\"])\n",
    "r"
   ]
  },
  {
   "cell_type": "code",
   "execution_count": 15,
   "metadata": {},
   "outputs": [
    {
     "name": "stdout",
     "output_type": "stream",
     "text": [
      "['B', 'C', 'C', 'D', 'E', 'F']\n"
     ]
    }
   ],
   "source": [
    "l = [\"F\", \"D\", \"C\", \"E\", \"B\", \"C\"]\n",
    "l_ = []\n",
    "for i in r:\n",
    "    l_ .append(l[i]) \n",
    "print(l_)"
   ]
  },
  {
   "cell_type": "code",
   "execution_count": null,
   "metadata": {},
   "outputs": [],
   "source": []
  }
 ],
 "metadata": {
  "kernelspec": {
   "display_name": "Python 3",
   "language": "python",
   "name": "python3"
  },
  "language_info": {
   "codemirror_mode": {
    "name": "ipython",
    "version": 3
   },
   "file_extension": ".py",
   "mimetype": "text/x-python",
   "name": "python",
   "nbconvert_exporter": "python",
   "pygments_lexer": "ipython3",
   "version": "3.7.4"
  }
 },
 "nbformat": 4,
 "nbformat_minor": 4
}
