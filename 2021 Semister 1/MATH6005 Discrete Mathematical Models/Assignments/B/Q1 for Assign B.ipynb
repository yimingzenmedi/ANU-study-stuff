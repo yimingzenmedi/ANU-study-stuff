{
 "cells": [
  {
   "cell_type": "code",
   "execution_count": 9,
   "metadata": {
    "ExecuteTime": {
     "end_time": "2021-04-28T04:43:21.664768Z",
     "start_time": "2021-04-28T04:43:21.650780Z"
    }
   },
   "outputs": [],
   "source": [
    "import numpy as np"
   ]
  },
  {
   "cell_type": "code",
   "execution_count": 10,
   "metadata": {
    "ExecuteTime": {
     "end_time": "2021-04-28T04:43:27.248195Z",
     "start_time": "2021-04-28T04:43:27.242199Z"
    }
   },
   "outputs": [],
   "source": [
    "# Q1 A"
   ]
  },
  {
   "cell_type": "code",
   "execution_count": 11,
   "metadata": {
    "ExecuteTime": {
     "end_time": "2021-04-28T05:40:45.639646Z",
     "start_time": "2021-04-28T05:40:45.619660Z"
    }
   },
   "outputs": [],
   "source": [
    "def getCompanion(p: int, willPrint=True):\n",
    "    g_set = [i for i in range(1, p)]\n",
    "    g_set.sort()\n",
    "    if willPrint:\n",
    "        print(\"g_set:\", g_set)\n",
    "    companions = []\n",
    "    for g in g_set:\n",
    "        if willPrint:\n",
    "            print(\"\\ng:\", g)\n",
    "        tmp = []\n",
    "        for a in range(1, p):\n",
    "            res = (g ** a) % p\n",
    "            if willPrint:\n",
    "                print(\"a:\", a, \", g % p:\", g % p, \", g^a:\", g ** a, \", g^a % p:\", (g ** a) % p )\n",
    "            if res not in tmp:\n",
    "                tmp.append(res)\n",
    "                \n",
    "        tmp.sort()\n",
    "        if willPrint:\n",
    "            print(\"res:\", g, \":\", tmp)\n",
    "\n",
    "        if tmp == g_set:\n",
    "            companions.append(g)\n",
    "    return companions"
   ]
  },
  {
   "cell_type": "code",
   "execution_count": 12,
   "metadata": {
    "ExecuteTime": {
     "end_time": "2021-04-28T05:40:46.257691Z",
     "start_time": "2021-04-28T05:40:46.181219Z"
    }
   },
   "outputs": [
    {
     "name": "stdout",
     "output_type": "stream",
     "text": [
      "g_set: [1, 2, 3, 4, 5, 6, 7, 8, 9, 10]\n",
      "\n",
      "g: 1\n",
      "a: 1 , g % p: 1 , g^a: 1 , g^a % p: 1\n",
      "a: 2 , g % p: 1 , g^a: 1 , g^a % p: 1\n",
      "a: 3 , g % p: 1 , g^a: 1 , g^a % p: 1\n",
      "a: 4 , g % p: 1 , g^a: 1 , g^a % p: 1\n",
      "a: 5 , g % p: 1 , g^a: 1 , g^a % p: 1\n",
      "a: 6 , g % p: 1 , g^a: 1 , g^a % p: 1\n",
      "a: 7 , g % p: 1 , g^a: 1 , g^a % p: 1\n",
      "a: 8 , g % p: 1 , g^a: 1 , g^a % p: 1\n",
      "a: 9 , g % p: 1 , g^a: 1 , g^a % p: 1\n",
      "a: 10 , g % p: 1 , g^a: 1 , g^a % p: 1\n",
      "res: 1 : [1]\n",
      "\n",
      "g: 2\n",
      "a: 1 , g % p: 2 , g^a: 2 , g^a % p: 2\n",
      "a: 2 , g % p: 2 , g^a: 4 , g^a % p: 4\n",
      "a: 3 , g % p: 2 , g^a: 8 , g^a % p: 8\n",
      "a: 4 , g % p: 2 , g^a: 16 , g^a % p: 5\n",
      "a: 5 , g % p: 2 , g^a: 32 , g^a % p: 10\n",
      "a: 6 , g % p: 2 , g^a: 64 , g^a % p: 9\n",
      "a: 7 , g % p: 2 , g^a: 128 , g^a % p: 7\n",
      "a: 8 , g % p: 2 , g^a: 256 , g^a % p: 3\n",
      "a: 9 , g % p: 2 , g^a: 512 , g^a % p: 6\n",
      "a: 10 , g % p: 2 , g^a: 1024 , g^a % p: 1\n",
      "res: 2 : [1, 2, 3, 4, 5, 6, 7, 8, 9, 10]\n",
      "\n",
      "g: 3\n",
      "a: 1 , g % p: 3 , g^a: 3 , g^a % p: 3\n",
      "a: 2 , g % p: 3 , g^a: 9 , g^a % p: 9\n",
      "a: 3 , g % p: 3 , g^a: 27 , g^a % p: 5\n",
      "a: 4 , g % p: 3 , g^a: 81 , g^a % p: 4\n",
      "a: 5 , g % p: 3 , g^a: 243 , g^a % p: 1\n",
      "a: 6 , g % p: 3 , g^a: 729 , g^a % p: 3\n",
      "a: 7 , g % p: 3 , g^a: 2187 , g^a % p: 9\n",
      "a: 8 , g % p: 3 , g^a: 6561 , g^a % p: 5\n",
      "a: 9 , g % p: 3 , g^a: 19683 , g^a % p: 4\n",
      "a: 10 , g % p: 3 , g^a: 59049 , g^a % p: 1\n",
      "res: 3 : [1, 3, 4, 5, 9]\n",
      "\n",
      "g: 4\n",
      "a: 1 , g % p: 4 , g^a: 4 , g^a % p: 4\n",
      "a: 2 , g % p: 4 , g^a: 16 , g^a % p: 5\n",
      "a: 3 , g % p: 4 , g^a: 64 , g^a % p: 9\n",
      "a: 4 , g % p: 4 , g^a: 256 , g^a % p: 3\n",
      "a: 5 , g % p: 4 , g^a: 1024 , g^a % p: 1\n",
      "a: 6 , g % p: 4 , g^a: 4096 , g^a % p: 4\n",
      "a: 7 , g % p: 4 , g^a: 16384 , g^a % p: 5\n",
      "a: 8 , g % p: 4 , g^a: 65536 , g^a % p: 9\n",
      "a: 9 , g % p: 4 , g^a: 262144 , g^a % p: 3\n",
      "a: 10 , g % p: 4 , g^a: 1048576 , g^a % p: 1\n",
      "res: 4 : [1, 3, 4, 5, 9]\n",
      "\n",
      "g: 5\n",
      "a: 1 , g % p: 5 , g^a: 5 , g^a % p: 5\n",
      "a: 2 , g % p: 5 , g^a: 25 , g^a % p: 3\n",
      "a: 3 , g % p: 5 , g^a: 125 , g^a % p: 4\n",
      "a: 4 , g % p: 5 , g^a: 625 , g^a % p: 9\n",
      "a: 5 , g % p: 5 , g^a: 3125 , g^a % p: 1\n",
      "a: 6 , g % p: 5 , g^a: 15625 , g^a % p: 5\n",
      "a: 7 , g % p: 5 , g^a: 78125 , g^a % p: 3\n",
      "a: 8 , g % p: 5 , g^a: 390625 , g^a % p: 4\n",
      "a: 9 , g % p: 5 , g^a: 1953125 , g^a % p: 9\n",
      "a: 10 , g % p: 5 , g^a: 9765625 , g^a % p: 1\n",
      "res: 5 : [1, 3, 4, 5, 9]\n",
      "\n",
      "g: 6\n",
      "a: 1 , g % p: 6 , g^a: 6 , g^a % p: 6\n",
      "a: 2 , g % p: 6 , g^a: 36 , g^a % p: 3\n",
      "a: 3 , g % p: 6 , g^a: 216 , g^a % p: 7\n",
      "a: 4 , g % p: 6 , g^a: 1296 , g^a % p: 9\n",
      "a: 5 , g % p: 6 , g^a: 7776 , g^a % p: 10\n",
      "a: 6 , g % p: 6 , g^a: 46656 , g^a % p: 5\n",
      "a: 7 , g % p: 6 , g^a: 279936 , g^a % p: 8\n",
      "a: 8 , g % p: 6 , g^a: 1679616 , g^a % p: 4\n",
      "a: 9 , g % p: 6 , g^a: 10077696 , g^a % p: 2\n",
      "a: 10 , g % p: 6 , g^a: 60466176 , g^a % p: 1\n",
      "res: 6 : [1, 2, 3, 4, 5, 6, 7, 8, 9, 10]\n",
      "\n",
      "g: 7\n",
      "a: 1 , g % p: 7 , g^a: 7 , g^a % p: 7\n",
      "a: 2 , g % p: 7 , g^a: 49 , g^a % p: 5\n",
      "a: 3 , g % p: 7 , g^a: 343 , g^a % p: 2\n",
      "a: 4 , g % p: 7 , g^a: 2401 , g^a % p: 3\n",
      "a: 5 , g % p: 7 , g^a: 16807 , g^a % p: 10\n",
      "a: 6 , g % p: 7 , g^a: 117649 , g^a % p: 4\n",
      "a: 7 , g % p: 7 , g^a: 823543 , g^a % p: 6\n",
      "a: 8 , g % p: 7 , g^a: 5764801 , g^a % p: 9\n",
      "a: 9 , g % p: 7 , g^a: 40353607 , g^a % p: 8\n",
      "a: 10 , g % p: 7 , g^a: 282475249 , g^a % p: 1\n",
      "res: 7 : [1, 2, 3, 4, 5, 6, 7, 8, 9, 10]\n",
      "\n",
      "g: 8\n",
      "a: 1 , g % p: 8 , g^a: 8 , g^a % p: 8\n",
      "a: 2 , g % p: 8 , g^a: 64 , g^a % p: 9\n",
      "a: 3 , g % p: 8 , g^a: 512 , g^a % p: 6\n",
      "a: 4 , g % p: 8 , g^a: 4096 , g^a % p: 4\n",
      "a: 5 , g % p: 8 , g^a: 32768 , g^a % p: 10\n",
      "a: 6 , g % p: 8 , g^a: 262144 , g^a % p: 3\n",
      "a: 7 , g % p: 8 , g^a: 2097152 , g^a % p: 2\n",
      "a: 8 , g % p: 8 , g^a: 16777216 , g^a % p: 5\n",
      "a: 9 , g % p: 8 , g^a: 134217728 , g^a % p: 7\n",
      "a: 10 , g % p: 8 , g^a: 1073741824 , g^a % p: 1\n",
      "res: 8 : [1, 2, 3, 4, 5, 6, 7, 8, 9, 10]\n",
      "\n",
      "g: 9\n",
      "a: 1 , g % p: 9 , g^a: 9 , g^a % p: 9\n",
      "a: 2 , g % p: 9 , g^a: 81 , g^a % p: 4\n",
      "a: 3 , g % p: 9 , g^a: 729 , g^a % p: 3\n",
      "a: 4 , g % p: 9 , g^a: 6561 , g^a % p: 5\n",
      "a: 5 , g % p: 9 , g^a: 59049 , g^a % p: 1\n",
      "a: 6 , g % p: 9 , g^a: 531441 , g^a % p: 9\n",
      "a: 7 , g % p: 9 , g^a: 4782969 , g^a % p: 4\n",
      "a: 8 , g % p: 9 , g^a: 43046721 , g^a % p: 3\n",
      "a: 9 , g % p: 9 , g^a: 387420489 , g^a % p: 5\n",
      "a: 10 , g % p: 9 , g^a: 3486784401 , g^a % p: 1\n",
      "res: 9 : [1, 3, 4, 5, 9]\n",
      "\n",
      "g: 10\n",
      "a: 1 , g % p: 10 , g^a: 10 , g^a % p: 10\n",
      "a: 2 , g % p: 10 , g^a: 100 , g^a % p: 1\n",
      "a: 3 , g % p: 10 , g^a: 1000 , g^a % p: 10\n",
      "a: 4 , g % p: 10 , g^a: 10000 , g^a % p: 1\n",
      "a: 5 , g % p: 10 , g^a: 100000 , g^a % p: 10\n",
      "a: 6 , g % p: 10 , g^a: 1000000 , g^a % p: 1\n",
      "a: 7 , g % p: 10 , g^a: 10000000 , g^a % p: 10\n",
      "a: 8 , g % p: 10 , g^a: 100000000 , g^a % p: 1\n",
      "a: 9 , g % p: 10 , g^a: 1000000000 , g^a % p: 10\n",
      "a: 10 , g % p: 10 , g^a: 10000000000 , g^a % p: 1\n",
      "res: 10 : [1, 10]\n"
     ]
    },
    {
     "data": {
      "text/plain": [
       "[2, 6, 7, 8]"
      ]
     },
     "execution_count": 12,
     "metadata": {},
     "output_type": "execute_result"
    }
   ],
   "source": [
    "getCompanion(11)"
   ]
  },
  {
   "cell_type": "code",
   "execution_count": 13,
   "metadata": {
    "ExecuteTime": {
     "end_time": "2021-04-28T05:40:46.513255Z",
     "start_time": "2021-04-28T05:40:46.504265Z"
    }
   },
   "outputs": [],
   "source": [
    "[1, 2, 3, 4, 5, 6, 7, 8].sort()"
   ]
  },
  {
   "cell_type": "code",
   "execution_count": 14,
   "metadata": {
    "ExecuteTime": {
     "end_time": "2021-04-28T05:40:47.205366Z",
     "start_time": "2021-04-28T05:40:47.191375Z"
    }
   },
   "outputs": [
    {
     "data": {
      "text/plain": [
       "177147"
      ]
     },
     "execution_count": 14,
     "metadata": {},
     "output_type": "execute_result"
    }
   ],
   "source": [
    "3** 11"
   ]
  },
  {
   "cell_type": "code",
   "execution_count": 15,
   "metadata": {
    "ExecuteTime": {
     "end_time": "2021-04-28T05:40:48.063299Z",
     "start_time": "2021-04-28T05:40:48.048309Z"
    }
   },
   "outputs": [
    {
     "data": {
      "text/plain": [
       "3"
      ]
     },
     "execution_count": 15,
     "metadata": {},
     "output_type": "execute_result"
    }
   ],
   "source": [
    "177147 %11"
   ]
  },
  {
   "cell_type": "code",
   "execution_count": 17,
   "metadata": {
    "ExecuteTime": {
     "end_time": "2021-04-28T05:52:38.489503Z",
     "start_time": "2021-04-28T05:40:48.848319Z"
    }
   },
   "outputs": [],
   "source": [
    "# getCompanion(104651, False)"
   ]
  },
  {
   "cell_type": "code",
   "execution_count": null,
   "metadata": {
    "ExecuteTime": {
     "end_time": "2021-04-28T05:53:25.238847Z",
     "start_time": "2021-04-28T05:53:25.218841Z"
    }
   },
   "outputs": [],
   "source": [
    "def verifyCompanion(p: int, g: int):\n",
    "    G = [i for i in range(1, p)]\n",
    "    G.sort()\n",
    "    res = []\n",
    "    if g not in G:\n",
    "        return False\n",
    "    print(\"pass 1\")\n",
    "    res = []\n",
    "    for a in range(1, p):\n",
    "        r = (g ** a) % p\n",
    "        if r not in res:\n",
    "            res.append(r)\n",
    "    res.sort()\n",
    "    return res == G"
   ]
  },
  {
   "cell_type": "code",
   "execution_count": null,
   "metadata": {
    "ExecuteTime": {
     "end_time": "2021-04-28T07:14:11.968716Z",
     "start_time": "2021-04-28T05:53:25.927276Z"
    }
   },
   "outputs": [],
   "source": [
    "verifyCompanion(104651, 24578)"
   ]
  },
  {
   "cell_type": "code",
   "execution_count": null,
   "metadata": {},
   "outputs": [],
   "source": []
  },
  {
   "cell_type": "code",
   "execution_count": null,
   "metadata": {
    "ExecuteTime": {
     "end_time": "2021-04-29T04:44:20.014303Z",
     "start_time": "2021-04-29T04:44:19.997316Z"
    }
   },
   "outputs": [],
   "source": [
    "def factorial(n: int):\n",
    "    a = 1\n",
    "    for i in range(n, 0, -1):\n",
    "#         print(i)\n",
    "        a = a * i\n",
    "    return a"
   ]
  },
  {
   "cell_type": "code",
   "execution_count": null,
   "metadata": {
    "ExecuteTime": {
     "end_time": "2021-04-29T04:44:20.407131Z",
     "start_time": "2021-04-29T04:44:20.398136Z"
    }
   },
   "outputs": [],
   "source": [
    "factorial(3)"
   ]
  },
  {
   "cell_type": "code",
   "execution_count": null,
   "metadata": {
    "ExecuteTime": {
     "end_time": "2021-04-29T04:46:31.934805Z",
     "start_time": "2021-04-29T04:46:31.916795Z"
    }
   },
   "outputs": [],
   "source": [
    "def findMin(N: int):\n",
    "    S = 365 ** N\n",
    "    Ec = factorial(365) / (S * factorial(365 - N))\n",
    "    return 1 - Ec\n"
   ]
  },
  {
   "cell_type": "code",
   "execution_count": null,
   "metadata": {
    "ExecuteTime": {
     "end_time": "2021-04-29T04:47:45.536589Z",
     "start_time": "2021-04-29T04:47:45.516603Z"
    }
   },
   "outputs": [],
   "source": [
    "findMin(25)"
   ]
  },
  {
   "cell_type": "code",
   "execution_count": null,
   "metadata": {
    "ExecuteTime": {
     "end_time": "2021-04-29T04:48:18.719657Z",
     "start_time": "2021-04-29T04:48:18.706645Z"
    }
   },
   "outputs": [],
   "source": []
  },
  {
   "cell_type": "code",
   "execution_count": 68,
   "metadata": {
    "ExecuteTime": {
     "end_time": "2021-04-29T04:48:36.486314Z",
     "start_time": "2021-04-29T04:48:36.479319Z"
    }
   },
   "outputs": [],
   "source": [
    "def quickComputeStep1(p:int, g:int):\n",
    "    n = 0\n",
    "    res = []\n",
    "    ts = []\n",
    "    while True:\n",
    "        t = 2 ** n\n",
    "        if t > p:\n",
    "            break\n",
    "        r = g ** t % p\n",
    "        print(\"n:\", n, \", t:\", t, \", r:\", r)\n",
    "        n += 1\n",
    "        res.append(r)\n",
    "        ts.append(t)\n",
    "        \n",
    "    return res, ts"
   ]
  },
  {
   "cell_type": "code",
   "execution_count": 69,
   "metadata": {
    "ExecuteTime": {
     "end_time": "2021-04-29T04:48:52.185523Z",
     "start_time": "2021-04-29T04:48:52.170539Z"
    }
   },
   "outputs": [
    {
     "name": "stdout",
     "output_type": "stream",
     "text": [
      "n: 0 , t: 1 , r: 24578\n",
      "n: 1 , t: 2 , r: 32512\n",
      "n: 2 , t: 4 , r: 55044\n",
      "n: 3 , t: 8 , r: 90835\n",
      "n: 4 , t: 16 , r: 103083\n",
      "n: 5 , t: 32 , r: 51651\n",
      "n: 6 , t: 64 , r: 62509\n",
      "n: 7 , t: 128 , r: 20694\n",
      "n: 8 , t: 256 , r: 9744\n",
      "n: 9 , t: 512 , r: 27079\n",
      "n: 10 , t: 1024 , r: 87335\n",
      "n: 11 , t: 2048 , r: 18741\n",
      "n: 12 , t: 4096 , r: 16325\n",
      "n: 13 , t: 8192 , r: 64179\n",
      "n: 14 , t: 16384 , r: 89983\n",
      "n: 15 , t: 32768 , r: 92419\n",
      "n: 16 , t: 65536 , r: 75545\n"
     ]
    }
   ],
   "source": [
    "s1, ts = quickComputeStep1(104651, 24578)"
   ]
  },
  {
   "cell_type": "code",
   "execution_count": 82,
   "metadata": {
    "ExecuteTime": {
     "end_time": "2021-04-29T04:49:01.483113Z",
     "start_time": "2021-04-29T04:49:01.477114Z"
    }
   },
   "outputs": [],
   "source": [
    "def quickComputeStep2(s:int, powers:list):\n",
    "    powers.sort()\n",
    "    print(powers)\n",
    "    # find largest 2^n:\n",
    "    n = len(powers)\n",
    "    \n",
    "    ind = []\n",
    "    r = s\n",
    "    \n",
    "    for i in range(n-1, 0, -1):\n",
    "        p = powers[i]\n",
    "        if p <= r:\n",
    "            r -= p\n",
    "            ind.append(i)\n",
    "            print(\"i:\", i, \", p:\", p, \", r:\", r)\n",
    "        if r == 0:\n",
    "            print(\"DONE\")\n",
    "            break\n",
    "    \n",
    "    return ind\n",
    "        "
   ]
  },
  {
   "cell_type": "code",
   "execution_count": 86,
   "metadata": {
    "ExecuteTime": {
     "end_time": "2021-04-29T04:49:20.221650Z",
     "start_time": "2021-04-29T04:49:20.208654Z"
    }
   },
   "outputs": [
    {
     "name": "stdout",
     "output_type": "stream",
     "text": [
      "[1, 2, 4, 8, 16, 32, 64, 128, 256, 512, 1024, 2048, 4096, 8192, 16384, 32768, 65536]\n",
      "i: 16 , p: 65536 , r: 34882\n",
      "i: 15 , p: 32768 , r: 2114\n",
      "i: 11 , p: 2048 , r: 66\n",
      "i: 6 , p: 64 , r: 2\n",
      "i: 1 , p: 2 , r: 0\n",
      "DONE\n"
     ]
    }
   ],
   "source": [
    "s2 = quickComputeStep2(s=100418, powers=ts)"
   ]
  },
  {
   "cell_type": "code",
   "execution_count": 89,
   "metadata": {
    "ExecuteTime": {
     "end_time": "2021-04-29T04:49:25.994731Z",
     "start_time": "2021-04-29T04:49:25.987736Z"
    }
   },
   "outputs": [],
   "source": [
    "def quickComputeStep3(ind:list, p:list):\n",
    "    res = []\n",
    "    for i in ind:\n",
    "        res.append(p[i])\n",
    "    return res"
   ]
  },
  {
   "cell_type": "code",
   "execution_count": 90,
   "metadata": {
    "ExecuteTime": {
     "end_time": "2021-04-29T04:49:38.164180Z",
     "start_time": "2021-04-29T04:49:38.152183Z"
    }
   },
   "outputs": [
    {
     "data": {
      "text/plain": [
       "[75545, 92419, 18741, 62509, 32512]"
      ]
     },
     "execution_count": 90,
     "metadata": {},
     "output_type": "execute_result"
    }
   ],
   "source": [
    "s3 = quickComputeStep3(s2, s1)\n",
    "s3"
   ]
  },
  {
   "cell_type": "code",
   "execution_count": 91,
   "metadata": {
    "ExecuteTime": {
     "end_time": "2021-04-29T04:49:46.378330Z",
     "start_time": "2021-04-29T04:49:46.365338Z"
    }
   },
   "outputs": [],
   "source": [
    "def quickComputeStep4(r:list, p:int):\n",
    "    resList = []\n",
    "    res = 0\n",
    "    x1 = 1\n",
    "    for x2 in r:\n",
    "        res = x1 * x2 % p\n",
    "        resList.append(res)\n",
    "        print(x1, \"*\", x2, \"mod\", p, \"=\", res)\n",
    "        x1 = res\n",
    "    print(resList)\n",
    "    return res, resList\n",
    "    "
   ]
  },
  {
   "cell_type": "code",
   "execution_count": 93,
   "metadata": {
    "ExecuteTime": {
     "end_time": "2021-04-29T04:49:57.510841Z",
     "start_time": "2021-04-29T04:49:57.503849Z"
    }
   },
   "outputs": [
    {
     "name": "stdout",
     "output_type": "stream",
     "text": [
      "1 * 75545 mod 104651 = 75545\n",
      "75545 * 92419 mod 104651 = 1890\n",
      "1890 * 18741 mod 104651 = 48452\n",
      "48452 * 62509 mod 104651 = 86128\n",
      "86128 * 32512 mod 104651 = 46729\n",
      "[75545, 1890, 48452, 86128, 46729]\n",
      "res: 46729\n",
      "res list: [75545, 1890, 48452, 86128, 46729]\n"
     ]
    }
   ],
   "source": [
    "s4 = quickComputeStep4(s3, 104651)\n",
    "print(\"res:\", s4[0])\n",
    "print(\"res list:\", s4[1])"
   ]
  },
  {
   "cell_type": "code",
   "execution_count": null,
   "metadata": {
    "ExecuteTime": {
     "end_time": "2021-04-29T04:50:14.463801Z",
     "start_time": "2021-04-29T04:50:14.457803Z"
    }
   },
   "outputs": [],
   "source": []
  },
  {
   "cell_type": "code",
   "execution_count": 94,
   "metadata": {
    "ExecuteTime": {
     "end_time": "2021-04-29T04:50:29.372431Z",
     "start_time": "2021-04-29T04:50:29.356419Z"
    }
   },
   "outputs": [
    {
     "data": {
      "text/plain": [
       "46729"
      ]
     },
     "execution_count": 94,
     "metadata": {},
     "output_type": "execute_result"
    }
   ],
   "source": [
    "24578 ** 100418 % 104651"
   ]
  },
  {
   "cell_type": "code",
   "execution_count": null,
   "metadata": {},
   "outputs": [],
   "source": []
  },
  {
   "cell_type": "markdown",
   "metadata": {
    "ExecuteTime": {
     "end_time": "2021-04-30T05:29:55.089284Z",
     "start_time": "2021-04-30T05:29:55.082288Z"
    }
   },
   "source": [
    "# D"
   ]
  },
  {
   "cell_type": "code",
   "execution_count": 96,
   "metadata": {
    "ExecuteTime": {
     "end_time": "2021-04-30T05:45:02.851078Z",
     "start_time": "2021-04-30T05:45:02.834070Z"
    }
   },
   "outputs": [],
   "source": [
    "def getS(g:int, p:int, r:int):\n",
    "    s = 1\n",
    "    pre = 1\n",
    "    while 1:\n",
    "        t = g * pre % p\n",
    "        if t == r:\n",
    "            print(\"DONE:\", s)\n",
    "            break\n",
    "        s += 1\n",
    "        pre = t\n",
    "    return s\n",
    "        "
   ]
  },
  {
   "cell_type": "code",
   "execution_count": 97,
   "metadata": {
    "ExecuteTime": {
     "end_time": "2021-04-30T05:56:11.814938Z",
     "start_time": "2021-04-30T05:56:11.796949Z"
    }
   },
   "outputs": [
    {
     "name": "stdout",
     "output_type": "stream",
     "text": [
      "DONE: 36068\n"
     ]
    },
    {
     "data": {
      "text/plain": [
       "36068"
      ]
     },
     "execution_count": 97,
     "metadata": {},
     "output_type": "execute_result"
    }
   ],
   "source": [
    "getS(24578, 104651, 3190)"
   ]
  },
  {
   "cell_type": "code",
   "execution_count": 99,
   "metadata": {
    "ExecuteTime": {
     "end_time": "2021-05-05T04:28:10.268035Z",
     "start_time": "2021-05-05T04:28:10.258034Z"
    }
   },
   "outputs": [
    {
     "data": {
      "text/plain": [
       "3190"
      ]
     },
     "execution_count": 99,
     "metadata": {},
     "output_type": "execute_result"
    }
   ],
   "source": [
    "24578 ** 36068 % 104651"
   ]
  },
  {
   "cell_type": "code",
   "execution_count": null,
   "metadata": {
    "ExecuteTime": {
     "end_time": "2021-05-05T04:28:10.765677Z",
     "start_time": "2021-05-05T04:28:10.746690Z"
    }
   },
   "outputs": [],
   "source": []
  },
  {
   "cell_type": "code",
   "execution_count": null,
   "metadata": {
    "ExecuteTime": {
     "end_time": "2021-05-05T04:40:21.778299Z",
     "start_time": "2021-05-05T04:40:21.770309Z"
    }
   },
   "outputs": [],
   "source": []
  },
  {
   "cell_type": "code",
   "execution_count": null,
   "metadata": {
    "ExecuteTime": {
     "end_time": "2021-05-05T04:40:22.124308Z",
     "start_time": "2021-05-05T04:40:22.106317Z"
    }
   },
   "outputs": [],
   "source": []
  },
  {
   "cell_type": "code",
   "execution_count": null,
   "metadata": {
    "ExecuteTime": {
     "end_time": "2021-05-05T04:40:50.883060Z",
     "start_time": "2021-05-05T04:40:50.872046Z"
    }
   },
   "outputs": [],
   "source": []
  },
  {
   "cell_type": "code",
   "execution_count": null,
   "metadata": {
    "ExecuteTime": {
     "end_time": "2021-05-05T04:40:51.426448Z",
     "start_time": "2021-05-05T04:40:51.401449Z"
    }
   },
   "outputs": [],
   "source": []
  },
  {
   "cell_type": "code",
   "execution_count": null,
   "metadata": {
    "ExecuteTime": {
     "end_time": "2021-05-05T04:40:51.803608Z",
     "start_time": "2021-05-05T04:40:51.781620Z"
    }
   },
   "outputs": [],
   "source": []
  },
  {
   "cell_type": "code",
   "execution_count": null,
   "metadata": {},
   "outputs": [],
   "source": []
  },
  {
   "cell_type": "code",
   "execution_count": null,
   "metadata": {},
   "outputs": [],
   "source": []
  },
  {
   "cell_type": "code",
   "execution_count": null,
   "metadata": {},
   "outputs": [],
   "source": []
  },
  {
   "cell_type": "code",
   "execution_count": null,
   "metadata": {},
   "outputs": [],
   "source": []
  },
  {
   "cell_type": "code",
   "execution_count": null,
   "metadata": {},
   "outputs": [],
   "source": []
  },
  {
   "cell_type": "code",
   "execution_count": null,
   "metadata": {},
   "outputs": [],
   "source": []
  },
  {
   "cell_type": "code",
   "execution_count": null,
   "metadata": {},
   "outputs": [],
   "source": []
  },
  {
   "cell_type": "code",
   "execution_count": null,
   "metadata": {},
   "outputs": [],
   "source": []
  },
  {
   "cell_type": "code",
   "execution_count": null,
   "metadata": {},
   "outputs": [],
   "source": []
  },
  {
   "cell_type": "code",
   "execution_count": null,
   "metadata": {},
   "outputs": [],
   "source": []
  },
  {
   "cell_type": "code",
   "execution_count": null,
   "metadata": {},
   "outputs": [],
   "source": []
  },
  {
   "cell_type": "code",
   "execution_count": null,
   "metadata": {},
   "outputs": [],
   "source": []
  }
 ],
 "metadata": {
  "kernelspec": {
   "display_name": "Python 3",
   "language": "python",
   "name": "python3"
  },
  "language_info": {
   "codemirror_mode": {
    "name": "ipython",
    "version": 3
   },
   "file_extension": ".py",
   "mimetype": "text/x-python",
   "name": "python",
   "nbconvert_exporter": "python",
   "pygments_lexer": "ipython3",
   "version": "3.7.4"
  },
  "varInspector": {
   "cols": {
    "lenName": 16,
    "lenType": 16,
    "lenVar": 40
   },
   "kernels_config": {
    "python": {
     "delete_cmd_postfix": "",
     "delete_cmd_prefix": "del ",
     "library": "var_list.py",
     "varRefreshCmd": "print(var_dic_list())"
    },
    "r": {
     "delete_cmd_postfix": ") ",
     "delete_cmd_prefix": "rm(",
     "library": "var_list.r",
     "varRefreshCmd": "cat(var_dic_list()) "
    }
   },
   "types_to_exclude": [
    "module",
    "function",
    "builtin_function_or_method",
    "instance",
    "_Feature"
   ],
   "window_display": false
  }
 },
 "nbformat": 4,
 "nbformat_minor": 4
}
