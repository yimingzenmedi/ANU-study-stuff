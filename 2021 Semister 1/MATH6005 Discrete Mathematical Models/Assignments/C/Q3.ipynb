{
 "cells": [
  {
   "cell_type": "code",
   "execution_count": 33,
   "metadata": {},
   "outputs": [],
   "source": [
    "import numpy as np\n",
    "# import matplotlib.pyplot as plt"
   ]
  },
  {
   "cell_type": "code",
   "execution_count": 42,
   "metadata": {},
   "outputs": [],
   "source": [
    "def c(T, Xs, thr=0.00000000000001):\n",
    "    res = []\n",
    "    n = T.shape[0]\n",
    "    for x0 in Xs:\n",
    "        x1 = np.dot(T.T, x0)\n",
    "        diff = np.square((x1 - x0)).sum()\n",
    "        while diff > thr:\n",
    "            x0 = x1\n",
    "            x1 = np.dot(T.T, x1)\n",
    "            diff = np.square((x1 - x0)).sum()\n",
    "        res.append(x1)\n",
    "    return np.around(res, 5)"
   ]
  },
  {
   "cell_type": "code",
   "execution_count": 43,
   "metadata": {},
   "outputs": [],
   "source": [
    "a = 1/2\n",
    "b = 1/4\n"
   ]
  },
  {
   "cell_type": "code",
   "execution_count": 44,
   "metadata": {},
   "outputs": [],
   "source": [
    "arr = np.array([\n",
    "    [a, 0, b, 0, 0, 0, 0, b],\n",
    "    [0, 0, b, 0, 0, b, 0, a],\n",
    "    [b, 0, a, 0, 0, 0, b, 0],\n",
    "    [0, 0, 0, a, 0, b, 0, b],\n",
    "    [b, 0, 0, b, 0, 0, a, 0],\n",
    "    [0, 0, 0, b, 0, a, b, 0],\n",
    "    [0, 0, 0, 0, 0, 0, 1, 0],\n",
    "    [1/6, 1/6, 1/6, 1/6, 1/6, 1/6, 0, 0]\n",
    "])"
   ]
  },
  {
   "cell_type": "code",
   "execution_count": 45,
   "metadata": {},
   "outputs": [
    {
     "data": {
      "text/plain": [
       "array([1., 1., 1., 1., 1., 1., 1., 1.])"
      ]
     },
     "execution_count": 45,
     "metadata": {},
     "output_type": "execute_result"
    }
   ],
   "source": [
    "arr.sum(axis=1)"
   ]
  },
  {
   "cell_type": "code",
   "execution_count": 46,
   "metadata": {},
   "outputs": [],
   "source": [
    "Xs = [\n",
    "    np.array([[1, 0, 0, 0, 0, 0, 0, 0]]).T,\n",
    "    np.array([[0, 1, 0, 0, 0, 0, 0, 0]]).T,\n",
    "    np.array([[0, 0, 1, 0, 0, 0, 0, 0]]).T,\n",
    "    np.array([[0, 0, 0, 1, 0, 0, 0, 0]]).T,\n",
    "    np.array([[0, 0, 0, 0, 1, 0, 0, 0]]).T,\n",
    "    np.array([[0, 0, 0, 0, 0, 1, 0, 0]]).T,\n",
    "    np.array([[0, 0, 0, 0, 0, 0, 1, 0]]).T,\n",
    "    np.array([[0, 0, 0, 0, 0, 0, 0, 1]]).T\n",
    "]"
   ]
  },
  {
   "cell_type": "code",
   "execution_count": 47,
   "metadata": {},
   "outputs": [],
   "source": [
    "res = c(arr, Xs, 0.1 ** 15)"
   ]
  },
  {
   "cell_type": "code",
   "execution_count": 48,
   "metadata": {},
   "outputs": [
    {
     "data": {
      "text/plain": [
       "array([[[0.],\n",
       "        [0.],\n",
       "        [0.],\n",
       "        [0.],\n",
       "        [0.],\n",
       "        [0.],\n",
       "        [1.],\n",
       "        [0.]],\n",
       "\n",
       "       [[0.],\n",
       "        [0.],\n",
       "        [0.],\n",
       "        [0.],\n",
       "        [0.],\n",
       "        [0.],\n",
       "        [1.],\n",
       "        [0.]],\n",
       "\n",
       "       [[0.],\n",
       "        [0.],\n",
       "        [0.],\n",
       "        [0.],\n",
       "        [0.],\n",
       "        [0.],\n",
       "        [1.],\n",
       "        [0.]],\n",
       "\n",
       "       [[0.],\n",
       "        [0.],\n",
       "        [0.],\n",
       "        [0.],\n",
       "        [0.],\n",
       "        [0.],\n",
       "        [1.],\n",
       "        [0.]],\n",
       "\n",
       "       [[0.],\n",
       "        [0.],\n",
       "        [0.],\n",
       "        [0.],\n",
       "        [0.],\n",
       "        [0.],\n",
       "        [1.],\n",
       "        [0.]],\n",
       "\n",
       "       [[0.],\n",
       "        [0.],\n",
       "        [0.],\n",
       "        [0.],\n",
       "        [0.],\n",
       "        [0.],\n",
       "        [1.],\n",
       "        [0.]],\n",
       "\n",
       "       [[0.],\n",
       "        [0.],\n",
       "        [0.],\n",
       "        [0.],\n",
       "        [0.],\n",
       "        [0.],\n",
       "        [1.],\n",
       "        [0.]],\n",
       "\n",
       "       [[0.],\n",
       "        [0.],\n",
       "        [0.],\n",
       "        [0.],\n",
       "        [0.],\n",
       "        [0.],\n",
       "        [1.],\n",
       "        [0.]]])"
      ]
     },
     "execution_count": 48,
     "metadata": {},
     "output_type": "execute_result"
    }
   ],
   "source": [
    "res"
   ]
  },
  {
   "cell_type": "code",
   "execution_count": null,
   "metadata": {},
   "outputs": [],
   "source": []
  },
  {
   "cell_type": "code",
   "execution_count": 49,
   "metadata": {},
   "outputs": [],
   "source": [
    "def d(v, n, T):\n",
    "    res = v\n",
    "    for i in range(n):\n",
    "        res = np.dot(T.T, res)\n",
    "    return res"
   ]
  },
  {
   "cell_type": "code",
   "execution_count": 50,
   "metadata": {},
   "outputs": [
    {
     "data": {
      "text/plain": [
       "array([[0],\n",
       "       [0],\n",
       "       [0],\n",
       "       [0],\n",
       "       [0],\n",
       "       [0],\n",
       "       [0],\n",
       "       [1]])"
      ]
     },
     "execution_count": 50,
     "metadata": {},
     "output_type": "execute_result"
    }
   ],
   "source": [
    "initial = np.array([[0, 0, 0, 0, 0, 0, 0, 1]]).T\n",
    "initial"
   ]
  },
  {
   "cell_type": "code",
   "execution_count": 51,
   "metadata": {},
   "outputs": [
    {
     "data": {
      "text/plain": [
       "array([[0.0652284 ],\n",
       "       [0.00776264],\n",
       "       [0.0652284 ],\n",
       "       [0.0652284 ],\n",
       "       [0.00776264],\n",
       "       [0.0652284 ],\n",
       "       [0.68232476],\n",
       "       [0.04123634]])"
      ]
     },
     "execution_count": 51,
     "metadata": {},
     "output_type": "execute_result"
    }
   ],
   "source": [
    "res = d(initial, 10, arr)\n",
    "res"
   ]
  },
  {
   "cell_type": "code",
   "execution_count": 52,
   "metadata": {},
   "outputs": [
    {
     "data": {
      "text/plain": [
       "0.9999999999999998"
      ]
     },
     "execution_count": 52,
     "metadata": {},
     "output_type": "execute_result"
    }
   ],
   "source": [
    "res.sum()"
   ]
  },
  {
   "cell_type": "code",
   "execution_count": null,
   "metadata": {},
   "outputs": [],
   "source": []
  },
  {
   "cell_type": "code",
   "execution_count": 53,
   "metadata": {},
   "outputs": [],
   "source": [
    "# v: initial state vector\n",
    "# i: the ith state\n",
    "# T: transition matrix\n",
    "# thr: threshold to reach\n",
    "def e(v, i, T, thr):\n",
    "    n = 0\n",
    "    p = v[i - 1][0]\n",
    "    while p < thr:\n",
    "        v = np.dot(T.T, v)\n",
    "#         print(v)\n",
    "        p = v[i - 1][0]\n",
    "        n += 1\n",
    "#         print(p, \"\\n\")\n",
    "    return n"
   ]
  },
  {
   "cell_type": "code",
   "execution_count": 54,
   "metadata": {},
   "outputs": [
    {
     "data": {
      "text/plain": [
       "26"
      ]
     },
     "execution_count": 54,
     "metadata": {},
     "output_type": "execute_result"
    }
   ],
   "source": [
    "res = e(initial, 7, arr.copy(), 0.95)\n",
    "res"
   ]
  },
  {
   "cell_type": "code",
   "execution_count": null,
   "metadata": {},
   "outputs": [],
   "source": []
  },
  {
   "cell_type": "code",
   "execution_count": 55,
   "metadata": {},
   "outputs": [],
   "source": [
    "# arr = np.array([\n",
    "#     [a, 0, b, 0, b, 0, 0, a],\n",
    "#     [0, a, b, 0, 0, b, 0, a],\n",
    "#     [b, b, a, 0, 0, 0, a, 0],\n",
    "#     [0, 0, 0, a, b, b, 0, a],\n",
    "#     [b, 0, 0, b, a, 0, a, 0],\n",
    "#     [0, b, 0, b, 0, a, a, 0],\n",
    "#     [0, 0, 0, 0, 0, 0, 1, 0],\n",
    "#     [b, b, b, b, b, b, 0, 0]\n",
    "# ])\n",
    "# arr"
   ]
  },
  {
   "cell_type": "code",
   "execution_count": 67,
   "metadata": {},
   "outputs": [],
   "source": [
    "def f(T, i):\n",
    "    Q = np.delete(T, i - 1, axis=1)\n",
    "    Q = np.delete(Q, i - 1, axis=0)\n",
    "    I = np.identity(Q.shape[0])\n",
    "    N = np.linalg.inv(I - Q)\n",
    "    print(N.sum(axis=0))\n",
    "    res = np.sum(N, axis=0)[-1]\n",
    "    return res\n",
    "    "
   ]
  },
  {
   "cell_type": "code",
   "execution_count": 68,
   "metadata": {},
   "outputs": [
    {
     "name": "stdout",
     "output_type": "stream",
     "text": [
      "[11.66666667  2.33333333 11.66666667 11.66666667  2.33333333 11.66666667\n",
      "  8.        ]\n"
     ]
    },
    {
     "data": {
      "text/plain": [
       "8.0"
      ]
     },
     "execution_count": 68,
     "metadata": {},
     "output_type": "execute_result"
    }
   ],
   "source": [
    "res = f(arr.copy(), 7)\n",
    "res"
   ]
  },
  {
   "cell_type": "code",
   "execution_count": 58,
   "metadata": {},
   "outputs": [
    {
     "data": {
      "text/plain": [
       "array([[0.5       , 0.        , 0.25      , 0.        , 0.        ,\n",
       "        0.        , 0.        , 0.25      ],\n",
       "       [0.        , 0.        , 0.25      , 0.        , 0.        ,\n",
       "        0.25      , 0.        , 0.5       ],\n",
       "       [0.25      , 0.        , 0.5       , 0.        , 0.        ,\n",
       "        0.        , 0.25      , 0.        ],\n",
       "       [0.        , 0.        , 0.        , 0.5       , 0.        ,\n",
       "        0.25      , 0.        , 0.25      ],\n",
       "       [0.25      , 0.        , 0.        , 0.25      , 0.        ,\n",
       "        0.        , 0.5       , 0.        ],\n",
       "       [0.        , 0.        , 0.        , 0.25      , 0.        ,\n",
       "        0.5       , 0.25      , 0.        ],\n",
       "       [0.        , 0.        , 0.        , 0.        , 0.        ,\n",
       "        0.        , 1.        , 0.        ],\n",
       "       [0.16666667, 0.16666667, 0.16666667, 0.16666667, 0.16666667,\n",
       "        0.16666667, 0.        , 0.        ]])"
      ]
     },
     "execution_count": 58,
     "metadata": {},
     "output_type": "execute_result"
    }
   ],
   "source": [
    "arr"
   ]
  },
  {
   "cell_type": "code",
   "execution_count": 59,
   "metadata": {},
   "outputs": [
    {
     "data": {
      "text/plain": [
       "array([[0.08325949],\n",
       "       [0.00989222],\n",
       "       [0.08325949],\n",
       "       [0.08325949],\n",
       "       [0.00989222],\n",
       "       [0.08325949],\n",
       "       [0.59451256],\n",
       "       [0.05266505]])"
      ]
     },
     "execution_count": 59,
     "metadata": {},
     "output_type": "execute_result"
    }
   ],
   "source": [
    "res = d(initial, 8, arr.copy())\n",
    "res"
   ]
  },
  {
   "cell_type": "code",
   "execution_count": 60,
   "metadata": {},
   "outputs": [
    {
     "data": {
      "text/plain": [
       "array([[0],\n",
       "       [0],\n",
       "       [0],\n",
       "       [0],\n",
       "       [0],\n",
       "       [0],\n",
       "       [0],\n",
       "       [1]])"
      ]
     },
     "execution_count": 60,
     "metadata": {},
     "output_type": "execute_result"
    }
   ],
   "source": [
    "initial"
   ]
  },
  {
   "cell_type": "code",
   "execution_count": null,
   "metadata": {},
   "outputs": [],
   "source": []
  },
  {
   "cell_type": "code",
   "execution_count": null,
   "metadata": {},
   "outputs": [],
   "source": []
  },
  {
   "cell_type": "code",
   "execution_count": null,
   "metadata": {},
   "outputs": [],
   "source": []
  }
 ],
 "metadata": {
  "kernelspec": {
   "display_name": "Python 3",
   "language": "python",
   "name": "python3"
  },
  "language_info": {
   "codemirror_mode": {
    "name": "ipython",
    "version": 3
   },
   "file_extension": ".py",
   "mimetype": "text/x-python",
   "name": "python",
   "nbconvert_exporter": "python",
   "pygments_lexer": "ipython3",
   "version": "3.7.4"
  }
 },
 "nbformat": 4,
 "nbformat_minor": 4
}
