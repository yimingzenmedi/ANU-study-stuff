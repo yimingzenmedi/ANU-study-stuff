{
 "cells": [
  {
   "cell_type": "code",
   "execution_count": 1,
   "metadata": {},
   "outputs": [],
   "source": [
    "import numpy as np\n",
    "# import matplotlib.pyplot as plt"
   ]
  },
  {
   "cell_type": "code",
   "execution_count": 2,
   "metadata": {},
   "outputs": [],
   "source": [
    "def c(T, Xs, thr=0.00000000000001):\n",
    "    res = []\n",
    "    n = T.shape[0]\n",
    "    for x0 in Xs:\n",
    "        x1 = np.dot(T.T, x0)\n",
    "        diff = np.square((x1 - x0)).sum()\n",
    "        while diff > thr:\n",
    "            x0 = x1\n",
    "            x1 = np.dot(T.T, x1)\n",
    "            diff = np.square((x1 - x0)).sum()\n",
    "        res.append(x1)\n",
    "    return np.around(res, 5)"
   ]
  },
  {
   "cell_type": "code",
   "execution_count": 3,
   "metadata": {},
   "outputs": [],
   "source": [
    "a = 1/3\n",
    "b = 1/6"
   ]
  },
  {
   "cell_type": "code",
   "execution_count": 4,
   "metadata": {},
   "outputs": [],
   "source": [
    "arr = np.array([\n",
    "    [a, 0, b, 0, b, 0, 0, a],\n",
    "    [0, a, b, 0, 0, b, 0, a],\n",
    "    [b, b, a, 0, 0, 0, a, 0],\n",
    "    [0, 0, 0, a, b, b, 0, a],\n",
    "    [b, 0, 0, b, a, 0, a, 0],\n",
    "    [0, b, 0, b, 0, a, a, 0],\n",
    "    [0, 0, 0, 0, 0, 0, 1, 0],\n",
    "    [b, b, b, b, b, b, 0, 0]\n",
    "])"
   ]
  },
  {
   "cell_type": "code",
   "execution_count": 5,
   "metadata": {},
   "outputs": [],
   "source": [
    "Xs = [\n",
    "    np.array([[1, 0, 0, 0, 0, 0, 0, 0]]).T,\n",
    "    np.array([[0, 1, 0, 0, 0, 0, 0, 0]]).T,\n",
    "    np.array([[0, 0, 1, 0, 0, 0, 0, 0]]).T,\n",
    "    np.array([[0, 0, 0, 1, 0, 0, 0, 0]]).T,\n",
    "    np.array([[0, 0, 0, 0, 1, 0, 0, 0]]).T,\n",
    "    np.array([[0, 0, 0, 0, 0, 1, 0, 0]]).T,\n",
    "    np.array([[0, 0, 0, 0, 0, 0, 1, 0]]).T,\n",
    "    np.array([[0, 0, 0, 0, 0, 0, 0, 1]]).T\n",
    "]"
   ]
  },
  {
   "cell_type": "code",
   "execution_count": 6,
   "metadata": {},
   "outputs": [],
   "source": [
    "res = c(arr, Xs, 0.1 ** 15)"
   ]
  },
  {
   "cell_type": "code",
   "execution_count": 7,
   "metadata": {},
   "outputs": [
    {
     "data": {
      "text/plain": [
       "array([[[0.],\n",
       "        [0.],\n",
       "        [0.],\n",
       "        [0.],\n",
       "        [0.],\n",
       "        [0.],\n",
       "        [1.],\n",
       "        [0.]],\n",
       "\n",
       "       [[0.],\n",
       "        [0.],\n",
       "        [0.],\n",
       "        [0.],\n",
       "        [0.],\n",
       "        [0.],\n",
       "        [1.],\n",
       "        [0.]],\n",
       "\n",
       "       [[0.],\n",
       "        [0.],\n",
       "        [0.],\n",
       "        [0.],\n",
       "        [0.],\n",
       "        [0.],\n",
       "        [1.],\n",
       "        [0.]],\n",
       "\n",
       "       [[0.],\n",
       "        [0.],\n",
       "        [0.],\n",
       "        [0.],\n",
       "        [0.],\n",
       "        [0.],\n",
       "        [1.],\n",
       "        [0.]],\n",
       "\n",
       "       [[0.],\n",
       "        [0.],\n",
       "        [0.],\n",
       "        [0.],\n",
       "        [0.],\n",
       "        [0.],\n",
       "        [1.],\n",
       "        [0.]],\n",
       "\n",
       "       [[0.],\n",
       "        [0.],\n",
       "        [0.],\n",
       "        [0.],\n",
       "        [0.],\n",
       "        [0.],\n",
       "        [1.],\n",
       "        [0.]],\n",
       "\n",
       "       [[0.],\n",
       "        [0.],\n",
       "        [0.],\n",
       "        [0.],\n",
       "        [0.],\n",
       "        [0.],\n",
       "        [1.],\n",
       "        [0.]],\n",
       "\n",
       "       [[0.],\n",
       "        [0.],\n",
       "        [0.],\n",
       "        [0.],\n",
       "        [0.],\n",
       "        [0.],\n",
       "        [1.],\n",
       "        [0.]]])"
      ]
     },
     "execution_count": 7,
     "metadata": {},
     "output_type": "execute_result"
    }
   ],
   "source": [
    "res"
   ]
  },
  {
   "cell_type": "code",
   "execution_count": null,
   "metadata": {},
   "outputs": [],
   "source": []
  },
  {
   "cell_type": "code",
   "execution_count": 8,
   "metadata": {},
   "outputs": [],
   "source": [
    "def d(v, n, T):\n",
    "    res = v\n",
    "    for i in range(n):\n",
    "        res = np.dot(T.T, res)\n",
    "    return res"
   ]
  },
  {
   "cell_type": "code",
   "execution_count": 9,
   "metadata": {},
   "outputs": [
    {
     "data": {
      "text/plain": [
       "array([[0],\n",
       "       [0],\n",
       "       [0],\n",
       "       [0],\n",
       "       [0],\n",
       "       [0],\n",
       "       [0],\n",
       "       [1]])"
      ]
     },
     "execution_count": 9,
     "metadata": {},
     "output_type": "execute_result"
    }
   ],
   "source": [
    "initial = np.array([[0, 0, 0, 0, 0, 0, 0, 1]]).T\n",
    "initial"
   ]
  },
  {
   "cell_type": "code",
   "execution_count": 10,
   "metadata": {},
   "outputs": [
    {
     "data": {
      "text/plain": [
       "array([[0.0351456 ],\n",
       "       [0.0351456 ],\n",
       "       [0.0351456 ],\n",
       "       [0.0351456 ],\n",
       "       [0.0351456 ],\n",
       "       [0.0351456 ],\n",
       "       [0.74827738],\n",
       "       [0.04084902]])"
      ]
     },
     "execution_count": 10,
     "metadata": {},
     "output_type": "execute_result"
    }
   ],
   "source": [
    "res = d(initial, 10, arr)\n",
    "res"
   ]
  },
  {
   "cell_type": "code",
   "execution_count": 11,
   "metadata": {},
   "outputs": [
    {
     "data": {
      "text/plain": [
       "0.9999999999999999"
      ]
     },
     "execution_count": 11,
     "metadata": {},
     "output_type": "execute_result"
    }
   ],
   "source": [
    "res.sum()"
   ]
  },
  {
   "cell_type": "code",
   "execution_count": null,
   "metadata": {},
   "outputs": [],
   "source": []
  },
  {
   "cell_type": "code",
   "execution_count": 12,
   "metadata": {},
   "outputs": [],
   "source": [
    "# v: initial state vector\n",
    "# i: the ith state\n",
    "# T: transition matrix\n",
    "# thr: threshold to reach\n",
    "def e(v, i, T, thr):\n",
    "    n = 0\n",
    "    p = v[i - 1][0]\n",
    "    while p < thr:\n",
    "        v = np.dot(T.T, v)\n",
    "#         print(v)\n",
    "        p = v[i - 1][0]\n",
    "        n += 1\n",
    "#         print(p, \"\\n\")\n",
    "    return n"
   ]
  },
  {
   "cell_type": "code",
   "execution_count": 13,
   "metadata": {},
   "outputs": [
    {
     "data": {
      "text/plain": [
       "21"
      ]
     },
     "execution_count": 13,
     "metadata": {},
     "output_type": "execute_result"
    }
   ],
   "source": [
    "res = e(initial, 7, arr.copy(), 0.95)\n",
    "res"
   ]
  },
  {
   "cell_type": "code",
   "execution_count": null,
   "metadata": {},
   "outputs": [],
   "source": []
  },
  {
   "cell_type": "code",
   "execution_count": 14,
   "metadata": {},
   "outputs": [],
   "source": [
    "# arr = np.array([\n",
    "#     [a, 0, b, 0, b, 0, 0, a],\n",
    "#     [0, a, b, 0, 0, b, 0, a],\n",
    "#     [b, b, a, 0, 0, 0, a, 0],\n",
    "#     [0, 0, 0, a, b, b, 0, a],\n",
    "#     [b, 0, 0, b, a, 0, a, 0],\n",
    "#     [0, b, 0, b, 0, a, a, 0],\n",
    "#     [0, 0, 0, 0, 0, 0, 1, 0],\n",
    "#     [b, b, b, b, b, b, 0, 0]\n",
    "# ])\n",
    "# arr"
   ]
  },
  {
   "cell_type": "code",
   "execution_count": 15,
   "metadata": {},
   "outputs": [],
   "source": [
    "def f(T, i):\n",
    "    Q = np.delete(T, i - 1, axis=1)\n",
    "    Q = np.delete(Q, i - 1, axis=0)\n",
    "    I = np.identity(Q.shape[0])\n",
    "    N = np.linalg.inv(I - Q)\n",
    "    res = np.sum(N, axis=1)[-1]\n",
    "    return res\n",
    "    "
   ]
  },
  {
   "cell_type": "code",
   "execution_count": 16,
   "metadata": {},
   "outputs": [
    {
     "data": {
      "text/plain": [
       "7.999999999999989"
      ]
     },
     "execution_count": 16,
     "metadata": {},
     "output_type": "execute_result"
    }
   ],
   "source": [
    "res = f(arr.copy(), 7)\n",
    "res"
   ]
  },
  {
   "cell_type": "code",
   "execution_count": 17,
   "metadata": {},
   "outputs": [
    {
     "data": {
      "text/plain": [
       "array([[0.33333333, 0.        , 0.16666667, 0.        , 0.16666667,\n",
       "        0.        , 0.        , 0.33333333],\n",
       "       [0.        , 0.33333333, 0.16666667, 0.        , 0.        ,\n",
       "        0.16666667, 0.        , 0.33333333],\n",
       "       [0.16666667, 0.16666667, 0.33333333, 0.        , 0.        ,\n",
       "        0.        , 0.33333333, 0.        ],\n",
       "       [0.        , 0.        , 0.        , 0.33333333, 0.16666667,\n",
       "        0.16666667, 0.        , 0.33333333],\n",
       "       [0.16666667, 0.        , 0.        , 0.16666667, 0.33333333,\n",
       "        0.        , 0.33333333, 0.        ],\n",
       "       [0.        , 0.16666667, 0.        , 0.16666667, 0.        ,\n",
       "        0.33333333, 0.33333333, 0.        ],\n",
       "       [0.        , 0.        , 0.        , 0.        , 0.        ,\n",
       "        0.        , 1.        , 0.        ],\n",
       "       [0.16666667, 0.16666667, 0.16666667, 0.16666667, 0.16666667,\n",
       "        0.16666667, 0.        , 0.        ]])"
      ]
     },
     "execution_count": 17,
     "metadata": {},
     "output_type": "execute_result"
    }
   ],
   "source": [
    "arr"
   ]
  },
  {
   "cell_type": "code",
   "execution_count": 18,
   "metadata": {},
   "outputs": [
    {
     "data": {
      "text/plain": [
       "array([[0.04747752],\n",
       "       [0.04747752],\n",
       "       [0.04747752],\n",
       "       [0.04747752],\n",
       "       [0.04747752],\n",
       "       [0.04747752],\n",
       "       [0.65995085],\n",
       "       [0.05518404]])"
      ]
     },
     "execution_count": 18,
     "metadata": {},
     "output_type": "execute_result"
    }
   ],
   "source": [
    "res = d(initial, 8, arr.copy())\n",
    "res"
   ]
  },
  {
   "cell_type": "code",
   "execution_count": 19,
   "metadata": {},
   "outputs": [
    {
     "data": {
      "text/plain": [
       "array([[0],\n",
       "       [0],\n",
       "       [0],\n",
       "       [0],\n",
       "       [0],\n",
       "       [0],\n",
       "       [0],\n",
       "       [1]])"
      ]
     },
     "execution_count": 19,
     "metadata": {},
     "output_type": "execute_result"
    }
   ],
   "source": [
    "initial"
   ]
  },
  {
   "cell_type": "code",
   "execution_count": null,
   "metadata": {},
   "outputs": [],
   "source": []
  },
  {
   "cell_type": "code",
   "execution_count": null,
   "metadata": {},
   "outputs": [],
   "source": []
  }
 ],
 "metadata": {
  "kernelspec": {
   "display_name": "Python 3",
   "language": "python",
   "name": "python3"
  },
  "language_info": {
   "codemirror_mode": {
    "name": "ipython",
    "version": 3
   },
   "file_extension": ".py",
   "mimetype": "text/x-python",
   "name": "python",
   "nbconvert_exporter": "python",
   "pygments_lexer": "ipython3",
   "version": "3.7.4"
  }
 },
 "nbformat": 4,
 "nbformat_minor": 4
}
