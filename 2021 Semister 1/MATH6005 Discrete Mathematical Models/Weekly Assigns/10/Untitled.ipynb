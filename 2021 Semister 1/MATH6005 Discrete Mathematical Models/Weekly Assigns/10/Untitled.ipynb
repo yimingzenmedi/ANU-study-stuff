{
 "cells": [
  {
   "cell_type": "code",
   "execution_count": 1,
   "metadata": {},
   "outputs": [],
   "source": [
    "import numpy as np"
   ]
  },
  {
   "cell_type": "code",
   "execution_count": 4,
   "metadata": {},
   "outputs": [],
   "source": [
    "j = [0, 1, 1, 0]\n",
    "k = [1, 1, 1, 1]\n",
    "l = [1, 1, 0, 0]\n",
    "m = [1, 0, 1, 1]"
   ]
  },
  {
   "cell_type": "code",
   "execution_count": 20,
   "metadata": {},
   "outputs": [],
   "source": [
    "def q3(j, k, l, m):\n",
    "    res = []\n",
    "    for ij in range(4):\n",
    "        for ik in range(4):\n",
    "            for il in range(4):\n",
    "                for im in range(4):\n",
    "                    if j[ij] == k[ik] == l[il] == m[im] == 1:\n",
    "                        r = []\n",
    "                        r.append(ij)\n",
    "                        if ik not in r:\n",
    "                            r.append(ik)\n",
    "                            if il not in r:\n",
    "                                r.append(il)\n",
    "                                if im not in r:\n",
    "                                    r.append(im)\n",
    "                                    res.append(r)\n",
    "    for t in range(4):\n",
    "        for i in range(4):\n",
    "            res[t][i] += 1\n",
    "    return res\n",
    "                            \n",
    "                        \n",
    "                    "
   ]
  },
  {
   "cell_type": "code",
   "execution_count": 21,
   "metadata": {},
   "outputs": [
    {
     "data": {
      "text/plain": [
       "[[2, 3, 1, 4], [2, 4, 1, 3], [3, 1, 2, 4], [3, 2, 1, 4], [2, 3, 1, 0]]"
      ]
     },
     "execution_count": 21,
     "metadata": {},
     "output_type": "execute_result"
    }
   ],
   "source": [
    "q3(j, k, l, m)"
   ]
  },
  {
   "cell_type": "code",
   "execution_count": 9,
   "metadata": {},
   "outputs": [
    {
     "data": {
      "text/plain": [
       "False"
      ]
     },
     "execution_count": 9,
     "metadata": {},
     "output_type": "execute_result"
    }
   ],
   "source": [
    "a = [1,2,3]\n",
    "1 not in a"
   ]
  },
  {
   "cell_type": "code",
   "execution_count": 23,
   "metadata": {},
   "outputs": [],
   "source": [
    "a = 1/3\n",
    "b = 1/2\n",
    "c = 1/4\n",
    "d = 1/5"
   ]
  },
  {
   "cell_type": "code",
   "execution_count": 51,
   "metadata": {},
   "outputs": [],
   "source": [
    "T = np.array([\n",
    "    [0, a, a, 0, a, 0],\n",
    "    [b, 0, 0, b, 0, 0],\n",
    "    [0, 0, 0, 0, b, b],\n",
    "    [0, 1, 0, 0, 0, 0],\n",
    "    [c, c, 0, c, 0, c],\n",
    "    [d, d, d, d, d, 0]\n",
    "])"
   ]
  },
  {
   "cell_type": "code",
   "execution_count": 52,
   "metadata": {},
   "outputs": [],
   "source": [
    "I = np.identity(6)"
   ]
  },
  {
   "cell_type": "code",
   "execution_count": 53,
   "metadata": {},
   "outputs": [],
   "source": [
    "R = T.T - I"
   ]
  },
  {
   "cell_type": "code",
   "execution_count": 54,
   "metadata": {},
   "outputs": [
    {
     "data": {
      "text/plain": [
       "array([[-1.        ,  0.5       ,  0.        ,  0.        ,  0.25      ,\n",
       "         0.2       ,  0.        ],\n",
       "       [ 0.33333333, -1.        ,  0.        ,  1.        ,  0.25      ,\n",
       "         0.2       ,  0.        ],\n",
       "       [ 0.33333333,  0.        , -1.        ,  0.        ,  0.        ,\n",
       "         0.2       ,  0.        ],\n",
       "       [ 0.        ,  0.5       ,  0.        , -1.        ,  0.25      ,\n",
       "         0.2       ,  0.        ],\n",
       "       [ 0.33333333,  0.        ,  0.5       ,  0.        , -1.        ,\n",
       "         0.2       ,  0.        ],\n",
       "       [ 0.        ,  0.        ,  0.5       ,  0.        ,  0.25      ,\n",
       "        -1.        ,  0.        ]])"
      ]
     },
     "execution_count": 54,
     "metadata": {},
     "output_type": "execute_result"
    }
   ],
   "source": [
    "Z = np.array([[0, 0, 0, 0, 0, 0]]).T\n",
    "R = np.hstack((R, Z))\n",
    "R"
   ]
  },
  {
   "cell_type": "code",
   "execution_count": 55,
   "metadata": {},
   "outputs": [
    {
     "data": {
      "text/plain": [
       "array([[-1.        ,  0.5       ,  0.        ,  0.        ,  0.25      ,\n",
       "         0.2       ,  0.        ],\n",
       "       [ 0.33333333, -1.        ,  0.        ,  1.        ,  0.25      ,\n",
       "         0.2       ,  0.        ],\n",
       "       [ 0.33333333,  0.        , -1.        ,  0.        ,  0.        ,\n",
       "         0.2       ,  0.        ],\n",
       "       [ 0.        ,  0.5       ,  0.        , -1.        ,  0.25      ,\n",
       "         0.2       ,  0.        ],\n",
       "       [ 0.33333333,  0.        ,  0.5       ,  0.        , -1.        ,\n",
       "         0.2       ,  0.        ],\n",
       "       [ 1.        ,  1.        ,  1.        ,  1.        ,  1.        ,\n",
       "         1.        ,  1.        ]])"
      ]
     },
     "execution_count": 55,
     "metadata": {},
     "output_type": "execute_result"
    }
   ],
   "source": [
    "R[-1, :] = 1\n",
    "R"
   ]
  },
  {
   "cell_type": "code",
   "execution_count": null,
   "metadata": {},
   "outputs": [],
   "source": []
  },
  {
   "cell_type": "code",
   "execution_count": 56,
   "metadata": {},
   "outputs": [
    {
     "data": {
      "text/plain": [
       "487"
      ]
     },
     "execution_count": 56,
     "metadata": {},
     "output_type": "execute_result"
    }
   ],
   "source": [
    "99 + 22 * 7 + 8 * 5 + 99 + 12 * 5 + 35"
   ]
  },
  {
   "cell_type": "code",
   "execution_count": 57,
   "metadata": {},
   "outputs": [
    {
     "data": {
      "text/plain": [
       "13.914285714285715"
      ]
     },
     "execution_count": 57,
     "metadata": {},
     "output_type": "execute_result"
    }
   ],
   "source": [
    "487 / 35"
   ]
  },
  {
   "cell_type": "code",
   "execution_count": 76,
   "metadata": {},
   "outputs": [
    {
     "data": {
      "text/plain": [
       "array([0.20328542, 0.31622177, 0.08213552, 0.20328542, 0.12320329,\n",
       "       0.07186858])"
      ]
     },
     "execution_count": 76,
     "metadata": {},
     "output_type": "execute_result"
    }
   ],
   "source": [
    "t = np.array([99, 154, 40, 99, 60, 35]) / 487\n",
    "t"
   ]
  },
  {
   "cell_type": "code",
   "execution_count": 77,
   "metadata": {},
   "outputs": [
    {
     "data": {
      "text/plain": [
       "array([0.2033, 0.3162, 0.0821, 0.2033, 0.1232, 0.0719])"
      ]
     },
     "execution_count": 77,
     "metadata": {},
     "output_type": "execute_result"
    }
   ],
   "source": [
    "t = np.around(t, 4)\n",
    "t"
   ]
  },
  {
   "cell_type": "code",
   "execution_count": 71,
   "metadata": {},
   "outputs": [
    {
     "data": {
      "text/plain": [
       "0.9999999999999999"
      ]
     },
     "execution_count": 71,
     "metadata": {},
     "output_type": "execute_result"
    }
   ],
   "source": [
    "t.sum()"
   ]
  },
  {
   "cell_type": "code",
   "execution_count": null,
   "metadata": {},
   "outputs": [],
   "source": []
  }
 ],
 "metadata": {
  "kernelspec": {
   "display_name": "Python 3",
   "language": "python",
   "name": "python3"
  },
  "language_info": {
   "codemirror_mode": {
    "name": "ipython",
    "version": 3
   },
   "file_extension": ".py",
   "mimetype": "text/x-python",
   "name": "python",
   "nbconvert_exporter": "python",
   "pygments_lexer": "ipython3",
   "version": "3.7.4"
  }
 },
 "nbformat": 4,
 "nbformat_minor": 4
}
