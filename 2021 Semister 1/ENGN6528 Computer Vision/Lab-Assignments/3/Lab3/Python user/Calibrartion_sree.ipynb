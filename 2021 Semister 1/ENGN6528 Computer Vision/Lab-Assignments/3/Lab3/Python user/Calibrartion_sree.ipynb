{
 "cells": [
  {
   "cell_type": "markdown",
   "metadata": {
    "colab_type": "text",
    "id": "DmftS3V9FgP7"
   },
   "source": [
    "### CAMERA CALIBRATION\n",
    "\n"
   ]
  },
  {
   "cell_type": "code",
   "execution_count": 1,
   "metadata": {
    "colab": {},
    "colab_type": "code",
    "id": "Wma7m5CNU4Sk"
   },
   "outputs": [],
   "source": [
    "import numpy as np\n",
    "import cv2\n",
    "import scipy.io\n",
    "import os\n",
    "from numpy.linalg import norm\n",
    "from matplotlib import pyplot as plt\n",
    "from numpy.linalg import det\n",
    "from numpy.linalg import inv\n",
    "from scipy.linalg import rq\n",
    "from numpy.linalg import svd\n",
    "import matplotlib.pyplot as plt\n",
    "import numpy as np\n",
    "from matplotlib.patches import Circle"
   ]
  },
  {
   "cell_type": "markdown",
   "metadata": {
    "colab_type": "text",
    "id": "-kGO1wv-_QyJ"
   },
   "source": [
    "####This part of the code lets you use files from your Google Drive account\n",
    "####You need not use this if you are not using Google Colaboratory\n",
    "####Running code on Google Colab\n",
    "\n",
    "(a) Make a folder on Google Drive, upload this file and all the data files provided to you into the same folder\n",
    "\n",
    "(b) The last part of the URL will serve as the \"folder_id\" in the line below\n",
    "\n",
    "If you are unsure, you can read further here : https://stackoverflow.com/questions/48376580/google-colab-how-to-read-data-from-my-google-drive"
   ]
  },
  {
   "cell_type": "code",
   "execution_count": 4,
   "metadata": {
    "colab": {
     "base_uri": "https://localhost:8080/",
     "height": 252
    },
    "colab_type": "code",
    "id": "epoOxIRV8a_1",
    "outputId": "d4b4c369-ae52-460b-daee-29396a8718a4"
   },
   "outputs": [
    {
     "ename": "ModuleNotFoundError",
     "evalue": "No module named 'google.colab'",
     "output_type": "error",
     "traceback": [
      "\u001b[1;31m---------------------------------------------------------------------------\u001b[0m",
      "\u001b[1;31mModuleNotFoundError\u001b[0m                       Traceback (most recent call last)",
      "\u001b[1;32m<ipython-input-4-9d4a634de12f>\u001b[0m in \u001b[0;36m<module>\u001b[1;34m\u001b[0m\n\u001b[0;32m      5\u001b[0m \u001b[1;32mfrom\u001b[0m \u001b[0mpydrive\u001b[0m\u001b[1;33m.\u001b[0m\u001b[0mauth\u001b[0m \u001b[1;32mimport\u001b[0m \u001b[0mGoogleAuth\u001b[0m\u001b[1;33m\u001b[0m\u001b[1;33m\u001b[0m\u001b[0m\n\u001b[0;32m      6\u001b[0m \u001b[1;32mfrom\u001b[0m \u001b[0mpydrive\u001b[0m\u001b[1;33m.\u001b[0m\u001b[0mdrive\u001b[0m \u001b[1;32mimport\u001b[0m \u001b[0mGoogleDrive\u001b[0m\u001b[1;33m\u001b[0m\u001b[1;33m\u001b[0m\u001b[0m\n\u001b[1;32m----> 7\u001b[1;33m \u001b[1;32mfrom\u001b[0m \u001b[0mgoogle\u001b[0m\u001b[1;33m.\u001b[0m\u001b[0mcolab\u001b[0m \u001b[1;32mimport\u001b[0m \u001b[0mauth\u001b[0m\u001b[1;33m\u001b[0m\u001b[1;33m\u001b[0m\u001b[0m\n\u001b[0m\u001b[0;32m      8\u001b[0m \u001b[1;32mfrom\u001b[0m \u001b[0moauth2client\u001b[0m\u001b[1;33m.\u001b[0m\u001b[0mclient\u001b[0m \u001b[1;32mimport\u001b[0m \u001b[0mGoogleCredentials\u001b[0m\u001b[1;33m\u001b[0m\u001b[1;33m\u001b[0m\u001b[0m\n\u001b[0;32m      9\u001b[0m \u001b[1;33m\u001b[0m\u001b[0m\n",
      "\u001b[1;31mModuleNotFoundError\u001b[0m: No module named 'google.colab'"
     ]
    }
   ],
   "source": [
    "folder_id = ' ' # Enter the last part of the URL of the Google Drive folder here\n",
    "\n",
    "!pip install -U -q PyDrive\n",
    "\n",
    "from pydrive.auth import GoogleAuth\n",
    "from pydrive.drive import GoogleDrive\n",
    "from google.colab import auth\n",
    "from oauth2client.client import GoogleCredentials\n",
    "\n",
    "\n",
    "# 1. Authenticate and create the PyDrive client.\n",
    "auth.authenticate_user()\n",
    "gauth = GoogleAuth()\n",
    "gauth.credentials = GoogleCredentials.get_application_default()\n",
    "drive = GoogleDrive(gauth)\n",
    "\n",
    "# choose a local (colab) directory to store the data.\n",
    "local_download_path = os.path.expanduser('~/data')\n",
    "try:\n",
    "    os.makedirs(local_download_path)\n",
    "except: pass\n",
    "\n",
    "# 2. Auto-iterate using the query syntax\n",
    "#    https://developers.google.com/drive/v2/web/search-parameters\n",
    "file_list = drive.ListFile(\n",
    "    {'q': '\\'' + folder_id + \"\\' in parents\"}).GetList()\n",
    "\n",
    "for f in file_list:\n",
    "    # 3. Create & download by id.\n",
    "    print('title: %s, id: %s' % (f['title'], f['id']))\n",
    "    fname = os.path.join(local_download_path, f['title'])\n",
    "    print('downloading to {}'.format(fname))\n",
    "    f_ = drive.CreateFile({'id': f['id']})\n",
    "    f_.GetContentFile(fname)\n",
    "  \n",
    "os.chdir(local_download_path)"
   ]
  },
  {
   "cell_type": "markdown",
   "metadata": {
    "colab_type": "text",
    "id": "fTUXHAEoWSMU"
   },
   "source": [
    "####PART 1: Given corresponding 2d points in the image and 3d coordinates with known extrinsics, estimate the camera intrinsics of the form given in the CalibrationAssignment.docx"
   ]
  },
  {
   "cell_type": "code",
   "execution_count": null,
   "metadata": {
    "colab": {
     "base_uri": "https://localhost:8080/",
     "height": 101
    },
    "colab_type": "code",
    "id": "DAdmjVtfVJrv",
    "outputId": "d995a518-fef7-4907-c84a-f82eb8946d05"
   },
   "outputs": [],
   "source": [
    "# Code for Part 1 starts here\n",
    "\n",
    "# Step 1: Load the data file pt_corres.mat\n",
    "data_part1 = scipy.io.loadmat('pt_corres.mat')\n",
    "cam_pts_3D = data_part1['cam_pts_3D']         # Load the 3d points\n",
    "pts_2D = data_part1['pts_2D']                 # Load the corresponding 2d points\n",
    "\n",
    "print pts_2D.shape\n",
    "print cam_pts_3D.shape\n",
    "\n",
    "# Step 2: Write your code here to compute the camera intrinsics \n",
    "\n",
    "#Obtain the transpose of two matrices\n",
    "pts_2DT=np.transpose(pts_2D)\n",
    "cam_pts_3DT=np.transpose(cam_pts_3D)\n",
    "\n",
    "one=np.ones((28,1))\n",
    "\n",
    "#Matrix AT is composed of three columns with the first column being the x values of the image points, \n",
    "#second column being the y values of the image points and the third column being zeros \n",
    "\n",
    "A = np.hstack((pts_2DT,one))\n",
    "AT=np.transpose(A)\n",
    "\n",
    "#Compose matrix BT such that 1st column is X/Z, 2nd column is Y/Z, 3rd column is one\n",
    "x1=np.empty((28,1))\n",
    "x2=np.empty((28,1))\n",
    "for i in range(0,28):\n",
    "  x1[i]=cam_pts_3DT[i][0]/cam_pts_3DT[i][2]\n",
    "  x2[i]=cam_pts_3DT[i][1]/cam_pts_3DT[i][2]\n",
    "\n",
    "B=np.hstack((x1,x2,one))\n",
    "BT=np.transpose(B)\n",
    "Binv = np.linalg.pinv(BT)\n",
    "print(\"K\", np.dot(AT,Binv))\n",
    "# Code for Part 1 ends here"
   ]
  },
  {
   "cell_type": "markdown",
   "metadata": {
    "colab_type": "text",
    "id": "WvwcavClWxUa"
   },
   "source": [
    "####PART 2: Given 2d points on the image and corresponding 3d points in the world-coordinate system, estimate both intrinsics and extrinsics. You need to fill in the code for the function calibrate() in calib_DLT.ipynb before running the cell below"
   ]
  },
  {
   "cell_type": "code",
   "execution_count": null,
   "metadata": {
    "colab": {},
    "colab_type": "code",
    "id": "U0BtxTff-_Pz"
   },
   "outputs": [],
   "source": []
  }
 ],
 "metadata": {
  "colab": {
   "collapsed_sections": [],
   "name": "Calibrartion_sree.ipynb",
   "provenance": [],
   "version": "0.3.2"
  },
  "kernelspec": {
   "display_name": "Python 3",
   "language": "python",
   "name": "python3"
  },
  "language_info": {
   "codemirror_mode": {
    "name": "ipython",
    "version": 3
   },
   "file_extension": ".py",
   "mimetype": "text/x-python",
   "name": "python",
   "nbconvert_exporter": "python",
   "pygments_lexer": "ipython3",
   "version": "3.7.4"
  }
 },
 "nbformat": 4,
 "nbformat_minor": 4
}
