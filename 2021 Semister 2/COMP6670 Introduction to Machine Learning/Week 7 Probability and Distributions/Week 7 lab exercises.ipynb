{
 "cells": [
  {
   "cell_type": "markdown",
   "metadata": {},
   "source": [
    "**COMP3670/6670 Tutorial Week 7 - Regression**\n",
    "---"
   ]
  },
  {
   "cell_type": "markdown",
   "metadata": {},
   "source": [
    "THEORY SECTION\n",
    "---"
   ]
  },
  {
   "cell_type": "markdown",
   "metadata": {},
   "source": [
    "Regression and gradient descent are pillars in machine learning. \n",
    "\n",
    "The first part of this tutorial to go over the lecture slides in regression and gradient descent.  \n",
    "\n",
    "**PRIORITIES:**\n",
    "1. Ensure you understand **every step** of (stochastic) gradient desent.\n",
    "2. Ensure you could can derive the gradient of regression problems with or without regression. \n",
    "\n",
    "Once that's all done, revisit the clustering section. Did you understand everything here as well? Unsupervised learning is important because it not only has immediate practical uses but is more relevant to the development of AGI (Artificial General Intelligence) than supervised (labelled) learning. If you don't understand this paragraph, please ask your tutor to clarify the meaning of supervised and unsupservised learning."
   ]
  },
  {
   "cell_type": "markdown",
   "metadata": {},
   "source": [
    "**PROGRAMMING SECTION**\n",
    "---\n",
    "\n",
    "We're going to do a simple scalar linear regression with gradient descent.\n",
    "\n",
    "\n",
    "-----------\n",
    "\n",
    "   **TASK:** \n",
    "   \n",
    "   1. Randomly generate a matrix $X \\in \\mathbb{R}^{m \\times n}$, where each row of $X$ is a training example.\n",
    "   2. Choose a vector $t \\in \\mathbb{R}^{n \\times 1}$.\n",
    "   3. Generate $Y$ by $Xt = Y$.\n",
    "   4. Then generate a random matrix $\\theta \\in \\mathbb{R}^{n \\times 1}$.\n",
    "   5. Implement gradient descent to approximate $t$ with $\\theta$.\n",
    "   6. Check your gradient descent algorithm correctly approximated $t$. Talk to your classmates and tutor to make sure if you're unsure.\n",
    "   7. Verify your answer with the closed form solution employing the Moore-Penrose inverse.\n",
    "   \n",
    "Note that in the above we're essentially pretending we don't know $t$. Obviously, if we have $t$, linear regression with gradient descent would be unnecessary, but the point is to help you understand what gradient descent is doing.\n",
    "\n",
    "Also note: we should use the squared loss function, computed as the square of the difference between the predicted function values and the observed function values (or ground truth). \n",
    "\n",
    "\n",
    "-----------\n",
    "\n",
    "**GENERAL COURSE HINTS:** \n",
    "- $n$ can be any number you like, but be reasonable.\n",
    "- If you need extra study materials, Stanford and MIT both have some amazing freely available course content online. Look up \"Machine Learning Stanford CS229\" or \"CS221\" or \"CS221N\" for details.\n",
    "- Wikipedia is your friend. It's not always right, but it's always there for you."
   ]
  },
  {
   "cell_type": "code",
   "execution_count": 1,
   "metadata": {},
   "outputs": [],
   "source": [
    "# YOUR CODE HERE.\n"
   ]
  },
  {
   "cell_type": "markdown",
   "metadata": {},
   "source": [
    "-----------\n",
    "**Extended Task:** We study various influence factors in training a linear regression model in this task.\n",
    "\n",
    "1. noise. When collecting real-world data, it is common that there would be noise included. Adding noise to your generated data and see how would this influence the parameter estimation.\n",
    "\n",
    "2. sample amount. Sometimes it is expensive to collect data while a lot of parameters need to be trained. Let's study the effect of training example amount. That is changing the $m$ for $X \\in \\mathbb{R}^{m \\times n}$ and compare the final loss fixing training epoch and learning rate. \n",
    "\n",
    "3. learning rate. How would the learning rate influence the convergence of the optimization process?\n",
    "\n",
    "-----------\n",
    "**Hint**\n",
    "- You can add noise by settting $Y=Xt+\\epsilon$ where $\\epsilon \\sim \\mathcal{N}(\\mu,\\sigma^2)$."
   ]
  },
  {
   "cell_type": "code",
   "execution_count": null,
   "metadata": {},
   "outputs": [],
   "source": [
    "# YOUR CODE HERE."
   ]
  }
 ],
 "metadata": {
  "kernelspec": {
   "display_name": "Python 3",
   "language": "python",
   "name": "python3"
  },
  "language_info": {
   "codemirror_mode": {
    "name": "ipython",
    "version": 3
   },
   "file_extension": ".py",
   "mimetype": "text/x-python",
   "name": "python",
   "nbconvert_exporter": "python",
   "pygments_lexer": "ipython3",
   "version": "3.8.3"
  }
 },
 "nbformat": 4,
 "nbformat_minor": 4
}
