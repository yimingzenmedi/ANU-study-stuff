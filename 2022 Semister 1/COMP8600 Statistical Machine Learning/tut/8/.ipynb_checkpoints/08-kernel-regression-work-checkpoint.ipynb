{
 "cells": [
  {
   "cell_type": "markdown",
   "metadata": {},
   "source": [
    "# Kernel Methods"
   ]
  },
  {
   "cell_type": "markdown",
   "metadata": {},
   "source": [
    "###### COMP4670/8600 - Statistical Machine Learning - Tutorial"
   ]
  },
  {
   "cell_type": "markdown",
   "metadata": {},
   "source": [
    "In this lab, we will predict the median value of houses in Boston using a quadratic basis and an equivalent kernel method.\n",
    "\n",
    "### Assumed knowledge\n",
    "- Linear regression (week 2)\n",
    "- Kernel methods (week 7 lectures)\n",
    "\n",
    "\n",
    "### After this lab, you should be comfortable with:\n",
    "- Applying machine learning techniques with a non-linear basis\n",
    "- Using kernel methods instead of a new basis\n",
    "- Evaluating when using a kernel method would or would not be sensible"
   ]
  },
  {
   "cell_type": "markdown",
   "metadata": {},
   "source": [
    "$\\newcommand{\\RR}{\\mathbb{R}}$\n",
    "$\\newcommand{\\dotprod}[2]{\\langle #1, #2 \\rangle}$\n",
    "\n",
    "Setting up the environment"
   ]
  },
  {
   "cell_type": "code",
   "execution_count": null,
   "metadata": {},
   "outputs": [],
   "source": [
    "import matplotlib.pyplot as plt\n",
    "import numpy as np\n",
    "from sklearn.model_selection import train_test_split\n",
    "\n",
    "%matplotlib inline"
   ]
  },
  {
   "cell_type": "markdown",
   "metadata": {},
   "source": [
    "## Loading the dataset\n",
    "In this lab, we will use the same [dataset](https://machlearn.gitlab.io/sml2019/tutorials/02-dataset.csv) as in week 2, which describes the price of housing in Boston (see [description](https://www.cs.toronto.edu/~delve/data/boston/bostonDetail.html)). \n",
    "We aim to predict the value of a home from other factors.\n",
    "In this dataset, each row represents the data of one house. The first column is the value of the house, which is the target to predict. The remaining columns are features, which has been normalised to be in the range $[-1, 1]$. The corresponding labels of columns are\n",
    "\n",
    "```'medv', 'crim', 'zn', 'indus', 'chas', 'nox', 'rm', 'age', 'dis', 'rad', 'tax', 'ptratio', 'b', 'lstat'```\n",
    "\n",
    "Download the dataset. Read in the data using ```np.loadtxt``` with the optional argument ```delimiter=','```, as our data is comma separated rather than space separated. Remove the column containing the binary variable ```'chas'```.\n",
    "\n",
    "Check that the data is as expected using ```print()```. It should have 506 rows (examples) and 13 columns (1 label and 12 features). Check that this is the case. \n",
    "\n",
    "Hint: use  assert."
   ]
  },
  {
   "cell_type": "code",
   "execution_count": null,
   "metadata": {},
   "outputs": [],
   "source": [
    "names = ['medv', 'crim', 'zn', 'indus', 'chas', 'nox', 'rm', 'age', 'dis', 'rad', 'tax', 'ptratio', 'b', 'lstat']"
   ]
  },
  {
   "cell_type": "code",
   "execution_count": null,
   "metadata": {},
   "outputs": [],
   "source": [
    "loaded_data = np.loadtxt('08-dataset.csv', delimiter=',')\n",
    "\n",
    "# remove chas\n",
    "column_idxes = list(range(len(names)))\n",
    "chas_idx = names.index('chas')\n",
    "wanted_columns = list(column_idxes)\n",
    "wanted_columns.remove(chas_idx)\n",
    "data = loaded_data[:,wanted_columns]\n",
    "data_names = list(names)\n",
    "data_names.remove('chas')\n",
    "\n",
    "print(data_names)\n",
    "print(np.array_str(data[:5], precision=3))\n",
    "assert data.shape == (506,13)"
   ]
  },
  {
   "cell_type": "markdown",
   "metadata": {},
   "source": [
    "## Before coding: Explain kernel methods, dual representations \n",
    "\n",
    "Please spend 5 minutes to explain to your neighbours what are kernel methods and dual representations.\n",
    "\n",
    "Then find a piece of paper, derive how to from the linear regression model with regularised sum-of-squares error \n",
    "$$J(\\mathbf{w}) = \\frac{1}{2} \\sum_{n=1}^N(\\mathbf{w}^T \\phi(\\mathbf{x_n}) - t_n)^2 + \\frac{\\lambda}{2} \\mathbf{w}^T\\mathbf{w},$$\n",
    "get to the dual representations \n",
    "$$J(\\mathbf{a}) = \\frac{1}{2} \\mathbf{a}^T \\mathbf{KKa} - \\mathbf{a}^T \\mathbf{Kt} + \\frac{1}{2}\\mathbf{t}^T \\mathbf{t} + \\frac{\\lambda}{2} \\mathbf{a}^T\\mathbf{Ka},$$\n",
    "where $\\mathbf{K=\\Phi \\Phi}^T$ with elements $K_{ij} = \\phi(\\mathbf{x_i})^T\\phi(\\mathbf{x_j})$"
   ]
  },
  {
   "cell_type": "markdown",
   "metadata": {},
   "source": [
    "## Overview\n",
    "\n",
    "This notebook contains two parts. Part one is to implement linear regression with a basis function, for example, [a polynomial basis function of degree 2](https://en.wikipedia.org/wiki/Polynomial_kernel) as mentioned in week 2, we call it quadratic basis function below. The basis function can be understood as a feature mapping from raw input space into the new feature space. Part two is kernel regression, i.e. linear regression with kernel function $k(\\mathbf{x,y}) = (\\dotprod{\\mathbf{x}}{\\mathbf{y}} + 1)^2$. We'll see the kernel function implementation is equavilant of the quadratic basis function implementation.  \n",
    "\n",
    "## Refresh: Linear regression\n",
    "\n",
    "First remind yourself of what linear regression is by our implemention of linear regression with regularisation on the Boston dataset. Use 80% of the available data for training the model using maximum likelihood with regularisation (assuming Gaussian noise). The rest of the data is allocated to the test set.\n",
    "\n",
    "Report the root mean squared error (RMSE) for the training set and the test set. We'll compare the results with the linear regression with basis function, and the linear regression with kernel function later on.\n",
    "\n",
    "**TODO**: Implement the analytic solution of $\\frac{\\partial J(\\mathbf{w})}{\\partial\\mathbf{w}}=0$ in the function  ```w_ml_regularised(Phi, t, l)```, where ```l``` stands for $\\lambda$. Note that $$\\Phi=\n",
    "\\begin{pmatrix}\n",
    "    \\phi(\\mathbf{x_1})^T \\\\\n",
    "    \\phi(\\mathbf{x_2})^T \\\\\n",
    "    \\vdots \\\\\n",
    "    \\phi(\\mathbf{x_n})^T \\\\\n",
    "\\end{pmatrix},$$\n",
    "where $\\phi(\\mathbf{x_i})$ denotes the feature vector for the $i$-th datapoint, and $n$ denotes the total number of datapoints."
   ]
  },
  {
   "cell_type": "code",
   "execution_count": null,
   "metadata": {},
   "outputs": [],
   "source": [
    "def w_ml_regularised(Phi, t, l):\n",
    "    \"\"\"Produce the analytic solution of w given input features and labels.\"\"\"\n",
    "    \n",
    "    w = None # TODO\n",
    "    \n",
    "    return w\n",
    "\n",
    "def split_data(data, train_size):\n",
    "    \"\"\"Randomly split data into two groups. The first group is a fifth of the data.\"\"\"\n",
    "    np.random.seed(1)\n",
    "    N = len(data)\n",
    "    idx = np.arange(N)\n",
    "    np.random.shuffle(idx)\n",
    "    train_idx = idx[:int(train_size * N)]\n",
    "    test_idx = idx[int(train_size * N):]\n",
    "\n",
    "    # Assume label is in the first column\n",
    "    X_train = data[train_idx, 1:]\n",
    "    t_train = data[train_idx, 0]\n",
    "    X_test = data[test_idx, 1:]\n",
    "    t_test = data[test_idx, 0]\n",
    "    \n",
    "    return X_train, t_train, X_test, t_test\n",
    "\n",
    "def rmse(X_train, t_train, X_test, t_test, w):\n",
    "    \"\"\"Return the RMSE for training and test sets\"\"\"\n",
    "    N_train = len(X_train)\n",
    "    N_test = len(X_test)\n",
    "\n",
    "    # Training set error\n",
    "    t_train_pred = np.dot(X_train, w)\n",
    "    rmse_train = np.linalg.norm(t_train_pred - t_train) / np.sqrt(N_train)\n",
    "\n",
    "    # Test set error\n",
    "    t_test_pred = np.dot(X_test, w)\n",
    "    rmse_test = np.linalg.norm(t_test_pred - t_test) / np.sqrt(N_test)\n",
    "\n",
    "    return rmse_train, rmse_test\n",
    "\n",
    "def lr(X, l, split_rate):\n",
    "    \"\"\"Return RMSE for the training set and the test set\n",
    "    \n",
    "    Parameters\n",
    "    ------------------------------------------------------\n",
    "    X: numpy matrix, whole dataset \n",
    "    l: float, regularisation parameter\n",
    "    split_rate: int, the percent of training dataset\n",
    "    \n",
    "    Returns\n",
    "    ------------------------------------------------------\n",
    "    train_rmse: float, RMSE for training set\n",
    "    test_rmse: float, RMSE for testing set\n",
    "    \"\"\"\n",
    "    X0 = np.ones((data.shape[0], 1))\n",
    "    X = np.hstack((X, X0))\n",
    "\n",
    "    X_train, t_train, X_test, t_test = split_data(X, split_rate)\n",
    "    # alternatively: use train_test_split\n",
    "    #X_train, X_test, t_train, t_test = train_test_split(X[:,1:], X[:, 0], test_size = 1 - split_rate, random_state = 42)\n",
    "    w_reg = w_ml_regularised(X_train, t_train,l)\n",
    "\n",
    "    train_rmse, test_rmse = rmse(X_train, t_train, X_test, t_test, w_reg)\n",
    "    return train_rmse, test_rmse\n",
    "\n",
    "train_rmse, test_rmse = lr(data, 1.1, 0.8)\n",
    "print(\"Regression: RMSE with regularisation: Train {:.6f}, Test {:.6f}\".format(train_rmse, test_rmse))\n",
    "print(\"Expected value: Train 4.74, Test 4.89\")"
   ]
  },
  {
   "cell_type": "markdown",
   "metadata": {},
   "source": [
    "## Part 1: Linear regression with quadratic basis function\n",
    "\n",
    "Let $X \\in \\RR^{n \\times d}$ be the data matrix containing n datapoints $\\mathbf{x_i} \\in \\RR^{d}$. We can choose to train and test using the raw data $X$ as the input to our model as the above method. Alternatively, we could use $$\\Phi= [\\mathbf{\\phi(x_1)}, \\mathbf{\\phi(x_2)}, ..., \\mathbf{\\phi(x_n)}]^T \\in \\RR^{n \\times m},$$ where $\\mathbf{\\phi(x_i)}$ is some transformation of $\\mathbf{x_i}$, m is the dimension of $\\mathbf{\\phi(x_i)}$.\n",
    "\n",
    "For this lab, write $\\mathbf{x_i} = (x_{i,1},\\dots,x_{i,d})$. Let\n",
    "$$\n",
    "\\phi(\\mathbf{x_i}) = (x_{i,1}^2, x_{i,2}^2, \\ldots, x_{i,d}^2, \\sqrt{2}x_{i,1} x_{i,2}, \\ldots, \\sqrt{2}x_{i,d-1}x_{i,d}, \\sqrt{2}x_{i,1}, \\ldots, \\sqrt{2}x_{i,d}, 1).\n",
    "$$\n",
    "Note that $\\phi(\\mathbf{x_i})$ is all quadratic functions of elements of $\\mathbf{x_i}$ and 1 (The $\\sqrt{2}$ coefficients are for normalisation for later in the lab).\n",
    "We say that we are using a *quadratic basis function*.\n",
    "\n",
    "Train and test the data with ```quadratic_lr```, report the RMSE for the training set and the test set.\n",
    "\n",
    "**TODO**:  \n",
    "1. write a function called ```phi_quadratic``` with a single datapoint $\\mathbf{x_i}$ as input and the quadratic basis function $\\phi(\\mathbf{x_i})$ as output.  \n",
    "2. write a function called ```feature_map``` with raw data matrix $X$ as input and $\\Phi$ as output by using ```phi_quadratic``` for each datapoint. \n",
    "3. in function ```quadratic_lr```, make use of previous functions and give the analytic solution for $\\mathbf{w}$."
   ]
  },
  {
   "cell_type": "code",
   "execution_count": null,
   "metadata": {},
   "outputs": [],
   "source": [
    "def phi_quadratic(x):\n",
    "    \"\"\"Compute phi(x) for a single training example using quadratic basis function.\"\"\"\n",
    "    \n",
    "    raise NotImplementedError # TODO\n",
    "    \n",
    "    return feat # (m,)\n",
    "\n",
    "def feature_map(X):\n",
    "    \"\"\"Return the matrix of the feature map.\"\"\"\n",
    "    \n",
    "    raise NotImplementedError # TODO\n",
    "    \n",
    "    return Phi # (n,m)\n",
    "\n",
    "def quadratic_lr(X, l, split_rate):\n",
    "    \"\"\"Return RMSE for the training set and the test set\n",
    "    \n",
    "    Parameters\n",
    "    ------------------------------------------------------\n",
    "    X: numpy matrix, whole dataset \n",
    "    l: float, regularisation parameter\n",
    "    split_rate: int, the percent of training dataset\n",
    "    \n",
    "    Returns\n",
    "    ------------------------------------------------------\n",
    "    train_rmse: float, RMSE for training set\n",
    "    test_rmse: float, RMSE for testing set\n",
    "    \"\"\"\n",
    "    \n",
    "    X_train, t_train, X_test, t_test = split_data(X, split_rate)\n",
    "    w_reg = None # TODO\n",
    "\n",
    "    train_rmse, test_rmse = rmse(feature_map(X_train), t_train, feature_map(X_test), t_test, w_reg)\n",
    "    return train_rmse, test_rmse\n",
    "\n",
    "train_rmse, test_rmse = quadratic_lr(data, 1.1, 0.8)\n",
    "print(\"Quadratic basis: RMSE with regularisation: Train {:.6f}, Test {:.6f}\".format(train_rmse, test_rmse))\n",
    "print(\"Expected value: Train 2.79, Test 3.34\")"
   ]
  },
  {
   "cell_type": "markdown",
   "metadata": {},
   "source": [
    "## Part 2: Linear regression with a kernel\n",
    "\n",
    "### Computing a basis transformation as an inner product\n",
    "\n",
    "Define $k(\\mathbf{x,y}) = (\\dotprod{\\mathbf{x}}{\\mathbf{y}} + 1)^2$, where $\\mathbf{x,y} \\in \\mathbb{R}^2$. One way to verify $k(\\mathbf{x,y})$ is a kernel function is to write this as an inner product of a verctor valued function evaluated at $\\mathbf{x}$ and $\\mathbf{y}$. That is, show we have $k(\\mathbf{x}, \\mathbf{y}) = \\dotprod{\\phi(\\mathbf{x})}{\\phi(\\mathbf{y})}$ and specify what is $\\phi(\\mathbf{x}), \\phi(\\mathbf{y})$."
   ]
  },
  {
   "cell_type": "markdown",
   "metadata": {},
   "source": [
    "### <span style=\"color:blue\">Answer</span>\n",
    "<i>--- replace this with your solution, add and remove code and markdown cells as appropriate ---</i>"
   ]
  },
  {
   "cell_type": "markdown",
   "metadata": {},
   "source": [
    "Then convince yourself that, for $X \\in \\RR^{n \\times d}, Y \\in \\RR^{m \\times d}$, then $K = (X Y^T  + 1)^2 \\in \\RR^{n \\times m}$ (addition and square term are element-wise) contains elements as kernel function between each pair of datapoints of X and Y,\n",
    "$$K_{ij} = \\phi(\\mathbf{x_i})^T \\phi(\\mathbf{y_j}) = k(\\mathbf{x_i}, \\mathbf{y_j}).$$\n",
    "\n",
    "### Kernelised Regression\n",
    "**TODO**:\n",
    "Write the function ```kernel_quadratic``` which takes $X$, $Y$  as input and $K$ as output."
   ]
  },
  {
   "cell_type": "code",
   "execution_count": null,
   "metadata": {},
   "outputs": [],
   "source": [
    "def kernel_quadratic(X, Y):\n",
    "    \n",
    "    raise NotImplementedError # TODO\n",
    "    \n",
    "    return K"
   ]
  },
  {
   "cell_type": "markdown",
   "metadata": {},
   "source": [
    "**TODO**:\n",
    "Complete the function ```kernelised_lr``` with raw data matrix $X$ as input and root mean squared error (RMSE) for the training set and the test set as output. Inside of the function, make use of ```kernel_quadratic``` to apply dual representation, and calculate the predicted labels for training data and testing data repectively."
   ]
  },
  {
   "cell_type": "code",
   "execution_count": null,
   "metadata": {},
   "outputs": [],
   "source": [
    "def kernelised_lr(X, l, split_rate):\n",
    "    \"\"\"Return RMSE for the training set and the test set\n",
    "    \n",
    "    Parameters\n",
    "    ------------------------------------------------------\n",
    "    X: numpy matrix, whole dataset \n",
    "    l: float, regularisation parameter\n",
    "    split_rate: int, the percent of training dataset\n",
    "    \n",
    "    Returns\n",
    "    ------------------------------------------------------\n",
    "    rmse_train: float, RMSE for training set\n",
    "    rmse_test: float, RMSE for testing set\n",
    "    \"\"\"\n",
    "    \n",
    "    X_train, t_train, X_test, t_test = split_data(X, split_rate)\n",
    "    N_train = X_train.shape[0]\n",
    "    N_test = X_test.shape[0]\n",
    "    \n",
    "    raise NotImplementedError # TODO\n",
    "    \n",
    "    # Training set error\n",
    "    t_train_pred = None # TODO\n",
    "    rmse_train = np.linalg.norm(t_train_pred - t_train) / np.sqrt(N_train)\n",
    "\n",
    "    # Test set error\n",
    "    t_test_pred = None # TODO\n",
    "    rmse_test = np.linalg.norm(t_test_pred - t_test) / np.sqrt(N_test)\n",
    "\n",
    "    return rmse_train, rmse_test\n",
    "\n",
    "train_rmse, test_rmse = kernelised_lr(data, 1.1, 0.8)\n",
    "print(\"Kernelised Regression: RMSE with regularisation: Train {:.6f}, Test {:.6f}\".format(train_rmse, test_rmse))\n",
    "print(\"Expected value: Train 2.79, Test 3.33\")"
   ]
  },
  {
   "cell_type": "markdown",
   "metadata": {},
   "source": [
    "## Time complexity\n",
    "\n",
    "Compare the above two methods (quadratic basis function, kernel method) in terms of time complexity.\n",
    "\n",
    "In terms of time complexity, is using a kernel method suitable in this case? What are potential advantages of using a kernel method? Disadvantages? "
   ]
  },
  {
   "cell_type": "markdown",
   "metadata": {},
   "source": [
    "### <span style=\"color:blue\">Answer</span>\n",
    "<i>--- replace this with your solution, add and remove code and markdown cells as appropriate ---</i>"
   ]
  },
  {
   "cell_type": "markdown",
   "metadata": {},
   "source": [
    "## Textbook Questions (Optional)\n",
    "These questions are hand picked to both be of reasonable difficulty and demonstrate what you are expected to be able to solve. The questions are labelled in Bishop as either $\\star$, $\\star\\star$, or $\\star\\star\\star$ to rate its difficulty.\n",
    "\n",
    "- **Question 6.1**: Understand dual formulation (Difficulty $\\star\\star$, simple algebraic derivation)\n",
    "- **Question 6.2**: Dual formulation for perceptron learning algorithm (Difficulty $\\star\\star$, simple algebraic derivation)\n",
    "- **Question 6.11**: You may want to use Taylor expansion to represent term $\\exp(\\mathbf{x}^T\\mathbf{x}'/2\\sigma^2)$ (Difficulty $\\star$)\n",
    "- **Question 6.12**: To prove $k\\left(A_{1}, A_{2}\\right)=2^{\\left|A_{1} \\cap A_{2}\\right|}=\\phi\\left(A_{1}\\right)^{T} \\phi\\left(A_{2}\\right)$. (Difficulty $\\star\\star$)\n",
    "- **Question 6.13**: Use chain rule to represent $g(\\varphi(\\theta), x)$ (Difficulty $\\star$)\n",
    "- **Question 7.6**: (Difficulty $\\star$, simple algebraic derivation)\n",
    "- **Question 7.7**: (Difficulty $\\star$, simple algebraic derivation)"
   ]
  }
 ],
 "metadata": {
  "kernelspec": {
   "display_name": "Python 3 (ipykernel)",
   "language": "python",
   "name": "python3"
  },
  "language_info": {
   "codemirror_mode": {
    "name": "ipython",
    "version": 3
   },
   "file_extension": ".py",
   "mimetype": "text/x-python",
   "name": "python",
   "nbconvert_exporter": "python",
   "pygments_lexer": "ipython3",
   "version": "3.9.4"
  }
 },
 "nbformat": 4,
 "nbformat_minor": 1
}
