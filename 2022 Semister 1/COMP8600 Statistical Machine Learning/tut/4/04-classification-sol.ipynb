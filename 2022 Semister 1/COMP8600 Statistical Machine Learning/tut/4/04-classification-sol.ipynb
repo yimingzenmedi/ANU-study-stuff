{
 "cells": [
  {
   "cell_type": "markdown",
   "metadata": {},
   "source": [
    "# Classification\n",
    "\n",
    "###### COMP4670/8600 - Statistical Machine Learning - Tutorial"
   ]
  },
  {
   "cell_type": "markdown",
   "metadata": {},
   "source": [
    "In this lab we will build, train, and test a logistic regression classifier.\n",
    "\n",
    "### Assumed knowledge:\n",
    "\n",
    "- Optimisation in Python (lab)\n",
    "- Regression (lab)\n",
    "- Binary classification with logistic regression (lectures)\n",
    "\n",
    "### After this lab, you should be comfortable with:\n",
    "\n",
    "- Implementing logistic regression\n",
    "- Practical binary classification problems"
   ]
  },
  {
   "cell_type": "code",
   "execution_count": 1,
   "metadata": {},
   "outputs": [],
   "source": [
    "import matplotlib.pyplot as plt\n",
    "import numpy as np\n",
    "import scipy.optimize as opt\n",
    "\n",
    "%matplotlib inline"
   ]
  },
  {
   "cell_type": "markdown",
   "metadata": {},
   "source": [
    "## The data set\n",
    "\n",
    "We will be working with the census-income dataset, which shows income levels for people in the 1994 US Census. We will predict whether a person has $\\leq \\$50000$ or $> \\$50000$ income per year.\n",
    "\n",
    "The data are included with this notebook as `04-dataset.tsv`, a textfile where in each row of data, the individual entries are delimited by tab characters. Download the data from the [course website](https://machlearn.gitlab.io/sml2020/tutorials/04-dataset.tsv)\n",
    "Load the data into a NumPy array called `data` using `numpy.genfromtxt`:\n",
    "\n",
    "```python\n",
    "    numpy.genfromtxt(filename)\n",
    "```\n",
    "\n",
    "The column names are given in the variable `columns` below.\n",
    "The `income` column are the targets, and the other columns will form our data used to try and guess the `income`"
   ]
  },
  {
   "cell_type": "code",
   "execution_count": 2,
   "metadata": {},
   "outputs": [],
   "source": [
    "columns = ['income', 'age', 'education', 'private-work', 'married', 'capital-gain', 'capital-loss', 'hours-per-week']"
   ]
  },
  {
   "cell_type": "code",
   "execution_count": 3,
   "metadata": {},
   "outputs": [],
   "source": [
    "data_raw = np.genfromtxt(\"04-dataset.tsv\")"
   ]
  },
  {
   "cell_type": "markdown",
   "metadata": {},
   "source": [
    "## Recap - Binary classification\n",
    "\n",
    "The idea behind this lab is that for each person, we want to\n",
    "try and predict if their income is above the threshold of $\\$50,000$ or not,\n",
    "based on a series of other data about their person: `age, education,...`.\n",
    "\n",
    "As per usual, for the $n^\\text{th}$ row, the first entry is the target $t_n$, and the rest\n",
    "forms the data vector $\\mathbf{x}_n$.\n",
    "\n",
    "We have two classes, $C_1$ representing the class of $ <\\$ 50,000$, which corresponds to\n",
    "a target of $t_n = 0$, and $C_2$, representing the class of $ >\\$50,000$, corresponding to\n",
    "a target of $t_n = 1$. Our objective is to learn a discriminative function $f_{\\mathbf{w}}(\\mathbf{x})$,\n",
    "parametrised by a weight vector $\\mathbf{w}$ that\n",
    "predicts which income class the person is in, based on the data given.\n",
    "\n",
    "We assume that each piece of information $(t_n, \\mathbf{x}_n)$ is i.i.d, and\n",
    "that there is some hidden probability distribution from which these target/data points are drawn.\n",
    "We will construct a likelihood function that indicates \"What is the likelihood of this particular\n",
    "weight vector $\\mathbf{w}$ having generated the observed training data $\\left\\{(t_n, \\mathbf{x}_n)\\right\\}_{n=1}^N$\".\n",
    "\n",
    "## Recap - Feature map, basis function\n",
    "\n",
    "Now some classes are not linearly seperable (we cannot draw a line such that all of one class is on one side,\n",
    "and all of the other class is on the other side). But by applying many fixed non-linear \n",
    "transformations to the inputs $\\mathbf{x}_n$ first, for some suitable choice\n",
    "of transformation $\\phi$ the result will usually be linearly separable\n",
    "(See week 3, pg 342 of the lecture slides).\n",
    "\n",
    "We let\n",
    "$$\n",
    "\\mathbf{\\phi}_n := \\phi(\\mathbf{x}_n)\n",
    "$$\n",
    "\n",
    "and work in this feature space rather than the input space.\n",
    "For the case of two classes, we could guess that the target is a linear combination of the features,\n",
    "$$\n",
    "\\hat{t}_n = \\mathbf{w}^T \\mathbf{\\phi}_n\n",
    "$$\n",
    "but $\\mathbf{w}^T \\mathbf{\\phi}_n$ is a real number, and we want $\\hat{t}_n \\in \\{0,1\\}$.\n",
    "We could threshold the result,\n",
    "$$\n",
    "\\hat{t}_n =\n",
    "\\begin{cases}\n",
    "1 & \\mathbf{w}^T \\mathbf{\\phi}_n \\geq 0 \\\\\n",
    "0 & \\mathbf{w}^T \\mathbf{\\phi}_n < 0\n",
    "\\end{cases}\n",
    "$$\n",
    "but the discontinuity makes it impossible to define a sensible gradient. \n",
    "\n",
    "## Recap - Logistic Regression\n",
    "\n",
    "(We assume that the classes are already linearly seperable, and use our input space as our feature space.\n",
    "We also assume the data is i.i.d).\n",
    "\n",
    "Instead of using a hard threshold like above, in logistic regression\n",
    "we can use the sigmoid function $\\sigma(a)$\n",
    "$$\n",
    "\\sigma(a) := \\frac{1}{1 + e^{-a}}\n",
    "$$\n",
    "which has the intended effect of \"squishing\" the real line to the interval $[0,1]$.\n",
    "This gives a smooth version of the threshold function above, that we can differentiate.\n",
    "The numbers it returns can be interpreted as a probability of the estimated target $\\hat{t}$ belonging\n",
    "to a class $C_i$ given the element $\\phi$ of feature space. In the case of two classes, we define\n",
    "\n",
    "\\begin{align}\n",
    "p(C_1 | \\phi ) &:= \\sigma (\\mathbf{w}^T \\phi_n) = y_n \\\\\n",
    "p(C_2 | \\phi ) &:= 1 - p(C_1 | \\phi_n)= 1- y_n\n",
    "\\end{align}\n",
    "\n",
    "\n",
    "The likelihood function $p(\\mathbf{t} | \\mathbf{w}, \\mathbf{x})$ is what we want to maximise as a function\n",
    "of $\\mathbf{w}$. Since $\\mathbf{x}$ is fixed, we usually write the likelihood function as $p(\\mathbf{t} | \\mathbf{w})$.\n",
    "\n",
    "$$\n",
    "\\begin{align}\n",
    "p(\\mathbf{t} | \\mathbf{w})\n",
    "&= \\prod_{n=1}^N p(t_n | \\mathbf{w}) \\\\\n",
    "&= \\prod_{n=1}^N \n",
    "\\begin{cases}\n",
    "p(C_1 | \\phi_n) & t_n = 1 \\\\\n",
    "p(C_2 | \\phi_n) & t_n = 0\n",
    "\\end{cases}\n",
    "\\end{align}\n",
    "$$\n",
    "Note that\n",
    "$$\n",
    "\\begin{cases}\n",
    " y_n & t_n = 1 \\\\\n",
    "1 - y_n & t_n = 0\n",
    "\\end{cases}\n",
    "= y_n^{t_n} (1-y_n)^{1-t_n}\n",
    "$$\n",
    "as if $t_n = 1$, then $y_n^1 (1-y_n)^{1-1} = y_n$ and if $t_n = 0$ then $y_n^0 (1-y_n)^{1-0} = 1-y_n$.\n",
    "This is why we use the strange encoding of $t_n=0$ corresponds to $C_2$ and $t_n=1$ corresponds to $C_1$.\n",
    "Hence, our likelihood function is \n",
    "$$\n",
    "p(\\mathbf{t} | \\mathbf{w}) = \\prod_{n=1}^N y_n^{t_n} (1-y_n)^{1-t_n}, \\quad y_n = \\sigma(\\mathbf{w}^T \\phi_n)\n",
    "$$\n",
    "This function is quite unpleasant to try and differentiate, but we note that $p(\\mathbf{t} | \\mathbf{w})$\n",
    "is maximised when $\\log p(\\mathbf{t} | \\mathbf{w})$ is maximised.\n",
    "\\begin{align}\n",
    "\\log p(\\mathbf{t} | \\mathbf{w}) \n",
    "&= \\log \\prod_{n=1}^N y_n^{t_n} (1-y_n)^{1-t_n} \\\\\n",
    "&= \\sum_{n=1}^N \\log \\left( y_n^{t_n} (1-y_n)^{1-t_n} \\right) \\\\\n",
    "&= \\sum_{n=1}^N \\left( t_n \\log y_n +  (1-t_n) \\log (1-y_n) \\right)\n",
    "\\end{align}\n",
    "Which is maximised when $- \\log p(\\mathbf{t} | \\mathbf{w})$ is minimised, giving us our error function.\n",
    "$$\n",
    "E(\\mathbf{w}) := - \\sum_{n=1}^N \\left( t_n \\log y_n +  (1-t_n) \\log (1-y_n) \\right)\n",
    "$$\n",
    "We can then take the derivative of this, which gives us\n",
    "$$\n",
    "\\nabla_\\mathbf{w} E(\\mathbf{w}) = \\sum_{n=1}^N (y_n - t_n) \\phi_n\n",
    "$$\n",
    "\n",
    "(Note: We also usually divide the error by the number of data points, to obtain the average error. The error\n",
    "shouldn't get 10 times as large just because there is more data avaliable, so we should divide by the\n",
    "number of error points to reflect that.)"
   ]
  },
  {
   "cell_type": "markdown",
   "metadata": {},
   "source": [
    "## Q1. Derivative of binary cross entropy\n",
    "Take the derivative of $E(\\mathbf{w})$, and show that it is equal to the above. Note that the derivative doesn't have any sigmoid functions. (Hint: Use the identity $\\sigma'(a) = \\sigma(a) \\left( 1- \\sigma(a) \\right)$ to simplify)."
   ]
  },
  {
   "cell_type": "markdown",
   "metadata": {},
   "source": [
    "### solution:\n",
    "Given in the lecture notes"
   ]
  },
  {
   "cell_type": "markdown",
   "metadata": {},
   "source": [
    "## Q2. $L_2$ regularisation, Gaussian prior\n",
    "\n",
    "Now we consider an isotropic guassian prior for $\\mathbf{w}$ (i.e. $w \\sim \\mathcal{N}(\\mathbf{0},\\alpha^{-1}I) $). Use the likelihood we derived above and the Gaussian prior, show that the error function could be writen as $$ E(\\mathbf{w}) = - (\\sum_{n=1}^N \\left( t_n \\log y_n +  (1-t_n) \\log (1-y_n) \\right)) + \\frac{\\lambda}{2}\\Vert \\mathbf{w} \\Vert_2^2$$ for some $\\lambda$. Write out the relation between $\\lambda$ and $\\alpha$.\n",
    "\n",
    "Hint: Derive the negative logarithm of posterior $p(\\mathbf{w}|\\mathbf{t})$ and discard the constants."
   ]
  },
  {
   "cell_type": "markdown",
   "metadata": {},
   "source": [
    "### solution:\n",
    "\n",
    "By bayes formula, we know that $p(\\mathbf{w}|t) \\propto p(t|\\mathbf{w})p(\\mathbf{w})$. Hence, the error function could be written as\n",
    "$$\n",
    "\\begin{align}\n",
    "E(\\mathbf{w}) &= -\\log p(\\mathbf{t}|\\mathbf{w}) - \\log p(\\mathbf{w}) \\\\\n",
    "&=  - \\left(\\sum_{n=1}^N \\left( t_n \\log y_n +  (1-t_n) \\log (1-y_n) \\right)\\right) + \\frac{\\alpha}{2}\\Vert \\mathbf{w} \\Vert_2^2 + const.\n",
    "\\end{align}\n",
    "$$\n",
    "And $\\lambda = \\alpha$."
   ]
  },
  {
   "cell_type": "markdown",
   "metadata": {},
   "source": [
    "## Q3. Derivative of binary cross entropy with regularisation\n",
    "Take the derivative of $E(\\mathbf{w})$ again, accounting for the added regularisation term."
   ]
  },
  {
   "cell_type": "markdown",
   "metadata": {},
   "source": [
    "### solution:\n",
    "$$\\sum_{n=1}^N (y_n - t_n) \\phi_n + \\alpha \\mathbf{w}$$"
   ]
  },
  {
   "cell_type": "markdown",
   "metadata": {},
   "source": [
    "## Q4. Classification with logistic regression\n",
    "\n",
    "Implement binary classification using logistic regression and $L_2$ regularisation. Make sure you write good quality code with comments and docstrings where appropriate. In this question, we use the mean error function defined above.\n",
    "\n",
    "$$ E(\\mathbf{w}) = \\frac{1}{N}\\left\\{-\\left(\\sum_{n=1}^N \\left( t_n \\log y_n +  (1-t_n) \\log (1-y_n)\\right)\\right) + \\frac{\\lambda}{2}\\Vert \\mathbf{w} \\Vert_2^2\\right\\}$$\n",
    "\n",
    "To optimise your cost function, we will implement a stochastic gradient descent algorithm by hand. We first recall that, in (full-batch) gradient descent, the iteration formula is given by $$ \\mathbf{w}_{k+1} = \\mathbf{w}_k - \\eta\\nabla_{\\mathbf{w}}E(\\mathbf{w}_k),$$ where $\\eta$ is the learning rate. For stochatsic gradient descent, instead of using the full dataset in each iteration, we will divide the dataset into several mini-batches and use the gradient with respect to one mini-batch to update the parameter in each iteration. Specificly, we first write our regulariser into the sum, \n",
    "$$ E(\\mathbf{w}) = \\frac{1}{N}\\sum_{n=1}^N \\left\\{ -\\left(t_n \\log y_n +  (1-t_n) \\log (1-y_n)\\right) + \\frac{\\lambda}{2N}\\Vert \\mathbf{w} \\Vert_2^2 \\right\\}.$$ Then, for a minibatch $\\mathcal{B}_i$ (suppose $\\mathcal{B}_i$ is a set of indices), the stochastic gradient $g_{\\mathcal{B}_i}$ could be defined as \n",
    "$$ g_{\\mathcal{B}_i}(\\mathbf{w}_k) = \\frac{1}{N_{\\mathcal{B}_i}}\\nabla_\\mathbf{w}\\left\\{\\sum_{n\\in\\mathcal{B}_i} \\left\\{ -\\left(t_n \\log y_n +  (1-t_n) \\log (1-y_n)\\right) + \\frac{\\lambda}{2N}\\Vert \\mathbf{w} \\Vert_2^2 \\right\\}\\right\\}\\Bigg\\vert_{\\mathbf{w} = \\mathbf{w}_k}.$$ In each step, the updation formula is given by $$ \\mathbf{w}_{k+1} = \\mathbf{w}_{k} - \\eta g_{\\mathcal{B}_i}(\\mathbf{w}_k).$$ Note that, for each iteration, we can choose a mini-batch in turn.\n",
    "\n",
    "\n",
    "By above equations, implement five functions:\n",
    "\n",
    "- `cost(w, X, t, a, N)`, which calculates the value of the cost function in a mini-batch,\n",
    "- `grad(w, X, t, a, N)`, which calculates the (stochastic) gradient of the cost function in a mini-batch,\n",
    "- `create_mini_batches(X_train, t_train, num_batches)`, which creates a list of mini-batch,\n",
    "- `train(X_train, t_train, a, learning_rate, num_iterations, num_batches)`, which returns the maximum likelihood weight vector using stochastic gradient desecent, and\n",
    "- `predict(w, X)`, which returns predicted class probabilities,\n",
    "\n",
    "where \n",
    "* $\\mathbf{w}$ is a weight vector, \n",
    "* $X$ is a matrix of examples, \n",
    "* $t$ is a vector of labels/targets, \n",
    "* $a$ is the regularisation weight. \n",
    "\n",
    "(We would use $\\lambda$ for the regularisation term, but `a` is easier to type than `lambda`, and\n",
    "`lambda` is a reserved keyword in python, for lambda functions).\n",
    "\n",
    "See below for expected usage.\n",
    "\n",
    "We add an extra column of ones to represent the bias term.\n",
    "\n",
    "## Note\n",
    "\n",
    "* You should use 80% of the data as your training set, and 20% of the data as your test set.\n",
    "* You also may want to normalise the data before hand. If the magnitude of $\\mathbf{w}^T \\phi_n$\n",
    "is very large, the gradient of $\\sigma(\\mathbf{w}^T \\phi_n)$ will be very near zero, which can\n",
    "cause convergence issues during numerical minimisation. If each element in a particular column is\n",
    "multiplied by a scalar (say, all elements of the `age` column) then the result is essentially the same\n",
    "as stretching the space in which the data lives. The model will also be proportionally stretched,\n",
    "but will not fundamentally change the behaviour. So by normalising each column, we can avoid\n",
    "issues related to numerical convergence."
   ]
  },
  {
   "cell_type": "code",
   "execution_count": 4,
   "metadata": {},
   "outputs": [
    {
     "data": {
      "text/plain": [
       "(32561, 9)"
      ]
     },
     "execution_count": 4,
     "metadata": {},
     "output_type": "execute_result"
    }
   ],
   "source": [
    "assert data_raw.shape[1] == len(columns)\n",
    "data = np.concatenate([data_raw, np.ones((data_raw.shape[0], 1))], axis=1)  # add a column of ones\n",
    "data.shape"
   ]
  },
  {
   "cell_type": "markdown",
   "metadata": {},
   "source": [
    "### Q4a. Define the loss and gradient\n",
    "Implement sigmoid function, binary cross entropy and the gradient of the error function as defined above. Note that the `cost` and `grad` function could work both in the full batch or mini-batches (by tunning the parameter `N`)."
   ]
  },
  {
   "cell_type": "code",
   "execution_count": 5,
   "metadata": {},
   "outputs": [],
   "source": [
    "def sigmoid(a):\n",
    "    \n",
    "    return 1 / (1 + np.exp(-a))\n",
    "\n",
    "def cost(w, X, t, a, N): # N is the total sample size\n",
    "    y = predict(w, X)\n",
    "    l2 = (w**2).sum() * a/2\n",
    "    likelihood = t @ np.log(y) + (1 - t) @ np.log(1 - y)\n",
    "    cost = (l2 - likelihood)/N\n",
    "    return cost\n",
    "\n",
    "def stochastic_grad(w, X, t, a, N, N_batch): # N is the total sample size\n",
    "    y = predict(w, X)\n",
    "    return ((X * (y.reshape(t.shape) - t).reshape((X.shape[0],1))).sum(axis=0))/N_batch + (a/N) * w\n",
    "\n",
    "def batch_grad(w, X, t, a, N): # N is the total sample size\n",
    "    y = predict(w, X)\n",
    "    return ((X * (y - t)[:, None]).sum(axis=0) + a * w )/N"
   ]
  },
  {
   "cell_type": "code",
   "execution_count": 6,
   "metadata": {},
   "outputs": [],
   "source": [
    "# Code for splitting data into train and test with ratio 80/20\n",
    "\n",
    "N = np.shape(data)[0]\n",
    "num_train = int(0.8*N)\n",
    "t_train = data[:num_train,0]\n",
    "t_test = data[num_train:, 0]\n",
    "#32561\n",
    "norm_data = data[:, 1:] / data[:, 1:].sum(axis=0, keepdims=True)\n",
    "X_train = norm_data[:num_train, :]\n",
    "X_test = norm_data[num_train:, :]\n",
    "assert X_test.shape[1] == len(columns)\n",
    "x_columns = columns[1:] + ['bias']"
   ]
  },
  {
   "cell_type": "markdown",
   "metadata": {},
   "source": [
    "### Q4b. Divide mini-batches\n",
    "Given the training set and the number of minibatches we want, implememt the function `create_mini_batches` which will return a list of tuples such that each tuple represents a mini-batch which contains features and corresponding targets. (i.e. the output should be $[(X_1,t_1), (X_2,t_2), \\ldots, (X_{num\\_batches},t_{num\\_batches})])$\n",
    "\n",
    "Hint: Use `np.random.shuffle()` to shuffle the dataset first. Make sure training data are spread as evenly as you can."
   ]
  },
  {
   "cell_type": "code",
   "execution_count": 7,
   "metadata": {},
   "outputs": [],
   "source": [
    "def create_mini_batches(X_train, t_train, num_batches):\n",
    "    mini_batches = []\n",
    "    data = np.hstack((X_train, t_train.reshape((X_train.shape[0],1))))\n",
    "    np.random.shuffle(data)\n",
    "    batch_size = data.shape[0] // num_batches\n",
    "  \n",
    "    for i in range(num_batches + 1):\n",
    "        mini_batch = data[i * batch_size:(i + 1)*batch_size, :]\n",
    "        X_mini = mini_batch[:, :-1]\n",
    "        Y_mini = mini_batch[:, -1].reshape((-1, 1))\n",
    "        mini_batches.append((X_mini, Y_mini))\n",
    "    return mini_batches"
   ]
  },
  {
   "cell_type": "markdown",
   "metadata": {},
   "source": [
    "### Q4c. Train the model\n",
    "Implement the function `train(mini_batches, a, learning_rate, num_iterations)` which returns the maximum likelihood weight vector using stochastic gradient desecent. You can tune your `learning_rate` and `num_iterations` to attain better performance. \n",
    "\n",
    "Hint: You can try to plot the loss-iteration curve to make sure your algorithm converge properly."
   ]
  },
  {
   "cell_type": "code",
   "execution_count": 8,
   "metadata": {},
   "outputs": [],
   "source": [
    "# Code for training the model and making predictions\n",
    "\n",
    "def train(X_train, t_train, a, learning_rate, num_iterations, num_batches):  # a is regularisation parameter\n",
    "    \n",
    "    # Keep track of loss value\n",
    "    loss_his = []\n",
    "    \n",
    "    # Create mini-batches\n",
    "    mini_batches = create_mini_batches(X_train, t_train, num_batches)\n",
    "    \n",
    "    # Initialise parameter\n",
    "    w = np.random.randn(X_train.shape[1])\n",
    "    \n",
    "    # Train\n",
    "    for i in range(num_iterations):\n",
    "        batch_num = np.mod(i, num_batches)\n",
    "        s_grad = stochastic_grad(w, mini_batches[batch_num][0], mini_batches[batch_num][1],a, 32561,mini_batches[batch_num][0].shape[0])\n",
    "        w -= learning_rate * s_grad\n",
    "        loss = cost(w, X_train, t_train, a, X_train.shape[0])\n",
    "        loss_his.append(loss)\n",
    "        \n",
    "        # print the loss per 1000 iters\n",
    "        if np.mod(i,1000) == 0:\n",
    "            print(\"*\"*40)\n",
    "            print(\"The loss in iteration \",i, \" is \",loss)\n",
    "    \n",
    "    \n",
    "    plt.xlabel(\"# iterations\")\n",
    "    plt.ylabel(\"loss\")\n",
    "    plt.plot(loss_his)\n",
    "    \n",
    "    return w\n",
    "\n",
    "def predict(w, X):\n",
    "    return sigmoid(X @ w)"
   ]
  },
  {
   "cell_type": "markdown",
   "metadata": {},
   "source": [
    "### Q4d. Make predictions\n",
    "Use the code above to train your model by calculating the weights for your model and making predictions for the test data.\n",
    "\n",
    "Hint: Compare your training loss with the one using `opt.fmin_bfgs`, your resulting loss should be better or roughly equal to the one computed by inbuilt functions.\n",
    "This is not easy to train, please restart and potentially tune the hyperparameters if youre loss diverge or you get a bad generalisation."
   ]
  },
  {
   "cell_type": "code",
   "execution_count": 9,
   "metadata": {},
   "outputs": [
    {
     "name": "stdout",
     "output_type": "stream",
     "text": [
      "****************************************\n",
      "The loss in iteration  0  is  0.6931370189314874\n",
      "****************************************\n",
      "The loss in iteration  1000  is  0.6931334911959091\n",
      "****************************************\n",
      "The loss in iteration  2000  is  0.6931302023355682\n",
      "****************************************\n",
      "The loss in iteration  3000  is  0.6931271372393168\n",
      "****************************************\n",
      "The loss in iteration  4000  is  0.6931242817235441\n",
      "****************************************\n",
      "The loss in iteration  5000  is  0.6931216224760548\n",
      "****************************************\n",
      "The loss in iteration  6000  is  0.6931191470033191\n",
      "****************************************\n",
      "The loss in iteration  7000  is  0.6931168435808911\n",
      "****************************************\n",
      "The loss in iteration  8000  is  0.6931147012068094\n",
      "****************************************\n",
      "The loss in iteration  9000  is  0.6931127095577978\n",
      "****************************************\n",
      "The loss in iteration  10000  is  0.6931108589481018\n",
      "****************************************\n",
      "The loss in iteration  11000  is  0.6931091402907986\n",
      "****************************************\n",
      "The loss in iteration  12000  is  0.6931075450614386\n",
      "****************************************\n",
      "The loss in iteration  13000  is  0.6931060652638716\n",
      "****************************************\n",
      "The loss in iteration  14000  is  0.6931046933981337\n",
      "****************************************\n",
      "The loss in iteration  15000  is  0.6931034224302652\n",
      "****************************************\n",
      "The loss in iteration  16000  is  0.6931022457639475\n",
      "****************************************\n",
      "The loss in iteration  17000  is  0.6931011572138513\n",
      "****************************************\n",
      "The loss in iteration  18000  is  0.6931001509805871\n",
      "****************************************\n",
      "The loss in iteration  19000  is  0.6930992216271696\n",
      "****************************************\n",
      "The loss in iteration  20000  is  0.6930983640569004\n",
      "****************************************\n",
      "The loss in iteration  21000  is  0.6930975734925846\n",
      "****************************************\n",
      "The loss in iteration  22000  is  0.6930968454570036\n",
      "****************************************\n",
      "The loss in iteration  23000  is  0.6930961757545641\n",
      "****************************************\n",
      "The loss in iteration  24000  is  0.6930955604540591\n",
      "****************************************\n",
      "The loss in iteration  25000  is  0.6930949958724683\n",
      "****************************************\n",
      "The loss in iteration  26000  is  0.6930944785597379\n",
      "****************************************\n",
      "The loss in iteration  27000  is  0.6930940052844822\n",
      "****************************************\n",
      "The loss in iteration  28000  is  0.6930935730205491\n",
      "****************************************\n",
      "The loss in iteration  29000  is  0.6930931789343991\n",
      "****************************************\n",
      "The loss in iteration  30000  is  0.6930928203732502\n",
      "****************************************\n",
      "The loss in iteration  31000  is  0.6930924948539374\n",
      "****************************************\n",
      "The loss in iteration  32000  is  0.6930922000524522\n",
      "****************************************\n",
      "The loss in iteration  33000  is  0.693091933794113\n",
      "****************************************\n",
      "The loss in iteration  34000  is  0.6930916940443339\n",
      "****************************************\n",
      "The loss in iteration  35000  is  0.6930914788999523\n",
      "****************************************\n",
      "The loss in iteration  36000  is  0.693091286581085\n",
      "****************************************\n",
      "The loss in iteration  37000  is  0.6930911154234802\n",
      "****************************************\n",
      "The loss in iteration  38000  is  0.6930909638713306\n",
      "****************************************\n",
      "The loss in iteration  39000  is  0.6930908304705283\n",
      "Your training loss is:\n",
      "0.6930907137879362\n",
      "The training loss using opt.fmin_bfgs is:\n",
      "0.6931167319234615\n",
      "The predictions are:\n",
      "[0.49992622 0.49993207 0.49991632 ... 0.49991889 0.49993641 0.50024475]\n",
      "The trained parameters are:\n",
      "[-1.57921928 -1.94229408 -2.00624504 -0.55232583  2.90379519 -0.02154688\n",
      " -1.63319868 -1.96151947]\n"
     ]
    },
    {
     "data": {
      "image/png": "[encoded data removed]",
      "text/plain": [
       "<Figure size 432x288 with 1 Axes>"
      ]
     },
     "metadata": {
      "needs_background": "light"
     },
     "output_type": "display_data"
    }
   ],
   "source": [
    "w_train = train(X_train, t_train, 0.1, 10, 40000, 200)  \n",
    "# TODO：This is not easy to train, please restart and potentially tune the hyperparameters if youre loss diverge or you get a bad generalisation.\n",
    "print('Your training loss is:')\n",
    "print(cost(w_train, X_train, t_train, 0.1, X_train.shape[0]))\n",
    "w_train_bfgs = opt.fmin_bfgs(\n",
    "        f=cost, fprime=batch_grad, x0=np.random.normal(scale=0.2, size=(X_train.shape[1],)), args=(X_train, t_train, 0.1, X_train.shape[0]), disp=0)\n",
    "print('The training loss using opt.fmin_bfgs is:')\n",
    "print(cost(w_train_bfgs, X_train, t_train, 0.1, X_train.shape[0]))\n",
    "t_test_pred = predict(w_train, X_test)  # TODO\n",
    "print('The predictions are:')\n",
    "print(t_test_pred)\n",
    "print('The trained parameters are:')\n",
    "print(w_train)"
   ]
  },
  {
   "cell_type": "markdown",
   "metadata": {},
   "source": [
    "## Q5. Performance measure\n",
    "\n",
    "There are many ways to compute the performance of a binary classifier. The key concept is the idea of a confusion matrix:\n",
    "\n",
    "|     &nbsp;         | &nbsp;  | Label | &nbsp;  |\n",
    "|:-------------:|:--:|:-----:|:--:|\n",
    "|     &nbsp;         |  &nbsp;  |  0    | 1  |\n",
    "|**Prediction**| 0  |    TN | FN |\n",
    "|      &nbsp;        | 1  |    FP | TP |\n",
    "\n",
    "where\n",
    "* TP - true positive\n",
    "* FP - false positive\n",
    "* FN - false negative\n",
    "* TN - true negative\n",
    "\n",
    "Implement three functions:\n",
    "\n",
    "- `confusion_matrix(y_true, y_pred)`, which returns the confusion matrix as a list of lists given a list of true labels and a list of predicted labels;\n",
    "- `accuracy(cm)`, which takes a confusion matrix and returns the accuracy; and\n",
    "- `balanced_accuracy(cm)`, which takes a confusion matrix and returns the balanced accuracy.\n",
    "\n",
    "The accuracy is defined as $\\frac{TP + TN}{n}$, where $n$ is the total number of examples. The balanced accuracy is defined as $\\frac{1}{2}\\left(\\frac{TP}{P} + \\frac{TN}{N}\\right)$, where $T$ and $N$ are the total number of positive and negative examples respectively."
   ]
  },
  {
   "cell_type": "code",
   "execution_count": 10,
   "metadata": {},
   "outputs": [],
   "source": [
    "# solution\n",
    "def confusion_matrix(t_true, t_pred):\n",
    "    t_pred = t_pred > 0.5\n",
    "    t_true = t_true > 0.5\n",
    "    tp = ((t_true == t_pred) & (t_true)).sum()\n",
    "    tn = ((t_true == t_pred) & (~t_true)).sum()\n",
    "    fp = ((t_true != t_pred) & (~t_true)).sum()\n",
    "    fn = ((t_true != t_pred) & (t_true)).sum()\n",
    "    return [[tn, fn], [fp, tp]]\n",
    "\n",
    "def accuracy(cm):\n",
    "    (TN, FN), (FP, TP) = cm\n",
    "    return (TN + TP) / (TN + FN + FP + TP)\n",
    "\n",
    "def balanced_accuracy(cm):\n",
    "    (TN, FN), (FP, TP) = cm\n",
    "    return (TN / (TN + FP) + TP / (TP + FN)) / 2"
   ]
  },
  {
   "cell_type": "markdown",
   "metadata": {},
   "source": [
    "## Accuracy vs balanced accuracy\n",
    "\n",
    "What is the purpose of balanced accuracy? When might you prefer it to accuracy?"
   ]
  },
  {
   "cell_type": "markdown",
   "metadata": {},
   "source": [
    "### solution\n",
    "Balanced accuracy accounts for class imbalance. In the extreme case, you would use it if you have imbalanced classes.\n",
    "For example, suppose you had some model that you were trying to learn if a patient had cancer based on\n",
    "MRI scan data, and the prior probability on any one person having cancer is 0.1%.\n",
    "Out of thousands of training examples, only a handful might actually have cancer. By just making the model always\n",
    "say \"no, this person doesn't have cancer\" it's already 99.9% accurate. During training, the model may just \n",
    "naturally do this, by overfitting to the cases where cancer was not present.\n",
    "But the penalty for a false positive \n",
    "(the model says you have cancer when you don't) is far less bad than a false negative (the model says you are okay when you do have cancer). So we need our accuracy to be weighted by the number of training examples."
   ]
  },
  {
   "cell_type": "markdown",
   "metadata": {},
   "source": [
    "## Putting everything together\n",
    "\n",
    "Consider the following code which computes the accuracy and balanced accuracy. Discuss the results. (Your accuaray shoud be around `[0.75,0.5]`, you can retrain the model if your accuracy is not satisfying)"
   ]
  },
  {
   "cell_type": "code",
   "execution_count": 11,
   "metadata": {},
   "outputs": [
    {
     "data": {
      "text/plain": [
       "[0.7933364041148472, 0.5941260431508244]"
      ]
     },
     "execution_count": 11,
     "metadata": {},
     "output_type": "execute_result"
    }
   ],
   "source": [
    "cmatrix = confusion_matrix(t_test, t_test_pred)\n",
    "[accuracy(cmatrix), balanced_accuracy(cmatrix)]"
   ]
  },
  {
   "cell_type": "markdown",
   "metadata": {},
   "source": [
    "### solution\n",
    "We get higher accuracy than balanced accuracy. This means that our data are class-imbalanced, and logistic regression may be over-fitting."
   ]
  },
  {
   "cell_type": "markdown",
   "metadata": {},
   "source": [
    "## Q6. Looking back at the prediction task\n",
    "\n",
    "Based on your results, what feature of the dataset is most useful for determining the income level? What feature is least useful? Why?\n",
    "\n",
    "Hint: take a look at ```w_train```."
   ]
  },
  {
   "cell_type": "code",
   "execution_count": 12,
   "metadata": {},
   "outputs": [
    {
     "name": "stdout",
     "output_type": "stream",
     "text": [
      "('age', -1.579219284110021)\n",
      "('education', -1.9422940836578835)\n",
      "('private-work', -2.006245037207752)\n",
      "('married', -0.5523258314939528)\n",
      "('capital-gain', 2.9037951894794856)\n",
      "('capital-loss', -0.021546876511379355)\n",
      "('hours-per-week', -1.6331986818810098)\n",
      "('bias', -1.9615194689583941)\n",
      "capital-gain is the most important feature as it has the highest magnitude of weight\n"
     ]
    },
    {
     "data": {
      "image/png": "[encoded data removed]",
      "text/plain": [
       "<Figure size 432x288 with 1 Axes>"
      ]
     },
     "metadata": {
      "needs_background": "light"
     },
     "output_type": "display_data"
    }
   ],
   "source": [
    "# solution\n",
    "assert len(w_train) == len(x_columns)\n",
    "plt.bar(range(len(w_train)-1), w_train[:-1])\n",
    "plt.ylabel('importance')\n",
    "plt.xlabel('features')\n",
    "plt.xticks(range(len(w_train)-1), x_columns[:-1], rotation='vertical');\n",
    "print('\\n'.join(map(str, list(zip(x_columns, w_train)))))\n",
    "\n",
    "# ignore the last weight (bias):\n",
    "i_w_abs_max = np.argmax(np.abs(w_train[:-1])) \n",
    "# skip the first column, which is for the target\n",
    "print(x_columns[i_w_abs_max], 'is the most important feature as it has the highest magnitude of weight')\n"
   ]
  },
  {
   "cell_type": "code",
   "execution_count": null,
   "metadata": {},
   "outputs": [],
   "source": []
  },
  {
   "cell_type": "code",
   "execution_count": null,
   "metadata": {},
   "outputs": [],
   "source": []
  }
 ],
 "metadata": {
  "kernelspec": {
   "display_name": "Python 3 (ipykernel)",
   "language": "python",
   "name": "python3"
  },
  "language_info": {
   "codemirror_mode": {
    "name": "ipython",
    "version": 3
   },
   "file_extension": ".py",
   "mimetype": "text/x-python",
   "name": "python",
   "nbconvert_exporter": "python",
   "pygments_lexer": "ipython3",
   "version": "3.8.12"
  }
 },
 "nbformat": 4,
 "nbformat_minor": 2
}
